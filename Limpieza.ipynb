{
 "cells": [
  {
   "cell_type": "code",
   "execution_count": 42,
   "id": "5d1849c9",
   "metadata": {},
   "outputs": [
    {
     "ename": "SyntaxError",
     "evalue": "unexpected EOF while parsing (CleaningFunctions.py, line 27)",
     "output_type": "error",
     "traceback": [
      "Traceback \u001b[0;36m(most recent call last)\u001b[0m:\n",
      "  File \u001b[1;32m\"/Users/alvaro/opt/anaconda3/envs/Ironhack/lib/python3.8/site-packages/IPython/core/interactiveshell.py\"\u001b[0m, line \u001b[1;32m3417\u001b[0m, in \u001b[1;35mrun_code\u001b[0m\n    exec(code_obj, self.user_global_ns, self.user_ns)\n",
      "\u001b[0;36m  File \u001b[0;32m\"<ipython-input-42-bd314e0e4c21>\"\u001b[0;36m, line \u001b[0;32m3\u001b[0;36m, in \u001b[0;35m<module>\u001b[0;36m\u001b[0m\n\u001b[0;31m    import src.CleaningFunctions as cf\u001b[0m\n",
      "\u001b[0;36m  File \u001b[0;32m\"/Users/alvaro/Downloads/IronHack/Pandas-Proyect/src/CleaningFunctions.py\"\u001b[0;36m, line \u001b[0;32m27\u001b[0m\n\u001b[0;31m    \u001b[0m\n\u001b[0m    ^\u001b[0m\n\u001b[0;31mSyntaxError\u001b[0m\u001b[0;31m:\u001b[0m unexpected EOF while parsing\n"
     ]
    }
   ],
   "source": [
    "import pandas as pd\n",
    "import numpy as np\n",
    "import src.CleaningFunctions as cf\n",
    "import re as r"
   ]
  },
  {
   "cell_type": "code",
   "execution_count": 43,
   "id": "f9ac6bcc",
   "metadata": {},
   "outputs": [
    {
     "data": {
      "text/html": [
       "<div>\n",
       "<style scoped>\n",
       "    .dataframe tbody tr th:only-of-type {\n",
       "        vertical-align: middle;\n",
       "    }\n",
       "\n",
       "    .dataframe tbody tr th {\n",
       "        vertical-align: top;\n",
       "    }\n",
       "\n",
       "    .dataframe thead th {\n",
       "        text-align: right;\n",
       "    }\n",
       "</style>\n",
       "<table border=\"1\" class=\"dataframe\">\n",
       "  <thead>\n",
       "    <tr style=\"text-align: right;\">\n",
       "      <th></th>\n",
       "      <th>Case Number</th>\n",
       "      <th>Date</th>\n",
       "      <th>Year</th>\n",
       "      <th>Type</th>\n",
       "      <th>Country</th>\n",
       "      <th>Area</th>\n",
       "      <th>Location</th>\n",
       "      <th>Activity</th>\n",
       "      <th>Name</th>\n",
       "      <th>Sex</th>\n",
       "      <th>...</th>\n",
       "      <th>Species</th>\n",
       "      <th>Investigator or Source</th>\n",
       "      <th>pdf</th>\n",
       "      <th>href formula</th>\n",
       "      <th>href</th>\n",
       "      <th>Case Number.1</th>\n",
       "      <th>Case Number.2</th>\n",
       "      <th>original order</th>\n",
       "      <th>Unnamed: 22</th>\n",
       "      <th>Unnamed: 23</th>\n",
       "    </tr>\n",
       "  </thead>\n",
       "  <tbody>\n",
       "    <tr>\n",
       "      <th>0</th>\n",
       "      <td>2018.06.25</td>\n",
       "      <td>25-Jun-2018</td>\n",
       "      <td>2018.0</td>\n",
       "      <td>Boating</td>\n",
       "      <td>USA</td>\n",
       "      <td>California</td>\n",
       "      <td>Oceanside, San Diego County</td>\n",
       "      <td>Paddling</td>\n",
       "      <td>Julie Wolfe</td>\n",
       "      <td>F</td>\n",
       "      <td>...</td>\n",
       "      <td>White shark</td>\n",
       "      <td>R. Collier, GSAF</td>\n",
       "      <td>2018.06.25-Wolfe.pdf</td>\n",
       "      <td>http://sharkattackfile.net/spreadsheets/pdf_di...</td>\n",
       "      <td>http://sharkattackfile.net/spreadsheets/pdf_di...</td>\n",
       "      <td>2018.06.25</td>\n",
       "      <td>2018.06.25</td>\n",
       "      <td>6303.0</td>\n",
       "      <td>NaN</td>\n",
       "      <td>NaN</td>\n",
       "    </tr>\n",
       "    <tr>\n",
       "      <th>1</th>\n",
       "      <td>2018.06.18</td>\n",
       "      <td>18-Jun-2018</td>\n",
       "      <td>2018.0</td>\n",
       "      <td>Unprovoked</td>\n",
       "      <td>USA</td>\n",
       "      <td>Georgia</td>\n",
       "      <td>St. Simon Island, Glynn County</td>\n",
       "      <td>Standing</td>\n",
       "      <td>Adyson McNeely</td>\n",
       "      <td>F</td>\n",
       "      <td>...</td>\n",
       "      <td>NaN</td>\n",
       "      <td>K.McMurray, TrackingSharks.com</td>\n",
       "      <td>2018.06.18-McNeely.pdf</td>\n",
       "      <td>http://sharkattackfile.net/spreadsheets/pdf_di...</td>\n",
       "      <td>http://sharkattackfile.net/spreadsheets/pdf_di...</td>\n",
       "      <td>2018.06.18</td>\n",
       "      <td>2018.06.18</td>\n",
       "      <td>6302.0</td>\n",
       "      <td>NaN</td>\n",
       "      <td>NaN</td>\n",
       "    </tr>\n",
       "    <tr>\n",
       "      <th>2</th>\n",
       "      <td>2018.06.09</td>\n",
       "      <td>09-Jun-2018</td>\n",
       "      <td>2018.0</td>\n",
       "      <td>Invalid</td>\n",
       "      <td>USA</td>\n",
       "      <td>Hawaii</td>\n",
       "      <td>Habush, Oahu</td>\n",
       "      <td>Surfing</td>\n",
       "      <td>John Denges</td>\n",
       "      <td>M</td>\n",
       "      <td>...</td>\n",
       "      <td>NaN</td>\n",
       "      <td>K.McMurray, TrackingSharks.com</td>\n",
       "      <td>2018.06.09-Denges.pdf</td>\n",
       "      <td>http://sharkattackfile.net/spreadsheets/pdf_di...</td>\n",
       "      <td>http://sharkattackfile.net/spreadsheets/pdf_di...</td>\n",
       "      <td>2018.06.09</td>\n",
       "      <td>2018.06.09</td>\n",
       "      <td>6301.0</td>\n",
       "      <td>NaN</td>\n",
       "      <td>NaN</td>\n",
       "    </tr>\n",
       "    <tr>\n",
       "      <th>3</th>\n",
       "      <td>2018.06.08</td>\n",
       "      <td>08-Jun-2018</td>\n",
       "      <td>2018.0</td>\n",
       "      <td>Unprovoked</td>\n",
       "      <td>AUSTRALIA</td>\n",
       "      <td>New South Wales</td>\n",
       "      <td>Arrawarra Headland</td>\n",
       "      <td>Surfing</td>\n",
       "      <td>male</td>\n",
       "      <td>M</td>\n",
       "      <td>...</td>\n",
       "      <td>2 m shark</td>\n",
       "      <td>B. Myatt, GSAF</td>\n",
       "      <td>2018.06.08-Arrawarra.pdf</td>\n",
       "      <td>http://sharkattackfile.net/spreadsheets/pdf_di...</td>\n",
       "      <td>http://sharkattackfile.net/spreadsheets/pdf_di...</td>\n",
       "      <td>2018.06.08</td>\n",
       "      <td>2018.06.08</td>\n",
       "      <td>6300.0</td>\n",
       "      <td>NaN</td>\n",
       "      <td>NaN</td>\n",
       "    </tr>\n",
       "    <tr>\n",
       "      <th>4</th>\n",
       "      <td>2018.06.04</td>\n",
       "      <td>04-Jun-2018</td>\n",
       "      <td>2018.0</td>\n",
       "      <td>Provoked</td>\n",
       "      <td>MEXICO</td>\n",
       "      <td>Colima</td>\n",
       "      <td>La Ticla</td>\n",
       "      <td>Free diving</td>\n",
       "      <td>Gustavo Ramos</td>\n",
       "      <td>M</td>\n",
       "      <td>...</td>\n",
       "      <td>Tiger shark, 3m</td>\n",
       "      <td>A .Kipper</td>\n",
       "      <td>2018.06.04-Ramos.pdf</td>\n",
       "      <td>http://sharkattackfile.net/spreadsheets/pdf_di...</td>\n",
       "      <td>http://sharkattackfile.net/spreadsheets/pdf_di...</td>\n",
       "      <td>2018.06.04</td>\n",
       "      <td>2018.06.04</td>\n",
       "      <td>6299.0</td>\n",
       "      <td>NaN</td>\n",
       "      <td>NaN</td>\n",
       "    </tr>\n",
       "  </tbody>\n",
       "</table>\n",
       "<p>5 rows × 24 columns</p>\n",
       "</div>"
      ],
      "text/plain": [
       "  Case Number         Date    Year        Type    Country             Area  \\\n",
       "0  2018.06.25  25-Jun-2018  2018.0     Boating        USA       California   \n",
       "1  2018.06.18  18-Jun-2018  2018.0  Unprovoked        USA          Georgia   \n",
       "2  2018.06.09  09-Jun-2018  2018.0     Invalid        USA           Hawaii   \n",
       "3  2018.06.08  08-Jun-2018  2018.0  Unprovoked  AUSTRALIA  New South Wales   \n",
       "4  2018.06.04  04-Jun-2018  2018.0    Provoked     MEXICO           Colima   \n",
       "\n",
       "                         Location     Activity             Name Sex   ...  \\\n",
       "0     Oceanside, San Diego County     Paddling      Julie Wolfe    F  ...   \n",
       "1  St. Simon Island, Glynn County     Standing  Adyson McNeely     F  ...   \n",
       "2                    Habush, Oahu      Surfing      John Denges    M  ...   \n",
       "3              Arrawarra Headland      Surfing             male    M  ...   \n",
       "4                        La Ticla  Free diving   Gustavo Ramos     M  ...   \n",
       "\n",
       "          Species           Investigator or Source                       pdf  \\\n",
       "0      White shark                R. Collier, GSAF      2018.06.25-Wolfe.pdf   \n",
       "1              NaN  K.McMurray, TrackingSharks.com    2018.06.18-McNeely.pdf   \n",
       "2              NaN  K.McMurray, TrackingSharks.com     2018.06.09-Denges.pdf   \n",
       "3        2 m shark                  B. Myatt, GSAF  2018.06.08-Arrawarra.pdf   \n",
       "4  Tiger shark, 3m                       A .Kipper      2018.06.04-Ramos.pdf   \n",
       "\n",
       "                                        href formula  \\\n",
       "0  http://sharkattackfile.net/spreadsheets/pdf_di...   \n",
       "1  http://sharkattackfile.net/spreadsheets/pdf_di...   \n",
       "2  http://sharkattackfile.net/spreadsheets/pdf_di...   \n",
       "3  http://sharkattackfile.net/spreadsheets/pdf_di...   \n",
       "4  http://sharkattackfile.net/spreadsheets/pdf_di...   \n",
       "\n",
       "                                                href Case Number.1  \\\n",
       "0  http://sharkattackfile.net/spreadsheets/pdf_di...    2018.06.25   \n",
       "1  http://sharkattackfile.net/spreadsheets/pdf_di...    2018.06.18   \n",
       "2  http://sharkattackfile.net/spreadsheets/pdf_di...    2018.06.09   \n",
       "3  http://sharkattackfile.net/spreadsheets/pdf_di...    2018.06.08   \n",
       "4  http://sharkattackfile.net/spreadsheets/pdf_di...    2018.06.04   \n",
       "\n",
       "  Case Number.2 original order Unnamed: 22 Unnamed: 23  \n",
       "0    2018.06.25         6303.0         NaN         NaN  \n",
       "1    2018.06.18         6302.0         NaN         NaN  \n",
       "2    2018.06.09         6301.0         NaN         NaN  \n",
       "3    2018.06.08         6300.0         NaN         NaN  \n",
       "4    2018.06.04         6299.0         NaN         NaN  \n",
       "\n",
       "[5 rows x 24 columns]"
      ]
     },
     "execution_count": 43,
     "metadata": {},
     "output_type": "execute_result"
    }
   ],
   "source": [
    "dfSharks = pd.read_csv(\"../Pandas-Proyect/data/attacks.csv\",encoding = \"ISO-8859-1\")\n",
    "dfSharks.head()"
   ]
  },
  {
   "cell_type": "code",
   "execution_count": 44,
   "id": "dc44d67a",
   "metadata": {},
   "outputs": [
    {
     "name": "stdout",
     "output_type": "stream",
     "text": [
      "<class 'pandas.core.frame.DataFrame'>\n",
      "RangeIndex: 25723 entries, 0 to 25722\n",
      "Data columns (total 24 columns):\n",
      " #   Column                  Non-Null Count  Dtype  \n",
      "---  ------                  --------------  -----  \n",
      " 0   Case Number             8702 non-null   object \n",
      " 1   Date                    6302 non-null   object \n",
      " 2   Year                    6300 non-null   float64\n",
      " 3   Type                    6298 non-null   object \n",
      " 4   Country                 6252 non-null   object \n",
      " 5   Area                    5847 non-null   object \n",
      " 6   Location                5762 non-null   object \n",
      " 7   Activity                5758 non-null   object \n",
      " 8   Name                    6092 non-null   object \n",
      " 9   Sex                     5737 non-null   object \n",
      " 10  Age                     3471 non-null   object \n",
      " 11  Injury                  6274 non-null   object \n",
      " 12  Fatal (Y/N)             5763 non-null   object \n",
      " 13  Time                    2948 non-null   object \n",
      " 14  Species                 3464 non-null   object \n",
      " 15  Investigator or Source  6285 non-null   object \n",
      " 16  pdf                     6302 non-null   object \n",
      " 17  href formula            6301 non-null   object \n",
      " 18  href                    6302 non-null   object \n",
      " 19  Case Number.1           6302 non-null   object \n",
      " 20  Case Number.2           6302 non-null   object \n",
      " 21  original order          6309 non-null   float64\n",
      " 22  Unnamed: 22             1 non-null      object \n",
      " 23  Unnamed: 23             2 non-null      object \n",
      "dtypes: float64(2), object(22)\n",
      "memory usage: 4.7+ MB\n"
     ]
    }
   ],
   "source": [
    "dfSharks.info()"
   ]
  },
  {
   "cell_type": "code",
   "execution_count": 45,
   "id": "d229c7dc",
   "metadata": {},
   "outputs": [],
   "source": [
    "dfSharks1 = dfSharks.copy()\n"
   ]
  },
  {
   "cell_type": "code",
   "execution_count": 46,
   "id": "1a8cd617",
   "metadata": {},
   "outputs": [
    {
     "data": {
      "text/plain": [
       "Index(['Case Number', 'Date', 'Year', 'Type', 'Country', 'Area', 'Location',\n",
       "       'Activity', 'Name', 'Sex ', 'Age', 'Injury', 'Fatal (Y/N)', 'Time',\n",
       "       'Species ', 'Investigator or Source', 'pdf', 'href formula', 'href',\n",
       "       'Case Number.1', 'Case Number.2', 'original order', 'Unnamed: 22',\n",
       "       'Unnamed: 23'],\n",
       "      dtype='object')"
      ]
     },
     "execution_count": 46,
     "metadata": {},
     "output_type": "execute_result"
    }
   ],
   "source": [
    "dfSharks1.columns"
   ]
  },
  {
   "cell_type": "code",
   "execution_count": 47,
   "id": "52eff103",
   "metadata": {},
   "outputs": [],
   "source": [
    "dfSharks1 = dfSharks1.loc[:, ~dfSharks1.columns.str.contains('^Unnamed')]"
   ]
  },
  {
   "cell_type": "code",
   "execution_count": 48,
   "id": "38455229",
   "metadata": {},
   "outputs": [],
   "source": [
    "dfSharks1 = dfSharks1.drop(columns=['Case Number.1',\"Case Number.2\",'href formula','href','Location','pdf','Investigator or Source'])\n"
   ]
  },
  {
   "cell_type": "code",
   "execution_count": 49,
   "id": "17b47d07",
   "metadata": {},
   "outputs": [
    {
     "data": {
      "text/plain": [
       "Index(['Case Number', 'Date', 'Year', 'Type', 'Country', 'Area', 'Activity',\n",
       "       'Name', 'Sex ', 'Age', 'Injury', 'Fatal (Y/N)', 'Time', 'Species ',\n",
       "       'original order'],\n",
       "      dtype='object')"
      ]
     },
     "execution_count": 49,
     "metadata": {},
     "output_type": "execute_result"
    }
   ],
   "source": [
    "dfSharks1.columns"
   ]
  },
  {
   "cell_type": "code",
   "execution_count": 50,
   "id": "f6aba84e",
   "metadata": {},
   "outputs": [],
   "source": [
    "dfSharks1.rename(columns = {'Species ':'Species'}, inplace = True)\n",
    "dfSharks1.rename(columns = { 'Fatal (Y/N)':'Fatality'}, inplace = True)"
   ]
  },
  {
   "cell_type": "code",
   "execution_count": null,
   "id": "bc8f4da5",
   "metadata": {},
   "outputs": [],
   "source": []
  },
  {
   "cell_type": "code",
   "execution_count": 51,
   "id": "a0169b43",
   "metadata": {},
   "outputs": [
    {
     "data": {
      "text/plain": [
       "Case Number       17021\n",
       "Date              19421\n",
       "Year              19423\n",
       "Type              19425\n",
       "Country           19471\n",
       "Area              19876\n",
       "Activity          19965\n",
       "Name              19631\n",
       "Sex               19986\n",
       "Age               22252\n",
       "Injury            19449\n",
       "Fatality          19960\n",
       "Time              22775\n",
       "Species           22259\n",
       "original order    19414\n",
       "dtype: int64"
      ]
     },
     "execution_count": 51,
     "metadata": {},
     "output_type": "execute_result"
    }
   ],
   "source": [
    "dfSharks1.isna().sum()"
   ]
  },
  {
   "cell_type": "code",
   "execution_count": 52,
   "id": "f516f4ee",
   "metadata": {},
   "outputs": [],
   "source": [
    "dfSharks1 = dfSharks1.dropna(axis = 0, how = 'all')"
   ]
  },
  {
   "cell_type": "code",
   "execution_count": 53,
   "id": "ba1d6e91",
   "metadata": {},
   "outputs": [],
   "source": [
    "dfSharks1 = dfSharks1.set_index(\"original order\")"
   ]
  },
  {
   "cell_type": "code",
   "execution_count": 54,
   "id": "71738b50",
   "metadata": {},
   "outputs": [],
   "source": [
    "dfSharks1.sort_values('original order', inplace = True)"
   ]
  },
  {
   "cell_type": "code",
   "execution_count": 55,
   "id": "5e2fd8d4",
   "metadata": {},
   "outputs": [
    {
     "data": {
      "text/plain": [
       "array(['Unprovoked', 'Boat', 'Sea Disaster', 'Provoked', 'Invalid',\n",
       "       'Boating', nan, 'Boatomg', 'Questionable'], dtype=object)"
      ]
     },
     "execution_count": 55,
     "metadata": {},
     "output_type": "execute_result"
    }
   ],
   "source": [
    "dfSharks1.Type.unique()\n"
   ]
  },
  {
   "cell_type": "code",
   "execution_count": 56,
   "id": "a9cd180b",
   "metadata": {
    "scrolled": true
   },
   "outputs": [
    {
     "data": {
      "text/plain": [
       "array(['Unprovoked', 'Boat', 'Sea Disaster', 'Provoked', 'Invalid',\n",
       "       'Boating', nan, 'Boatomg', 'Questionable'], dtype=object)"
      ]
     },
     "execution_count": 56,
     "metadata": {},
     "output_type": "execute_result"
    }
   ],
   "source": [
    "dfSharks1.Type.unique() "
   ]
  },
  {
   "cell_type": "code",
   "execution_count": 57,
   "id": "67e048e6",
   "metadata": {},
   "outputs": [
    {
     "data": {
      "text/html": [
       "<div>\n",
       "<style scoped>\n",
       "    .dataframe tbody tr th:only-of-type {\n",
       "        vertical-align: middle;\n",
       "    }\n",
       "\n",
       "    .dataframe tbody tr th {\n",
       "        vertical-align: top;\n",
       "    }\n",
       "\n",
       "    .dataframe thead th {\n",
       "        text-align: right;\n",
       "    }\n",
       "</style>\n",
       "<table border=\"1\" class=\"dataframe\">\n",
       "  <thead>\n",
       "    <tr style=\"text-align: right;\">\n",
       "      <th></th>\n",
       "      <th>Case Number</th>\n",
       "      <th>Date</th>\n",
       "      <th>Year</th>\n",
       "      <th>Type</th>\n",
       "      <th>Country</th>\n",
       "      <th>Area</th>\n",
       "      <th>Activity</th>\n",
       "      <th>Name</th>\n",
       "      <th>Sex</th>\n",
       "      <th>Age</th>\n",
       "      <th>Injury</th>\n",
       "      <th>Fatality</th>\n",
       "      <th>Time</th>\n",
       "      <th>Species</th>\n",
       "    </tr>\n",
       "    <tr>\n",
       "      <th>original order</th>\n",
       "      <th></th>\n",
       "      <th></th>\n",
       "      <th></th>\n",
       "      <th></th>\n",
       "      <th></th>\n",
       "      <th></th>\n",
       "      <th></th>\n",
       "      <th></th>\n",
       "      <th></th>\n",
       "      <th></th>\n",
       "      <th></th>\n",
       "      <th></th>\n",
       "      <th></th>\n",
       "      <th></th>\n",
       "    </tr>\n",
       "  </thead>\n",
       "  <tbody>\n",
       "    <tr>\n",
       "      <th>2.0</th>\n",
       "      <td>ND.0001</td>\n",
       "      <td>1845-1853</td>\n",
       "      <td>0.0</td>\n",
       "      <td>Unprovoked</td>\n",
       "      <td>CEYLON (SRI LANKA)</td>\n",
       "      <td>Eastern Province</td>\n",
       "      <td>Swimming</td>\n",
       "      <td>male</td>\n",
       "      <td>M</td>\n",
       "      <td>15</td>\n",
       "      <td>FATAL. \"Shark bit him in half, carrying away t...</td>\n",
       "      <td>Y</td>\n",
       "      <td>NaN</td>\n",
       "      <td>NaN</td>\n",
       "    </tr>\n",
       "    <tr>\n",
       "      <th>3.0</th>\n",
       "      <td>ND.0002</td>\n",
       "      <td>1883-1889</td>\n",
       "      <td>0.0</td>\n",
       "      <td>Unprovoked</td>\n",
       "      <td>PANAMA</td>\n",
       "      <td>NaN</td>\n",
       "      <td>NaN</td>\n",
       "      <td>Jules Patterson</td>\n",
       "      <td>M</td>\n",
       "      <td>NaN</td>\n",
       "      <td>FATAL</td>\n",
       "      <td>Y</td>\n",
       "      <td>NaN</td>\n",
       "      <td>NaN</td>\n",
       "    </tr>\n",
       "    <tr>\n",
       "      <th>4.0</th>\n",
       "      <td>ND.0003</td>\n",
       "      <td>1900-1905</td>\n",
       "      <td>0.0</td>\n",
       "      <td>Unprovoked</td>\n",
       "      <td>USA</td>\n",
       "      <td>North Carolina</td>\n",
       "      <td>Swimming</td>\n",
       "      <td>Coast Guard personnel</td>\n",
       "      <td>M</td>\n",
       "      <td>NaN</td>\n",
       "      <td>FATAL</td>\n",
       "      <td>Y</td>\n",
       "      <td>NaN</td>\n",
       "      <td>NaN</td>\n",
       "    </tr>\n",
       "    <tr>\n",
       "      <th>5.0</th>\n",
       "      <td>ND.0004</td>\n",
       "      <td>Before 1903</td>\n",
       "      <td>0.0</td>\n",
       "      <td>Unprovoked</td>\n",
       "      <td>AUSTRALIA</td>\n",
       "      <td>Western Australia</td>\n",
       "      <td>Pearl diving</td>\n",
       "      <td>Ahmun</td>\n",
       "      <td>M</td>\n",
       "      <td>NaN</td>\n",
       "      <td>FATAL</td>\n",
       "      <td>Y</td>\n",
       "      <td>NaN</td>\n",
       "      <td>NaN</td>\n",
       "    </tr>\n",
       "    <tr>\n",
       "      <th>6.0</th>\n",
       "      <td>ND.0005</td>\n",
       "      <td>Before 1903</td>\n",
       "      <td>0.0</td>\n",
       "      <td>Unprovoked</td>\n",
       "      <td>AUSTRALIA</td>\n",
       "      <td>Western Australia</td>\n",
       "      <td>Diving</td>\n",
       "      <td>male</td>\n",
       "      <td>M</td>\n",
       "      <td>NaN</td>\n",
       "      <td>FATAL</td>\n",
       "      <td>Y</td>\n",
       "      <td>NaN</td>\n",
       "      <td>NaN</td>\n",
       "    </tr>\n",
       "  </tbody>\n",
       "</table>\n",
       "</div>"
      ],
      "text/plain": [
       "               Case Number         Date  Year        Type             Country  \\\n",
       "original order                                                                  \n",
       "2.0                ND.0001    1845-1853   0.0  Unprovoked  CEYLON (SRI LANKA)   \n",
       "3.0                ND.0002    1883-1889   0.0  Unprovoked              PANAMA   \n",
       "4.0                ND.0003    1900-1905   0.0  Unprovoked                 USA   \n",
       "5.0                ND.0004  Before 1903   0.0  Unprovoked           AUSTRALIA   \n",
       "6.0                ND.0005  Before 1903   0.0  Unprovoked           AUSTRALIA   \n",
       "\n",
       "                             Area      Activity                   Name Sex   \\\n",
       "original order                                                                \n",
       "2.0              Eastern Province      Swimming                   male    M   \n",
       "3.0                           NaN           NaN        Jules Patterson    M   \n",
       "4.0                North Carolina      Swimming  Coast Guard personnel    M   \n",
       "5.0             Western Australia  Pearl diving                  Ahmun    M   \n",
       "6.0             Western Australia        Diving                   male    M   \n",
       "\n",
       "                Age                                             Injury  \\\n",
       "original order                                                           \n",
       "2.0              15  FATAL. \"Shark bit him in half, carrying away t...   \n",
       "3.0             NaN                                              FATAL   \n",
       "4.0             NaN                                              FATAL   \n",
       "5.0             NaN                                              FATAL   \n",
       "6.0             NaN                                              FATAL   \n",
       "\n",
       "               Fatality Time Species  \n",
       "original order                        \n",
       "2.0                   Y  NaN     NaN  \n",
       "3.0                   Y  NaN     NaN  \n",
       "4.0                   Y  NaN     NaN  \n",
       "5.0                   Y  NaN     NaN  \n",
       "6.0                   Y  NaN     NaN  "
      ]
     },
     "execution_count": 57,
     "metadata": {},
     "output_type": "execute_result"
    }
   ],
   "source": [
    "dfSharks1.head()"
   ]
  },
  {
   "cell_type": "code",
   "execution_count": 58,
   "id": "c15bbf86",
   "metadata": {},
   "outputs": [],
   "source": [
    "dfSharks1['Sex'] =  dfSharks1['Sex ']"
   ]
  },
  {
   "cell_type": "code",
   "execution_count": 59,
   "id": "b824c2ee",
   "metadata": {},
   "outputs": [],
   "source": [
    "dfSharks1.drop(['Sex '], axis = 1, inplace = True)"
   ]
  },
  {
   "cell_type": "code",
   "execution_count": 60,
   "id": "22f79e72",
   "metadata": {},
   "outputs": [
    {
     "data": {
      "text/plain": [
       "array(['M', 'F', nan, 'N', '.', 'lli', 'M '], dtype=object)"
      ]
     },
     "execution_count": 60,
     "metadata": {},
     "output_type": "execute_result"
    }
   ],
   "source": [
    "dfSharks1.Sex.unique()"
   ]
  },
  {
   "cell_type": "code",
   "execution_count": 61,
   "id": "7569a21e",
   "metadata": {},
   "outputs": [
    {
     "name": "stderr",
     "output_type": "stream",
     "text": [
      "<ipython-input-61-bde1c7bbdfdb>:7: FutureWarning: The default value of regex will change from True to False in a future version. In addition, single character regular expressions will *not* be treated as literal strings when regex=True.\n",
      "  dfSharks1['Sex'] = dfSharks1.Sex.str.replace('.', 'Desconocido')\n"
     ]
    }
   ],
   "source": [
    "#Renombro valores y doy valores a los Nan\n",
    "#Para la columna sex:\n",
    "dfSharks1['Sex'] = dfSharks1.Sex.str.replace('N', 'M')\n",
    "dfSharks1['Sex'] = dfSharks1.Sex.str.strip()\n",
    "dfSharks1['Sex'] = dfSharks1.Sex.fillna('Desconocido')\n",
    "dfSharks1['Sex'] = dfSharks1.Sex.str.replace('lli', 'Desconocido')\n",
    "dfSharks1['Sex'] = dfSharks1.Sex.str.replace('.', 'Desconocido')\n",
    "#Para la columna Activity\n",
    "dfSharks1['Activity'] = dfSharks1.Activity.str.replace('Fishing / Wading','Shore fishing')\n",
    "dfSharks1['Activity'] = dfSharks1.Activity.fillna('Desconocido')\n",
    "dfSharks1['Activity'] = dfSharks1.Activity.str.replace('Kayak fishing for sharks', 'Kayak Fishing')\n",
    "#Para la columna Country:\n",
    "dfSharks1['Country'] = dfSharks1.Country.fillna('Desconocido')\n",
    "#Para la columna Fatality:\n",
    "dfSharks1['Fatality'] = dfSharks1.Fatality.str.replace('2017','Desconocido')\n",
    "dfSharks1['Fatality'] = dfSharks1.Fatality.str.replace('N ','N')\n",
    "dfSharks1['Fatality'] = dfSharks1.Fatality.str.replace(' N','N')\n",
    "dfSharks1['Fatality'] = dfSharks1.Fatality.str.replace('M','N')\n",
    "dfSharks1['Fatality'] = dfSharks1.Fatality.str.replace('y', 'Y')\n",
    "dfSharks1['Fatality'] = dfSharks1.Fatality.str.replace('UNKNOWN','Desconocido')\n",
    "dfSharks1['Fatality'] = dfSharks1.Fatality.fillna('Desconocido')\n",
    "#Para la columna Type:\n",
    "dfSharks1['Type'] = dfSharks1.Type.str.replace('Boating','Boat')\n",
    "dfSharks1['Type'] = dfSharks1.Type.str.replace('Boatomg','Boat')\n",
    "dfSharks1['Type'] = dfSharks1.Type.fillna('Desconocido')"
   ]
  },
  {
   "cell_type": "code",
   "execution_count": 62,
   "id": "89914e98",
   "metadata": {},
   "outputs": [],
   "source": [
    "repsPaises = dfSharks1.pivot_table(columns=['Country'], aggfunc='size')\n",
    "repsPaises = dict(repsPaises)\n",
    "paisesord = sorted(repsPaises.values())\n",
    "\n",
    "#sacar mas de un valor maximo"
   ]
  },
  {
   "cell_type": "code",
   "execution_count": 63,
   "id": "7a9077be",
   "metadata": {},
   "outputs": [
    {
     "ename": "NameError",
     "evalue": "name 'dfsharks1' is not defined",
     "output_type": "error",
     "traceback": [
      "\u001b[0;31m---------------------------------------------------------------------------\u001b[0m",
      "\u001b[0;31mNameError\u001b[0m                                 Traceback (most recent call last)",
      "\u001b[0;32m<ipython-input-63-4efe33ce41f0>\u001b[0m in \u001b[0;36m<module>\u001b[0;34m\u001b[0m\n\u001b[0;32m----> 1\u001b[0;31m \u001b[0mdfsharks1\u001b[0m\u001b[0;34m.\u001b[0m\u001b[0mhead\u001b[0m\u001b[0;34m(\u001b[0m\u001b[0;34m)\u001b[0m\u001b[0;34m\u001b[0m\u001b[0;34m\u001b[0m\u001b[0m\n\u001b[0m",
      "\u001b[0;31mNameError\u001b[0m: name 'dfsharks1' is not defined"
     ]
    }
   ],
   "source": [
    "dfsharks1.head()"
   ]
  },
  {
   "cell_type": "code",
   "execution_count": 64,
   "id": "d3c944e4",
   "metadata": {},
   "outputs": [],
   "source": [
    "top = list(dfSharks1.Country.value_counts().index)[1:4]\n",
    "trip = list(dfSharks1.Country.value_counts())[1:4]"
   ]
  },
  {
   "cell_type": "code",
   "execution_count": 65,
   "id": "c212f241",
   "metadata": {},
   "outputs": [
    {
     "data": {
      "text/plain": [
       "[2451,\n",
       " 2229,\n",
       " 1338,\n",
       " 579,\n",
       " 134,\n",
       " 128,\n",
       " 112,\n",
       " 109,\n",
       " 89,\n",
       " 71,\n",
       " 62,\n",
       " 61,\n",
       " 60,\n",
       " 53,\n",
       " 46,\n",
       " 45,\n",
       " 44,\n",
       " 40,\n",
       " 38,\n",
       " 34,\n",
       " 34,\n",
       " 32,\n",
       " 30,\n",
       " 29,\n",
       " 27,\n",
       " 25,\n",
       " 25,\n",
       " 24,\n",
       " 23,\n",
       " 23,\n",
       " 17,\n",
       " 17,\n",
       " 17,\n",
       " 16,\n",
       " 15,\n",
       " 15,\n",
       " 14,\n",
       " 14,\n",
       " 13,\n",
       " 13,\n",
       " 12,\n",
       " 12,\n",
       " 12,\n",
       " 12,\n",
       " 11,\n",
       " 11,\n",
       " 11,\n",
       " 10,\n",
       " 10,\n",
       " 10,\n",
       " 9,\n",
       " 9,\n",
       " 9,\n",
       " 8,\n",
       " 8,\n",
       " 8,\n",
       " 8,\n",
       " 8,\n",
       " 8,\n",
       " 8,\n",
       " 8,\n",
       " 8,\n",
       " 7,\n",
       " 7,\n",
       " 7,\n",
       " 7,\n",
       " 7,\n",
       " 7,\n",
       " 7,\n",
       " 6,\n",
       " 6,\n",
       " 6,\n",
       " 6,\n",
       " 6,\n",
       " 6,\n",
       " 6,\n",
       " 6,\n",
       " 5,\n",
       " 5,\n",
       " 5,\n",
       " 5,\n",
       " 5,\n",
       " 5,\n",
       " 5,\n",
       " 4,\n",
       " 4,\n",
       " 4,\n",
       " 4,\n",
       " 4,\n",
       " 4,\n",
       " 4,\n",
       " 4,\n",
       " 4,\n",
       " 4,\n",
       " 4,\n",
       " 3,\n",
       " 3,\n",
       " 3,\n",
       " 3,\n",
       " 3,\n",
       " 3,\n",
       " 3,\n",
       " 3,\n",
       " 3,\n",
       " 3,\n",
       " 3,\n",
       " 3,\n",
       " 3,\n",
       " 3,\n",
       " 3,\n",
       " 3,\n",
       " 3,\n",
       " 2,\n",
       " 2,\n",
       " 2,\n",
       " 2,\n",
       " 2,\n",
       " 2,\n",
       " 2,\n",
       " 2,\n",
       " 2,\n",
       " 2,\n",
       " 2,\n",
       " 2,\n",
       " 2,\n",
       " 2,\n",
       " 2,\n",
       " 2,\n",
       " 2,\n",
       " 2,\n",
       " 2,\n",
       " 1,\n",
       " 1,\n",
       " 1,\n",
       " 1,\n",
       " 1,\n",
       " 1,\n",
       " 1,\n",
       " 1,\n",
       " 1,\n",
       " 1,\n",
       " 1,\n",
       " 1,\n",
       " 1,\n",
       " 1,\n",
       " 1,\n",
       " 1,\n",
       " 1,\n",
       " 1,\n",
       " 1,\n",
       " 1,\n",
       " 1,\n",
       " 1,\n",
       " 1,\n",
       " 1,\n",
       " 1,\n",
       " 1,\n",
       " 1,\n",
       " 1,\n",
       " 1,\n",
       " 1,\n",
       " 1,\n",
       " 1,\n",
       " 1,\n",
       " 1,\n",
       " 1,\n",
       " 1,\n",
       " 1,\n",
       " 1,\n",
       " 1,\n",
       " 1,\n",
       " 1,\n",
       " 1,\n",
       " 1,\n",
       " 1,\n",
       " 1,\n",
       " 1,\n",
       " 1,\n",
       " 1,\n",
       " 1,\n",
       " 1,\n",
       " 1,\n",
       " 1,\n",
       " 1,\n",
       " 1,\n",
       " 1,\n",
       " 1,\n",
       " 1,\n",
       " 1,\n",
       " 1,\n",
       " 1,\n",
       " 1,\n",
       " 1,\n",
       " 1,\n",
       " 1,\n",
       " 1,\n",
       " 1,\n",
       " 1,\n",
       " 1,\n",
       " 1,\n",
       " 1,\n",
       " 1,\n",
       " 1,\n",
       " 1,\n",
       " 1,\n",
       " 1,\n",
       " 1,\n",
       " 1,\n",
       " 1,\n",
       " 1,\n",
       " 1,\n",
       " 1,\n",
       " 1]"
      ]
     },
     "execution_count": 65,
     "metadata": {},
     "output_type": "execute_result"
    }
   ],
   "source": [
    "list(dfSharks1.Country.value_counts())"
   ]
  },
  {
   "cell_type": "code",
   "execution_count": 66,
   "id": "bb67a5fd",
   "metadata": {},
   "outputs": [
    {
     "data": {
      "text/plain": [
       "['USA', 'AUSTRALIA', 'SOUTH AFRICA']"
      ]
     },
     "execution_count": 66,
     "metadata": {},
     "output_type": "execute_result"
    }
   ],
   "source": [
    "top"
   ]
  },
  {
   "cell_type": "code",
   "execution_count": 67,
   "id": "81b5c1c2",
   "metadata": {},
   "outputs": [],
   "source": [
    "dfPaises = pd.DataFrame(top, )\n",
    "dfPaises['Ataques'] = trip\n",
    "dfPaises.columns = ['Pais','Ataques']\n",
    "dfPaises.to_csv(\"Paises.csv\", index = True)"
   ]
  },
  {
   "cell_type": "code",
   "execution_count": 68,
   "id": "7630d2cc",
   "metadata": {},
   "outputs": [],
   "source": [
    "dfSharks1['Full_Date'] = dfSharks1[\"Case Number\"].str.extract(r'(\\d{4}.\\d{2}.\\d{2})')\n",
    "dfSharks1[['year','month', 'day']] =  dfSharks1.Full_Date.str.split(\".\", expand=True)\n",
    "dfSharks1.year = dfSharks1.year.str.extract(r'(\\d{4})')"
   ]
  },
  {
   "cell_type": "code",
   "execution_count": 69,
   "id": "49b997f8",
   "metadata": {},
   "outputs": [
    {
     "data": {
      "text/plain": [
       "Case Number       1\n",
       "Date           2401\n",
       "Year           2403\n",
       "Type              0\n",
       "Country           0\n",
       "Area           2856\n",
       "Activity          0\n",
       "Name           2611\n",
       "Age            5232\n",
       "Injury         2429\n",
       "Fatality          0\n",
       "Time           5755\n",
       "Species        5239\n",
       "Sex               0\n",
       "Full_Date      2528\n",
       "year           2528\n",
       "month          2528\n",
       "day            2531\n",
       "dtype: int64"
      ]
     },
     "execution_count": 69,
     "metadata": {},
     "output_type": "execute_result"
    }
   ],
   "source": [
    "dfSharks1.isna().sum()"
   ]
  },
  {
   "cell_type": "code",
   "execution_count": 70,
   "id": "ddbf0678",
   "metadata": {},
   "outputs": [
    {
     "name": "stdout",
     "output_type": "stream",
     "text": [
      "<class 'pandas.core.frame.DataFrame'>\n",
      "Float64Index: 8703 entries, 2.0 to nan\n",
      "Data columns (total 18 columns):\n",
      " #   Column       Non-Null Count  Dtype  \n",
      "---  ------       --------------  -----  \n",
      " 0   Case Number  8702 non-null   object \n",
      " 1   Date         6302 non-null   object \n",
      " 2   Year         6300 non-null   float64\n",
      " 3   Type         8703 non-null   object \n",
      " 4   Country      8703 non-null   object \n",
      " 5   Area         5847 non-null   object \n",
      " 6   Activity     8703 non-null   object \n",
      " 7   Name         6092 non-null   object \n",
      " 8   Age          3471 non-null   object \n",
      " 9   Injury       6274 non-null   object \n",
      " 10  Fatality     8703 non-null   object \n",
      " 11  Time         2948 non-null   object \n",
      " 12  Species      3464 non-null   object \n",
      " 13  Sex          8703 non-null   object \n",
      " 14  Full_Date    6175 non-null   object \n",
      " 15  year         6175 non-null   object \n",
      " 16  month        6175 non-null   object \n",
      " 17  day          6172 non-null   object \n",
      "dtypes: float64(1), object(17)\n",
      "memory usage: 1.3+ MB\n"
     ]
    }
   ],
   "source": [
    "dfSharks1.info()"
   ]
  },
  {
   "cell_type": "code",
   "execution_count": 71,
   "id": "cfd82489",
   "metadata": {},
   "outputs": [
    {
     "data": {
      "text/plain": [
       "array([nan,\n",
       "       'Said to involve a grey nurse shark that leapt out of the water and  seized the boy but species identification is questionable',\n",
       "       'Blue pointers', ..., 'Tawny nurse shark, 2m', 'Invalid incident',\n",
       "       \"Lemon shark, 3'\"], dtype=object)"
      ]
     },
     "execution_count": 71,
     "metadata": {},
     "output_type": "execute_result"
    }
   ],
   "source": [
    "dfSharks1.Species.unique()"
   ]
  },
  {
   "cell_type": "code",
   "execution_count": 72,
   "id": "f4d28765",
   "metadata": {},
   "outputs": [
    {
     "data": {
      "text/plain": [
       "Case Number       1\n",
       "Date           2401\n",
       "Year           2403\n",
       "Type              0\n",
       "Country           0\n",
       "Area           2856\n",
       "Activity          0\n",
       "Name           2611\n",
       "Age            5232\n",
       "Injury         2429\n",
       "Fatality          0\n",
       "Time           5755\n",
       "Species        5239\n",
       "Sex               0\n",
       "Full_Date      2528\n",
       "year           2528\n",
       "month          2528\n",
       "day            2531\n",
       "dtype: int64"
      ]
     },
     "execution_count": 72,
     "metadata": {},
     "output_type": "execute_result"
    }
   ],
   "source": [
    "dfSharks1.isna().sum()"
   ]
  },
  {
   "cell_type": "code",
   "execution_count": 73,
   "id": "2422b26d",
   "metadata": {
    "scrolled": true
   },
   "outputs": [],
   "source": [
    "dfSharks1.year = dfSharks1.year.fillna('0')\n"
   ]
  },
  {
   "cell_type": "code",
   "execution_count": 74,
   "id": "f9808c8b",
   "metadata": {},
   "outputs": [
    {
     "data": {
      "text/plain": [
       "array(['0', '0005', '0077', '0500', '1543', '1554', '1555', '1580',\n",
       "       '1595', '1642', '1617', '1637', '1638', '1700', '1703', '1721',\n",
       "       '1723', '1733', '1738', '1742', '1748', '1755', '1749', '1751',\n",
       "       '1753', '1758', '1764', '1767', '1771', '1776', '1779', '1780',\n",
       "       '1783', '1784', '1785', '1786', '1787', '1788', '1791', '1792',\n",
       "       '1797', '1800', '1801', '1802', '1803', '1804', '1805', '1806',\n",
       "       '1807', '1808', '1810', '1811', '1812', '1815', '1816', '1817',\n",
       "       '1818', '1819', '1822', '1823', '1825', '1826', '1827', '1828',\n",
       "       '1829', '1830', '1831', '1832', '1834', '1835', '1836', '1837',\n",
       "       '1839', '1840', '1841', '1842', '1844', '1845', '1846', '1847',\n",
       "       '1848', '1849', '1850', '1851', '1852', '1853', '1855', '1856',\n",
       "       '1857', '1858', '1859', '1860', '1861', '1862', '1863', '1864',\n",
       "       '1865', '1866', '1867', '1868', '1869', '1870', '1871', '1872',\n",
       "       '1873', '1874', '1876', '1875', '1877', '1878', '1879', '1880',\n",
       "       '1881', '1882', '1883', '1884', '1885', '1886', '1887', '1888',\n",
       "       '1889', '1890', '1891', '1892', '1893', '1894', '1895', '1896',\n",
       "       '1897', '1898', '1899', '1900', '1901', '1902', '1903', '1904',\n",
       "       '1905', '1906', '1907', '1908', '1909', '1910', '1911', '1912',\n",
       "       '1913', '1914', '1915', '1916', '1917', '1918', '1919', '1920',\n",
       "       '1921', '1922', '1923', '1924', '1925', '1926', '1927', '1928',\n",
       "       '1929', '1930', '1931', '1932', '1933', '1934', '1935', '1936',\n",
       "       '1937', '1938', '1939', '1940', '1941', '1942', '1943', '1944',\n",
       "       '1945', '1946', '1947', '1948', '1949', '1950', '1951', '1952',\n",
       "       '1953', '1954', '1955', '1956', '1957', '1958', '1959', '1960',\n",
       "       '1961', '1962', '1963', '1964', '1965', '1966', '1967', '1968',\n",
       "       '1969', '1970', '1971', '1972', '1973', '1974', '1975', '1976',\n",
       "       '1977', '1978', '1979', '1980', '1981', '1982', '1983', '1984',\n",
       "       '1985', '1986', '1987', '1988', '1989', '1990', '1991', '1992',\n",
       "       '1993', '1994', '1995', '1996', '1997', '1998', '1999', '2000',\n",
       "       '2001', '2002', '2003', '2004', '2005', '2006', '2007', '2008',\n",
       "       '2009', '2010', '2011', '2012', '2013', '2014', '2015', '2016',\n",
       "       '2017', '2018'], dtype=object)"
      ]
     },
     "execution_count": 74,
     "metadata": {},
     "output_type": "execute_result"
    }
   ],
   "source": [
    "dfSharks1.year.unique()"
   ]
  },
  {
   "cell_type": "code",
   "execution_count": null,
   "id": "5d3b107e",
   "metadata": {},
   "outputs": [],
   "source": []
  },
  {
   "cell_type": "code",
   "execution_count": 75,
   "id": "63d1da97",
   "metadata": {},
   "outputs": [
    {
     "name": "stdout",
     "output_type": "stream",
     "text": [
      "1532\n"
     ]
    }
   ],
   "source": [
    "unicos = list(dfSharks1.Activity.unique())\n",
    "print(len(unicos))"
   ]
  },
  {
   "cell_type": "code",
   "execution_count": 76,
   "id": "b9886a35",
   "metadata": {
    "scrolled": true
   },
   "outputs": [
    {
     "data": {
      "text/plain": [
       "array(['15', nan, '16', '13 or 14', '50', '6', '25', '36', '27', '19',\n",
       "       '21', '20', '14', 'young', '22', '17', '52', '12', '29', '7 or 8',\n",
       "       '1', '2½', '18', '28', '26', '13', '35', '40', '39', '30', '3',\n",
       "       '11', '23', '60', '37', '33', '24', '9', 'Teen', '10', '8',\n",
       "       '31 or 33', '55', '64', '7', '43', '10 or 12', '41', '38', '47',\n",
       "       '54', '?    &   14', 'A.M.', '70', '78', '  ', '42', '50s', '49',\n",
       "       '45', '36 & 23', '32', '34', '5', '31', '53', '9 or 10', 'Both 11',\n",
       "       '48', 'F', '68', '8 or 10', '17 & 16', '46', '\"young\"', '56', '81',\n",
       "       ' 43', 'MAKE LINE GREEN', '61', '62', '2 to 3 months', '57', '59',\n",
       "       '33 & 26', '34 & 19', '13 or 18', '\"middle-age\"', 'X', '17 & 35',\n",
       "       '50 & 30', '30 & 32', '44', '21, 34,24 & 35', '58',\n",
       "       '37, 67, 35, 27,  ? & 27', '51', '25 or 28', '33 & 37', '(adult)',\n",
       "       '23 & 26', '25 to 35', '9 months', '? & 19', '63', '9 & 12', '65',\n",
       "       'adult', '18 to 22', '66', '>50', '20s', '20 ', '21 or 26', '45 ',\n",
       "       '74 ', ' ', '75', 'Ca. 33', 'mid-20s', 'Elderly', '77', '67', '87',\n",
       "       '16 to 18', '30s', '32 & 30', '69', \"60's\", '71', '20?', ' 28',\n",
       "       '7      &    31', ' 30', '23 & 20', '73', 'mid-30s', '33 or 37',\n",
       "       '21 & ?', '6½', '30 or 36', '\\xa0 ', '84', '36 & 26', 'Teens',\n",
       "       'teen', '28, 23 & 30', '46 & 34', '12 or 13', '18 or 20', '86',\n",
       "       '28 & 26', '74', '40s', '18 months', '72', '60s', '82'],\n",
       "      dtype=object)"
      ]
     },
     "execution_count": 76,
     "metadata": {},
     "output_type": "execute_result"
    }
   ],
   "source": [
    "dfSharks1.Age.unique()"
   ]
  },
  {
   "cell_type": "code",
   "execution_count": 77,
   "id": "09f6bc14",
   "metadata": {},
   "outputs": [
    {
     "data": {
      "text/html": [
       "<div>\n",
       "<style scoped>\n",
       "    .dataframe tbody tr th:only-of-type {\n",
       "        vertical-align: middle;\n",
       "    }\n",
       "\n",
       "    .dataframe tbody tr th {\n",
       "        vertical-align: top;\n",
       "    }\n",
       "\n",
       "    .dataframe thead th {\n",
       "        text-align: right;\n",
       "    }\n",
       "</style>\n",
       "<table border=\"1\" class=\"dataframe\">\n",
       "  <thead>\n",
       "    <tr style=\"text-align: right;\">\n",
       "      <th></th>\n",
       "      <th>Case Number</th>\n",
       "      <th>Date</th>\n",
       "      <th>Year</th>\n",
       "      <th>Type</th>\n",
       "      <th>Country</th>\n",
       "      <th>Area</th>\n",
       "      <th>Activity</th>\n",
       "      <th>Name</th>\n",
       "      <th>Age</th>\n",
       "      <th>Injury</th>\n",
       "      <th>Fatality</th>\n",
       "      <th>Time</th>\n",
       "      <th>Species</th>\n",
       "      <th>Sex</th>\n",
       "      <th>Full_Date</th>\n",
       "      <th>year</th>\n",
       "      <th>month</th>\n",
       "      <th>day</th>\n",
       "    </tr>\n",
       "    <tr>\n",
       "      <th>original order</th>\n",
       "      <th></th>\n",
       "      <th></th>\n",
       "      <th></th>\n",
       "      <th></th>\n",
       "      <th></th>\n",
       "      <th></th>\n",
       "      <th></th>\n",
       "      <th></th>\n",
       "      <th></th>\n",
       "      <th></th>\n",
       "      <th></th>\n",
       "      <th></th>\n",
       "      <th></th>\n",
       "      <th></th>\n",
       "      <th></th>\n",
       "      <th></th>\n",
       "      <th></th>\n",
       "      <th></th>\n",
       "    </tr>\n",
       "  </thead>\n",
       "  <tbody>\n",
       "    <tr>\n",
       "      <th>4560.0</th>\n",
       "      <td>2003.09.14.b</td>\n",
       "      <td>14-Sep-2003</td>\n",
       "      <td>2003.0</td>\n",
       "      <td>Boat</td>\n",
       "      <td>SOUTH AFRICA</td>\n",
       "      <td>Western Cape Province</td>\n",
       "      <td>Fishing</td>\n",
       "      <td>inflatable boat, occupants: Rudolf Bokelmann a...</td>\n",
       "      <td>36 &amp; 26</td>\n",
       "      <td>No injury to occupants, shark bit boat</td>\n",
       "      <td>N</td>\n",
       "      <td>09h40</td>\n",
       "      <td>2 m cow shark</td>\n",
       "      <td>Desconocido</td>\n",
       "      <td>2003.09.14</td>\n",
       "      <td>2003</td>\n",
       "      <td>09</td>\n",
       "      <td>14</td>\n",
       "    </tr>\n",
       "  </tbody>\n",
       "</table>\n",
       "</div>"
      ],
      "text/plain": [
       "                 Case Number         Date    Year  Type       Country  \\\n",
       "original order                                                          \n",
       "4560.0          2003.09.14.b  14-Sep-2003  2003.0  Boat  SOUTH AFRICA   \n",
       "\n",
       "                                 Area  Activity  \\\n",
       "original order                                    \n",
       "4560.0          Western Cape Province  Fishing    \n",
       "\n",
       "                                                             Name      Age  \\\n",
       "original order                                                               \n",
       "4560.0          inflatable boat, occupants: Rudolf Bokelmann a...  36 & 26   \n",
       "\n",
       "                                                Injury Fatality   Time  \\\n",
       "original order                                                           \n",
       "4560.0          No injury to occupants, shark bit boat        N  09h40   \n",
       "\n",
       "                      Species          Sex   Full_Date  year month day  \n",
       "original order                                                          \n",
       "4560.0          2 m cow shark  Desconocido  2003.09.14  2003    09  14  "
      ]
     },
     "execution_count": 77,
     "metadata": {},
     "output_type": "execute_result"
    }
   ],
   "source": [
    "dfSharks1[dfSharks1['Age'] == '36 & 26'].head()"
   ]
  },
  {
   "cell_type": "code",
   "execution_count": 78,
   "id": "3c836a0d",
   "metadata": {},
   "outputs": [
    {
     "data": {
      "text/plain": [
       "Case Number       1\n",
       "Date           2401\n",
       "Year           2403\n",
       "Type              0\n",
       "Country           0\n",
       "Area           2856\n",
       "Activity          0\n",
       "Name           2611\n",
       "Age            5232\n",
       "Injury         2429\n",
       "Fatality          0\n",
       "Time           5755\n",
       "Species        5239\n",
       "Sex               0\n",
       "Full_Date      2528\n",
       "year              0\n",
       "month          2528\n",
       "day            2531\n",
       "dtype: int64"
      ]
     },
     "execution_count": 78,
     "metadata": {},
     "output_type": "execute_result"
    }
   ],
   "source": [
    "dfSharks1.isna().sum()"
   ]
  },
  {
   "cell_type": "code",
   "execution_count": 79,
   "id": "ffafdc2c",
   "metadata": {},
   "outputs": [
    {
     "data": {
      "text/plain": [
       "array(['Y', 'N', 'Desconocido'], dtype=object)"
      ]
     },
     "execution_count": 79,
     "metadata": {},
     "output_type": "execute_result"
    }
   ],
   "source": [
    "dfSharks1['Fatality'].unique()"
   ]
  },
  {
   "cell_type": "code",
   "execution_count": 80,
   "id": "d1e7f313",
   "metadata": {},
   "outputs": [
    {
     "data": {
      "text/html": [
       "<div>\n",
       "<style scoped>\n",
       "    .dataframe tbody tr th:only-of-type {\n",
       "        vertical-align: middle;\n",
       "    }\n",
       "\n",
       "    .dataframe tbody tr th {\n",
       "        vertical-align: top;\n",
       "    }\n",
       "\n",
       "    .dataframe thead th {\n",
       "        text-align: right;\n",
       "    }\n",
       "</style>\n",
       "<table border=\"1\" class=\"dataframe\">\n",
       "  <thead>\n",
       "    <tr style=\"text-align: right;\">\n",
       "      <th></th>\n",
       "      <th>Case Number</th>\n",
       "      <th>Date</th>\n",
       "      <th>Year</th>\n",
       "      <th>Type</th>\n",
       "      <th>Country</th>\n",
       "      <th>Area</th>\n",
       "      <th>Activity</th>\n",
       "      <th>Name</th>\n",
       "      <th>Age</th>\n",
       "      <th>Injury</th>\n",
       "      <th>Fatality</th>\n",
       "      <th>Time</th>\n",
       "      <th>Species</th>\n",
       "      <th>Sex</th>\n",
       "      <th>Full_Date</th>\n",
       "      <th>year</th>\n",
       "      <th>month</th>\n",
       "      <th>day</th>\n",
       "    </tr>\n",
       "    <tr>\n",
       "      <th>original order</th>\n",
       "      <th></th>\n",
       "      <th></th>\n",
       "      <th></th>\n",
       "      <th></th>\n",
       "      <th></th>\n",
       "      <th></th>\n",
       "      <th></th>\n",
       "      <th></th>\n",
       "      <th></th>\n",
       "      <th></th>\n",
       "      <th></th>\n",
       "      <th></th>\n",
       "      <th></th>\n",
       "      <th></th>\n",
       "      <th></th>\n",
       "      <th></th>\n",
       "      <th></th>\n",
       "      <th></th>\n",
       "    </tr>\n",
       "  </thead>\n",
       "  <tbody>\n",
       "    <tr>\n",
       "      <th>2.0</th>\n",
       "      <td>ND.0001</td>\n",
       "      <td>1845-1853</td>\n",
       "      <td>0.0</td>\n",
       "      <td>Unprovoked</td>\n",
       "      <td>CEYLON (SRI LANKA)</td>\n",
       "      <td>Eastern Province</td>\n",
       "      <td>Swimming</td>\n",
       "      <td>male</td>\n",
       "      <td>15</td>\n",
       "      <td>FATAL. \"Shark bit him in half, carrying away t...</td>\n",
       "      <td>Y</td>\n",
       "      <td>NaN</td>\n",
       "      <td>NaN</td>\n",
       "      <td>M</td>\n",
       "      <td>NaN</td>\n",
       "      <td>0</td>\n",
       "      <td>NaN</td>\n",
       "      <td>NaN</td>\n",
       "    </tr>\n",
       "    <tr>\n",
       "      <th>3.0</th>\n",
       "      <td>ND.0002</td>\n",
       "      <td>1883-1889</td>\n",
       "      <td>0.0</td>\n",
       "      <td>Unprovoked</td>\n",
       "      <td>PANAMA</td>\n",
       "      <td>NaN</td>\n",
       "      <td>Desconocido</td>\n",
       "      <td>Jules Patterson</td>\n",
       "      <td>NaN</td>\n",
       "      <td>FATAL</td>\n",
       "      <td>Y</td>\n",
       "      <td>NaN</td>\n",
       "      <td>NaN</td>\n",
       "      <td>M</td>\n",
       "      <td>NaN</td>\n",
       "      <td>0</td>\n",
       "      <td>NaN</td>\n",
       "      <td>NaN</td>\n",
       "    </tr>\n",
       "    <tr>\n",
       "      <th>4.0</th>\n",
       "      <td>ND.0003</td>\n",
       "      <td>1900-1905</td>\n",
       "      <td>0.0</td>\n",
       "      <td>Unprovoked</td>\n",
       "      <td>USA</td>\n",
       "      <td>North Carolina</td>\n",
       "      <td>Swimming</td>\n",
       "      <td>Coast Guard personnel</td>\n",
       "      <td>NaN</td>\n",
       "      <td>FATAL</td>\n",
       "      <td>Y</td>\n",
       "      <td>NaN</td>\n",
       "      <td>NaN</td>\n",
       "      <td>M</td>\n",
       "      <td>NaN</td>\n",
       "      <td>0</td>\n",
       "      <td>NaN</td>\n",
       "      <td>NaN</td>\n",
       "    </tr>\n",
       "    <tr>\n",
       "      <th>5.0</th>\n",
       "      <td>ND.0004</td>\n",
       "      <td>Before 1903</td>\n",
       "      <td>0.0</td>\n",
       "      <td>Unprovoked</td>\n",
       "      <td>AUSTRALIA</td>\n",
       "      <td>Western Australia</td>\n",
       "      <td>Pearl diving</td>\n",
       "      <td>Ahmun</td>\n",
       "      <td>NaN</td>\n",
       "      <td>FATAL</td>\n",
       "      <td>Y</td>\n",
       "      <td>NaN</td>\n",
       "      <td>NaN</td>\n",
       "      <td>M</td>\n",
       "      <td>NaN</td>\n",
       "      <td>0</td>\n",
       "      <td>NaN</td>\n",
       "      <td>NaN</td>\n",
       "    </tr>\n",
       "    <tr>\n",
       "      <th>6.0</th>\n",
       "      <td>ND.0005</td>\n",
       "      <td>Before 1903</td>\n",
       "      <td>0.0</td>\n",
       "      <td>Unprovoked</td>\n",
       "      <td>AUSTRALIA</td>\n",
       "      <td>Western Australia</td>\n",
       "      <td>Diving</td>\n",
       "      <td>male</td>\n",
       "      <td>NaN</td>\n",
       "      <td>FATAL</td>\n",
       "      <td>Y</td>\n",
       "      <td>NaN</td>\n",
       "      <td>NaN</td>\n",
       "      <td>M</td>\n",
       "      <td>NaN</td>\n",
       "      <td>0</td>\n",
       "      <td>NaN</td>\n",
       "      <td>NaN</td>\n",
       "    </tr>\n",
       "  </tbody>\n",
       "</table>\n",
       "</div>"
      ],
      "text/plain": [
       "               Case Number         Date  Year        Type             Country  \\\n",
       "original order                                                                  \n",
       "2.0                ND.0001    1845-1853   0.0  Unprovoked  CEYLON (SRI LANKA)   \n",
       "3.0                ND.0002    1883-1889   0.0  Unprovoked              PANAMA   \n",
       "4.0                ND.0003    1900-1905   0.0  Unprovoked                 USA   \n",
       "5.0                ND.0004  Before 1903   0.0  Unprovoked           AUSTRALIA   \n",
       "6.0                ND.0005  Before 1903   0.0  Unprovoked           AUSTRALIA   \n",
       "\n",
       "                             Area      Activity                   Name  Age  \\\n",
       "original order                                                                \n",
       "2.0              Eastern Province      Swimming                   male   15   \n",
       "3.0                           NaN   Desconocido        Jules Patterson  NaN   \n",
       "4.0                North Carolina      Swimming  Coast Guard personnel  NaN   \n",
       "5.0             Western Australia  Pearl diving                  Ahmun  NaN   \n",
       "6.0             Western Australia        Diving                   male  NaN   \n",
       "\n",
       "                                                           Injury Fatality  \\\n",
       "original order                                                               \n",
       "2.0             FATAL. \"Shark bit him in half, carrying away t...        Y   \n",
       "3.0                                                         FATAL        Y   \n",
       "4.0                                                         FATAL        Y   \n",
       "5.0                                                         FATAL        Y   \n",
       "6.0                                                         FATAL        Y   \n",
       "\n",
       "               Time Species Sex Full_Date year month  day  \n",
       "original order                                             \n",
       "2.0             NaN     NaN   M       NaN    0   NaN  NaN  \n",
       "3.0             NaN     NaN   M       NaN    0   NaN  NaN  \n",
       "4.0             NaN     NaN   M       NaN    0   NaN  NaN  \n",
       "5.0             NaN     NaN   M       NaN    0   NaN  NaN  \n",
       "6.0             NaN     NaN   M       NaN    0   NaN  NaN  "
      ]
     },
     "execution_count": 80,
     "metadata": {},
     "output_type": "execute_result"
    }
   ],
   "source": [
    "dfSharks1.head()"
   ]
  },
  {
   "cell_type": "code",
   "execution_count": 81,
   "id": "86beaadd",
   "metadata": {},
   "outputs": [],
   "source": [
    "dfSharks1.drop(columns=['Time','Full_Date'], inplace = True)"
   ]
  },
  {
   "cell_type": "code",
   "execution_count": 101,
   "id": "4f6218b9",
   "metadata": {},
   "outputs": [],
   "source": []
  },
  {
   "cell_type": "code",
   "execution_count": 85,
   "id": "45d9fab8",
   "metadata": {},
   "outputs": [
    {
     "ename": "AttributeError",
     "evalue": "'YYYYYYYYYNNYYNYYYNNYYNNYDesconocidoYNNYNNNYNNYYYYYNNYYNNNYYYYNNYNNNNNNNYNNNNNYYDesconocidoYNYNYNNNYNNYNNNNYNYNYNYNNNYNYYNNNNNNNYYYNYNYNYNYYNNYYYYNYNYDesconocidoDesconocidoYDesconocidoYDesconocidoDesconocidoDesconocidoDesconocidoYNYNYDesconocidoDesconocidoYYYDesconocidoNYYNYDesconocidoYYYYYYYYYYNYYYYYYNNNDesconocidoDesconocidoNYDesconocidoYYYNYYNYYYDesconocidoDesconocidoYDesconocidoNYYDesconocidoYYNYNNYNYYNYYYYDesconocidoYNNYNYDesconocidoDesconocidoYDesconocidoYNNNYYDesconocidoNYYNYYNYNNYYYYYYYNYYNYYNDesconocidoNYNNYNNNDesconocidoNDesconocidoYYYYYYYYNYYYYYYDesconocidoYYYNDesconocidoYDesconocidoNYNYNNDesconocidoYYYYNYDesconocidoYYYYYYYNDesconocidoDesconocidoYYYYNNYNNYNNYYNNNYYYDesconocidoNDesconocidoYNYYYYYDesconocidoNYNNYDesconocidoYNYYYDesconocidoYYYNNNYNYYNDesconocidoYYNYYYNYNYYYDesconocidoNDesconocidoNNNNNNNNNYYDesconocidoNNNDesconocidoNDesconocidoYNDesconocidoYDesconocidoYNNDesconocidoNNYNYNYYNNNNYNDesconocidoYDesconocidoNYNNYYYNYYNDesconocidoNYNNNNNDesconocidoNYNYYYYNYYYYNNYYNYDesconocidoYNNNNYNNDesconocidoDesconocidoNNYYDesconocidoNNNYYYNYYNNYYDesconocidoDesconocidoNNYYYYYNNNNNYDesconocidoYYYYNNYYYYYYYYDesconocidoNYYNNYYNNYNNNYNNNDesconocidoDesconocidoDesconocidoNYDesconocidoYNNNNYYNYNYDesconocidoNYYYYNNYNDesconocidoNDesconocidoYDesconocidoNYYYYNYNYNYYDesconocidoYDesconocidoYYDesconocidoDesconocidoNYYDesconocidoYNNNNNYNDesconocidoYYDesconocidoNYYNNNYNYYNYDesconocidoNNNYDesconocidoYYDesconocidoNNYYYYYDesconocidoYYYYNYDesconocidoYNDesconocidoNNNYNNNYYNYNYYNYNYNYNYDesconocidoYNYNYYNYNYYYYNDesconocidoNYYYYNNYDesconocidoNYYNYNYNDesconocidoYNYYYYDesconocidoNYNNYYNNNDesconocidoYDesconocidoDesconocidoNYNNNYYYYNNYNNNNNDesconocidoYNNDesconocidoNDesconocidoYYNYNDesconocidoDesconocidoYYNNNDesconocidoYNDesconocidoNNNNYNYNYYYYYYYYYNNYYNDesconocidoYYYYYYNYYYNNDesconocidoDesconocidoDesconocidoNYNYYDesconocidoYNNDesconocidoNYDesconocidoYYYDesconocidoDesconocidoYYNYDesconocidoYYNNYYNYNYNNYNYYNYYNNDesconocidoYNYYYDesconocidoNDesconocidoNYNYYYDesconocidoYYYYYDesconocidoYNYYYNDesconocidoDesconocidoYYDesconocidoNYYYNNYNYNYNDesconocidoDesconocidoYNDesconocidoNYDesconocidoYNNNYDesconocidoYNNYNYNYNYNYYNYDesconocidoYYNYYNNNNDesconocidoYNYYNYYNNNNYYDesconocidoDesconocidoDesconocidoNNNYYNDesconocidoNNNYYDesconocidoNYYNNNNYYNNDesconocidoYDesconocidoNNDesconocidoYYNNNNNYYNYNYYNNYYYNNDesconocidoNNYYYNNYNNNYNYYYNNYNNNYYYNNYYNNDesconocidoYNNYNYNNNYYYNNNNNNDesconocidoYNYNDesconocidoYYNNYNYNYNYNYYYDesconocidoYYNYNYYNNYNDesconocidoYYYNNYNDesconocidoYDesconocidoNNYNNYNNNNDesconocidoDesconocidoYYNYNYDesconocidoNNNDesconocidoNYNNNNNNYNYNNNYYNNDesconocidoNNNNNYDesconocidoYNYNNYNNYDesconocidoNNYYYNNYNYNYYNNNNNNNNYYNNNYYYNNNDesconocidoDesconocidoYNNYNYNYNNDesconocidoNNNDesconocidoNYYNNNNNNNDesconocidoYYYNYYNYNNYNYYNNNNNDesconocidoNNYNNNYYYNNNYYNYNYNYNNDesconocidoDesconocidoNNYNNNNNNYNYNYNDesconocidoYNNNDesconocidoNNYYNNNNNNYNNYYNDesconocidoYDesconocidoNNYNNYDesconocidoNYNNYYNYYNNNDesconocidoNNNNNNYNDesconocidoNNYNNNNYYNNYDesconocidoNNNNNNNNNNYNNNYNNYYNYNYNNNYYDesconocidoNNYNYNYYNDesconocidoDesconocidoNNNYYNNNNNNNDesconocidoNNNNYNYYDesconocidoDesconocidoYDesconocidoYYYNNYNDesconocidoYYNNNNNNNNYYNNNYNNNNNNYNYYNNNNNDesconocidoNNNYDesconocidoDesconocidoYNYNYDesconocidoYYDesconocidoNNNNNNNYYYYYNNNNYNDesconocidoNNNNYNYNYYNNNNYNYYNYNNNNYYYYNNYNNNNYDesconocidoDesconocidoNNYDesconocidoDesconocidoDesconocidoDesconocidoNYNNYNYNYNYNYNNNYNNYYNYYNYYNYNNNNNYNNNNDesconocidoNYNYNNNYYNNNYNNNYNYNYNDesconocidoYDesconocidoNNNDesconocidoYNYNYNNNNYNYYYNYNNYYDesconocidoNNNNYYYYYYDesconocidoNYYNDesconocidoNDesconocidoNYNYDesconocidoYNYYYYYYNNYYNNYNYYNNDesconocidoYYYNNYNYYYDesconocidoYNNNNYNNNYYYYYNNYNYNNNNYNNNNNNNNNYNNNNYNNYYNNNNYNNNNNNNNNNNDesconocidoNNNYYNYNYNNNYDesconocidoNNNNNNYYNDesconocidoYNNNYNNYYYYNNYNYNNNYYYNYNNYNDesconocidoNDesconocidoYDesconocidoNYNNNYNNYNNNDesconocidoYNDesconocidoNNYNNNYYNDesconocidoNYYNNNNDesconocidoYNDesconocidoYNNYNNYNNDesconocidoNNNYNNNNNNNNYNNYDesconocidoYNNNNNNNNNYNNYNYNYNYDesconocidoYYNNNYDesconocidoNYYYYNYNNNNNNNNNNYNNNYDesconocidoNYYYNDesconocidoNNNYNNNNNNYYNNNNNNNNNNNNNYYDesconocidoNNNNYNNNNNNYNNYNYNNNNYNDesconocidoNYYNNDesconocidoYNNYDesconocidoYNNNNYYNDesconocidoDesconocidoNYNNYYYNNDesconocidoYNDesconocidoYYNNNYNNNNYNNNNNYYNYNNNYYNYNNNNYNNNNNYNNDesconocidoNYYNNYNNYNYNDesconocidoNYNYYNNNYNYNNNYYNNNYNYNYYNYNNNNYYYYNYNNNYNDesconocidoNDesconocidoYNDesconocidoNNNNNNNYNNNDesconocidoNYNNNYYNNNYYNNNYNNYYYNNNYDesconocidoNNNDesconocidoNYYNNDesconocidoDesconocidoNNNNNYNNYYYNNYNNNNYNNNNNYDesconocidoYYYYNDesconocidoNYNNNYYNYNNNYNNNNYNNNNYNNNNNDesconocidoNNYNNDesconocidoYYNYNNYNNNYNNDesconocidoDesconocidoNYNNYNYDesconocidoDesconocidoDesconocidoDesconocidoNYDesconocidoYNDesconocidoNDesconocidoNNYNNYNNNNNDesconocidoNNNYNDesconocidoNYYYNNNYNYNNNDesconocidoNNNNNYNNNDesconocidoNNYNDesconocidoNNNNNYYNNNNNDesconocidoNNNNYNNNNNYDesconocidoNNNNNNNNYNNNDesconocidoNNNNDesconocidoYNDesconocidoDesconocidoNNNDesconocidoNDesconocidoYNDesconocidoNNYNNNNDesconocidoNNNYNYYYNNNNDesconocidoNNNYNNNNDesconocidoNYNYNNNNNNNNNNNYYNNNNNNDesconocidoNNNNNNNNYYNNNNNNNNNDesconocidoNNNNYNYNDesconocidoNDesconocidoNYNNNNNYNYNNNNNNDesconocidoNNNNNNNNNDesconocidoNDesconocidoNYDesconocidoNYYNNNYNNNNNNNYNNNNNYYYNNNDesconocidoDesconocidoNNNNNNNYNYNNNNNDesconocidoYYNNYDesconocidoNNYNNNNDesconocidoNNYNYDesconocidoNNNNNNNDesconocidoYNDesconocidoNNNNYDesconocidoNNNYNYDesconocidoNYYYNNNYNNYDesconocidoYNNNNNNNNNNNYNYNNNDesconocidoYNNNDesconocidoNDesconocidoNYNNNNNYYNNDesconocidoYNNNNYYNNNYNYYYNDesconocidoNNNDesconocidoYNYNYDesconocidoNNNNNNDesconocidoNNNYDesconocidoNDesconocidoNNNYNYNNNNDesconocidoYNNNNNYNNNDesconocidoNNNDesconocidoNNNDesconocidoNNNNYYYNNDesconocidoDesconocidoNYNNDesconocidoNNNNYYNNNDesconocidoNYNNNDesconocidoNYNNNYNNYNNYNNNYDesconocidoYNYNNNNNDesconocidoYYNNNNDesconocidoNNYYYNDesconocidoNDesconocidoNNDesconocidoDesconocidoNNYYYDesconocidoNNNNNNNNNYNYDesconocidoNNNNNNNNDesconocidoYNNNNDesconocidoNNYNYNYYNDesconocidoDesconocidoDesconocidoNNYDesconocidoYNNNNYNDesconocidoNDesconocidoDesconocidoYYNNNNNNDesconocidoNNNYNNDesconocidoNDesconocidoNNNDesconocidoYNNNNNNNNYDesconocidoNNNNDesconocidoNDesconocidoNNNNDesconocidoNNNDesconocidoNNNNDesconocidoNDesconocidoNNNNDesconocidoNNNNNNNNNNNNNNYNNDesconocidoNNNNNNYNNNNNNDesconocidoDesconocidoNYYYYNNNDesconocidoNNNNNNNNNNNYYNNNNNYYYYYNNNNNNYYNNNNNNYNNNNNNYNNNNYNYNNNYYDesconocidoNNNDesconocidoNNNYNNYNNNYNNNNNNNYNYNYNNNDesconocidoNYYNYNNNYNYYNYNYYNYNNNNNNNNNNNYNNYYNNYNNYNNNNNNNNNNYNYNNNYNNYNNNNDesconocidoNDesconocidoDesconocidoNNNNNNNNNNNNNNYYNNNNNDesconocidoNDesconocidoNNNNNNNYYNNNNNNNNNDesconocidoNNNNNNYNNNNNYYYNNNNNNDesconocidoNDesconocidoNNNYNDesconocidoNYYNNNNDesconocidoNNNNDesconocidoNNYNNNNNNNYNDesconocidoNNNNNNNDesconocidoNNNNNNNNNDesconocidoNNYNYNYNNNNNYNYNDesconocidoNYNYYNNNNNYNNDesconocidoDesconocidoNYNNNNNNYNYNYNNNNNNNNNNYNNYDesconocidoNNDesconocidoNNNDesconocidoNNNDesconocidoNNDesconocidoNNNNNNNNNNYYDesconocidoNNNNNNYNDesconocidoNNNNYNNNNDesconocidoNNNNNNYDesconocidoNDesconocidoNYNYNNNNYNYNDesconocidoNNNNYNNDesconocidoNNNDesconocidoNNDesconocidoYDesconocidoNNNNNNNNYNNNDesconocidoNNNNNNDesconocidoNNDesconocidoNNNNDesconocidoNNYNNNNNNYYNNNNNNNNNDesconocidoNNDesconocidoNNNNDesconocidoNNYNNDesconocidoNNDesconocidoNNDesconocidoNYNNNNDesconocidoNNYDesconocidoNYNDesconocidoNNNNNNDesconocidoNDesconocidoNNYNYYNNNNNDesconocidoNNNYNNNNNNNNDesconocidoDesconocidoNDesconocidoNDesconocidoNNNNNNNNNNNNNNNNNNNNNNYYNNNNNNDesconocidoNNNDesconocidoNDesconocidoNNNNNNNDesconocidoNNNYNNDesconocidoNNYNNNYYNDesconocidoNNNNNNNNNNNNNYYNDesconocidoNDesconocidoNDesconocidoNYNNNNDesconocidoDesconocidoNNNNNNNNNDesconocidoNNDesconocidoNNYNNYNNNNNNNNNNNNNNNNYNNNNNNNNNYYYYNNNYNNYDesconocidoYNNNYNNNNNDesconocidoNNNNNNNYNDesconocidoNNNNNNNNNNNNDesconocidoDesconocidoNDesconocidoNNNDesconocidoYNDesconocidoDesconocidoNDesconocidoNNYNNNNNYNNNNNNNYNNNNNDesconocidoNNNNNNNNNNNNNDesconocidoNNNNNNNNNNNNYNNYYNNNNNNNNNNNYDesconocidoNNNNYNYNYDesconocidoNNNNNNDesconocidoNYNNYNNNNNYDesconocidoNNNYYNNNDesconocidoDesconocidoNNDesconocidoNNNYNNNYNNNNYNNNNNNNNNNNYNNNNNNNNNNNNNNDesconocidoYYNYYYNYYNYNNYYNNNNNNNNNNYNNYNNNNYNYNYNNNNNNYNYNNNNNNNNYNNYDesconocidoNNNNNNNNNNYYYNNNYNNNNNNNNNYYDesconocidoDesconocidoNNNNDesconocidoDesconocidoNDesconocidoNYNNYNNYNNDesconocidoYDesconocidoYNYYYNNNNNNNNNNNYNNNNNNNDesconocidoDesconocidoNNNDesconocidoNNNNNNNNNNNDesconocidoNYYYNNNNNNNNNNNDesconocidoNDesconocidoNYYNDesconocidoNNNNYYNYNNNNYNNDesconocidoNYNYNNNNNNNDesconocidoNNNYNNNNNDesconocidoNNNNNNNNNYNNNNNYNDesconocidoNYYNNNDesconocidoNNNNNNNNNDesconocidoNNNNYNNYNNNNNNNYNNYDesconocidoNNNNNNYNNNNNNDesconocidoNNNDesconocidoNYNYYNNNYNDesconocidoNNNNNYNNYNNNNNNNNNYYNNNNNNNNNNNNDesconocidoNNNNNNNNNNNNYNNNNYNNNNNDesconocidoNYDesconocidoNNNNNNNNNNYNNNYNNYNNNNNNNYNNNNNNNNNNNNNNNNNNNNNNNNNNNNNNNDesconocidoNNNNNYYNNNNNNNDesconocidoNNNYNNNNNNYNDesconocidoYYNNNNNNNYYNNNNNNNNNNNNNNNNYDesconocidoDesconocidoNNNNNYNYNNYNNNNNNYNYYNNNNNNNNNNYNDesconocidoNDesconocidoNYNNNYNNNNNNNDesconocidoNYYDesconocidoNNNNNNNNNNNNNNNNNNNYNNNDesconocidoNNNNNDesconocidoNNNNNNNNNNNNNNNNNNNNNNNNNNNNNNYNNYNNNNNNYNNNNNNDesconocidoNNNNNYNNNNYNYDesconocidoNNNYNNNNNNNNDesconocidoYNNNNNNNNNNNNNNYNDesconocidoNNNNYNNNNNNNNNNNNNNNNNNNNNNNNNNYNNNNNNNNYYDesconocidoNNNNNDesconocidoYNNNNNNNNNNNNNNNNNNNNNNNNNNDesconocidoNNNNNYNNNNNNNNNNNNNDesconocidoYNNYNNDesconocidoNNNNNNYNNNNNYNDesconocidoNNNNNNNNNNNYNNNYNDesconocidoNNYDesconocidoNNNNNDesconocidoNNNYDesconocidoNNYNNNNNNNNNNDesconocidoNYYYNNYNNNNDesconocidoNNNNYNNNDesconocidoNNNYNNNNNNNNNNNYNNNNYDesconocidoNNNNNNNNNNDesconocidoNNNNYNNYYDesconocidoNNNNNNNNNNNDesconocidoNYNNNDesconocidoNNDesconocidoNNNNNNNNNNNNNNYDesconocidoNNNDesconocidoNYYNNNNDesconocidoNDesconocidoDesconocidoNNDesconocidoNNDesconocidoNNDesconocidoNYYNNNNYNDesconocidoNNNNNNNNNNNNNNNNNNNNNNNNNNNNNNNNNNYDesconocidoNNNNNNYNNNNDesconocidoNNNDesconocidoNYNNNNNNNDesconocidoNNNNNNNNNNNNNYNNNNNNNNNNYNDesconocidoNDesconocidoNNNNNNNNNNNYYDesconocidoDesconocidoNNNNNNYDesconocidoNNNNNDesconocidoYNNNNNNNNYNNNNNNDesconocidoNYDesconocidoNNNNNDesconocidoNNNNNNYNNNNNNNNNYNNDesconocidoNNNNNNNNNDesconocidoNNNNDesconocidoNNNNDesconocidoNNNNNNNNNNNNNNNNNNNNNNNNNNNNNNNNNNDesconocidoNNNYYNNNNNNDesconocidoNNNNNNNNNDesconocidoNNDesconocidoNNNNNDesconocidoNNDesconocidoNNNNYNNNNNNNNYNNNNDesconocidoDesconocidoDesconocidoDesconocidoNYNNNNYNNNNYYNNNNNNNNNNNNNNNNDesconocidoNNNNDesconocidoNNNNNNNNNNNNNNNDesconocidoNDesconocidoNNNNDesconocidoNNNNNNNNNNNNNNNNNNYYNNNNYNNNNYNNNDesconocidoNNNNNNNYNNDesconocidoYNNNDesconocidoNNNYNNNNNNNYNNNNNNNYNNNDesconocidoNDesconocidoNNNNNNNNNNNNNYNNNDesconocidoDesconocidoNNNNNNNNNDesconocidoNYNNNNNNNNYNNDesconocidoYYYNNNNNNNNNNNNNNNNNNNNDesconocidoNNNYDesconocidoYNNNNNNNNNNNYNNNNNYDesconocidoNNNNNYNNNNNNNNNNNNNNNNNNNNNNNNNNNNNNNNNNDesconocidoNNNNNNYNDesconocidoNNNNNNNYNNNNNNNYNNNNNNNNYNDesconocidoNNNNNNYNNNNNYDesconocidoNNNNNNNYNNNNDesconocidoNNNNNNNNNNNNNDesconocidoNNYNYNNNNNNNNNNYYNNNNNNNNNNNNNNNNNNDesconocidoYNNYNNNDesconocidoNNYNNNNDesconocidoNNYNNNNYYNNNNNDesconocidoNNNYNNNNYNNNNNNNNNNDesconocidoNNDesconocidoNNNNNDesconocidoNNNNYNNNNNNNNNNDesconocidoNNNNNNNNNNYNNNYNNNNNNNNNNNNDesconocidoNNNNNNNDesconocidoNNNNNNDesconocidoNNDesconocidoNNYDesconocidoDesconocidoYDesconocidoNNNNNNNNNYNNNNNNNNNNNNNNNNNNDesconocidoNNNYNNNNNYDesconocidoNNNNNYNNNNNNDesconocidoNNNNNNNYNNNYNNNNNDesconocidoNDesconocidoNNYNNNNNNNYDesconocidoNNYNNNNNNNNNNNNDesconocidoNNDesconocidoNYYNNYNNNNNNNNNNNYNNNNNDesconocidoNNNNNNNNDesconocidoNNNNNNNNNNYNNNNNNNNNNNNNYNYYNNNNNNNNNNNNNYNNNDesconocidoNDesconocidoNNNNYDesconocidoYNNNNNNNNNNDesconocidoNNNNNNNNNNNNNNNNNNNNNNNNNDesconocidoNNNNNNDesconocidoNNNNNNNNNNNNNNNNNDesconocidoNNNNNNYDesconocidoNNNNNNNNNNNNNNNNNNNNNNNNNYNNYNNNDesconocidoNYNNNNDesconocidoNNDesconocidoNNNNNNNYYNNNNNNYNDesconocidoDesconocidoNNYNNNNYNNNYNNNNNNNNNNNNNNNNNNNNNNDesconocidoNNNNNNNNNDesconocidoDesconocidoNNNNNYDesconocidoNDesconocidoNNNDesconocidoNNNNDesconocidoNNNNNNNNNNNNNNNNNNNNNNNNNNNNDesconocidoYNNNNNNNNDesconocidoNNNNNNNNYNNNNNNNNNNNNNNNNNDesconocidoDesconocidoNNNNNNYNDesconocidoNNDesconocidoNNDesconocidoNDesconocidoYNNNNNNNNNNNNNNNNYNDesconocidoNYNDesconocidoNNNNNNNNNNNNNNNNNNNNNNNNNNNNNNNNNNNNNNDesconocidoNNNNYNNNNNNNNNNNNNNDesconocidoNNNNNNNNNNDesconocidoNNNNNDesconocidoNDesconocidoNNNNNNNNNNNNYNNNNNNNNNNNNNNDesconocidoNNNYNDesconocidoNDesconocidoNYNNNDesconocidoYNNNNNNNNNNNNNNNNNNDesconocidoDesconocidoNNNNNNNNDesconocidoNNNNNNNDesconocidoNNNNNNNNDesconocidoNNNNNNYNNNNNNDesconocidoNNNNDesconocidoNNDesconocidoNNNNNNNNNNNYNNNNYYNNNNNNNNNNNNNNNNNNNNNNNNNNNNNNDesconocidoNNNNNNNNNNNNNNNNNNNNYNNNNNNDesconocidoDesconocidoDesconocidoDesconocidoDesconocidoDesconocidoDesconocidoDesconocidoDesconocidoDesconocidoDesconocidoDesconocidoDesconocidoDesconocidoDesconocidoDesconocidoDesconocidoDesconocidoDesconocidoDesconocidoDesconocidoDesconocidoDesconocidoDesconocidoDesconocidoDesconocidoDesconocidoDesconocidoDesconocidoDesconocidoDesconocidoDesconocidoDesconocidoDesconocidoDesconocidoDesconocidoDesconocidoDesconocidoDesconocidoDesconocidoDesconocidoDesconocidoDesconocidoDesconocidoDesconocidoDesconocidoDesconocidoDesconocidoDesconocidoDesconocidoDesconocidoDesconocidoDesconocidoDesconocidoDesconocidoDesconocidoDesconocidoDesconocidoDesconocidoDesconocidoDesconocidoDesconocidoDesconocidoDesconocidoDesconocidoDesconocidoDesconocidoDesconocidoDesconocidoDesconocidoDesconocidoDesconocidoDesconocidoDesconocidoDesconocidoDesconocidoDesconocidoDesconocidoDesconocidoDesconocidoDesconocidoDesconocidoDesconocidoDesconocidoDesconocidoDesconocidoDesconocidoDesconocidoDesconocidoDesconocidoDesconocidoDesconocidoDesconocidoDesconocidoDesconocidoDesconocidoDesconocidoDesconocidoDesconocidoDesconocidoDesconocidoDesconocidoDesconocidoDesconocidoDesconocidoDesconocidoDesconocidoDesconocidoDesconocidoDesconocidoDesconocidoDesconocidoDesconocidoDesconocidoDesconocidoDesconocidoDesconocidoDesconocidoDesconocidoDesconocidoDesconocidoDesconocidoDesconocidoDesconocidoDesconocidoDesconocidoDesconocidoDesconocidoDesconocidoDesconocidoDesconocidoDesconocidoDesconocidoDesconocidoDesconocidoDesconocidoDesconocidoDesconocidoDesconocidoDesconocidoDesconocidoDesconocidoDesconocidoDesconocidoDesconocidoDesconocidoDesconocidoDesconocidoDesconocidoDesconocidoDesconocidoDesconocidoDesconocidoDesconocidoDesconocidoDesconocidoDesconocidoDesconocidoDesconocidoDesconocidoDesconocidoDesconocidoDesconocidoDesconocidoDesconocidoDesconocidoDesconocidoDesconocidoDesconocidoDesconocidoDesconocidoDesconocidoDesconocidoDesconocidoDesconocidoDesconocidoDesconocidoDesconocidoDesconocidoDesconocidoDesconocidoDesconocidoDesconocidoDesconocidoDesconocidoDesconocidoDesconocidoDesconocidoDesconocidoDesconocidoDesconocidoDesconocidoDesconocidoDesconocidoDesconocidoDesconocidoDesconocidoDesconocidoDesconocidoDesconocidoDesconocidoDesconocidoDesconocidoDesconocidoDesconocidoDesconocidoDesconocidoDesconocidoDesconocidoDesconocidoDesconocidoDesconocidoDesconocidoDesconocidoDesconocidoDesconocidoDesconocidoDesconocidoDesconocidoDesconocidoDesconocidoDesconocidoDesconocidoDesconocidoDesconocidoDesconocidoDesconocidoDesconocidoDesconocidoDesconocidoDesconocidoDesconocidoDesconocidoDesconocidoDesconocidoDesconocidoDesconocidoDesconocidoDesconocidoDesconocidoDesconocidoDesconocidoDesconocidoDesconocidoDesconocidoDesconocidoDesconocidoDesconocidoDesconocidoDesconocidoDesconocidoDesconocidoDesconocidoDesconocidoDesconocidoDesconocidoDesconocidoDesconocidoDesconocidoDesconocidoDesconocidoDesconocidoDesconocidoDesconocidoDesconocidoDesconocidoDesconocidoDesconocidoDesconocidoDesconocidoDesconocidoDesconocidoDesconocidoDesconocidoDesconocidoDesconocidoDesconocidoDesconocidoDesconocidoDesconocidoDesconocidoDesconocidoDesconocidoDesconocidoDesconocidoDesconocidoDesconocidoDesconocidoDesconocidoDesconocidoDesconocidoDesconocidoDesconocidoDesconocidoDesconocidoDesconocidoDesconocidoDesconocidoDesconocidoDesconocidoDesconocidoDesconocidoDesconocidoDesconocidoDesconocidoDesconocidoDesconocidoDesconocidoDesconocidoDesconocidoDesconocidoDesconocidoDesconocidoDesconocidoDesconocidoDesconocidoDesconocidoDesconocidoDesconocidoDesconocidoDesconocidoDesconocidoDesconocidoDesconocidoDesconocidoDesconocidoDesconocidoDesconocidoDesconocidoDesconocidoDesconocidoDesconocidoDesconocidoDesconocidoDesconocidoDesconocidoDesconocidoDesconocidoDesconocidoDesconocidoDesconocidoDesconocidoDesconocidoDesconocidoDesconocidoDesconocidoDesconocidoDesconocidoDesconocidoDesconocidoDesconocidoDesconocidoDesconocidoDesconocidoDesconocidoDesconocidoDesconocidoDesconocidoDesconocidoDesconocidoDesconocidoDesconocidoDesconocidoDesconocidoDesconocidoDesconocidoDesconocidoDesconocidoDesconocidoDesconocidoDesconocidoDesconocidoDesconocidoDesconocidoDesconocidoDesconocidoDesconocidoDesconocidoDesconocidoDesconocidoDesconocidoDesconocidoDesconocidoDesconocidoDesconocidoDesconocidoDesconocidoDesconocidoDesconocidoDesconocidoDesconocidoDesconocidoDesconocidoDesconocidoDesconocidoDesconocidoDesconocidoDesconocidoDesconocidoDesconocidoDesconocidoDesconocidoDesconocidoDesconocidoDesconocidoDesconocidoDesconocidoDesconocidoDesconocidoDesconocidoDesconocidoDesconocidoDesconocidoDesconocidoDesconocidoDesconocidoDesconocidoDesconocidoDesconocidoDesconocidoDesconocidoDesconocidoDesconocidoDesconocidoDesconocidoDesconocidoDesconocidoDesconocidoDesconocidoDesconocidoDesconocidoDesconocidoDesconocidoDesconocidoDesconocidoDesconocidoDesconocidoDesconocidoDesconocidoDesconocidoDesconocidoDesconocidoDesconocidoDesconocidoDesconocidoDesconocidoDesconocidoDesconocidoDesconocidoDesconocidoDesconocidoDesconocidoDesconocidoDesconocidoDesconocidoDesconocidoDesconocidoDesconocidoDesconocidoDesconocidoDesconocidoDesconocidoDesconocidoDesconocidoDesconocidoDesconocidoDesconocidoDesconocidoDesconocidoDesconocidoDesconocidoDesconocidoDesconocidoDesconocidoDesconocidoDesconocidoDesconocidoDesconocidoDesconocidoDesconocidoDesconocidoDesconocidoDesconocidoDesconocidoDesconocidoDesconocidoDesconocidoDesconocidoDesconocidoDesconocidoDesconocidoDesconocidoDesconocidoDesconocidoDesconocidoDesconocidoDesconocidoDesconocidoDesconocidoDesconocidoDesconocidoDesconocidoDesconocidoDesconocidoDesconocidoDesconocidoDesconocidoDesconocidoDesconocidoDesconocidoDesconocidoDesconocidoDesconocidoDesconocidoDesconocidoDesconocidoDesconocidoDesconocidoDesconocidoDesconocidoDesconocidoDesconocidoDesconocidoDesconocidoDesconocidoDesconocidoDesconocidoDesconocidoDesconocidoDesconocidoDesconocidoDesconocidoDesconocidoDesconocidoDesconocidoDesconocidoDesconocidoDesconocidoDesconocidoDesconocidoDesconocidoDesconocidoDesconocidoDesconocidoDesconocidoDesconocidoDesconocidoDesconocidoDesconocidoDesconocidoDesconocidoDesconocidoDesconocidoDesconocidoDesconocidoDesconocidoDesconocidoDesconocidoDesconocidoDesconocidoDesconocidoDesconocidoDesconocidoDesconocidoDesconocidoDesconocidoDesconocidoDesconocidoDesconocidoDesconocidoDesconocidoDesconocidoDesconocidoDesconocidoDesconocidoDesconocidoDesconocidoDesconocidoDesconocidoDesconocidoDesconocidoDesconocidoDesconocidoDesconocidoDesconocidoDesconocidoDesconocidoDesconocidoDesconocidoDesconocidoDesconocidoDesconocidoDesconocidoDesconocidoDesconocidoDesconocidoDesconocidoDesconocidoDesconocidoDesconocidoDesconocidoDesconocidoDesconocidoDesconocidoDesconocidoDesconocidoDesconocidoDesconocidoDesconocidoDesconocidoDesconocidoDesconocidoDesconocidoDesconocidoDesconocidoDesconocidoDesconocidoDesconocidoDesconocidoDesconocidoDesconocidoDesconocidoDesconocidoDesconocidoDesconocidoDesconocidoDesconocidoDesconocidoDesconocidoDesconocidoDesconocidoDesconocidoDesconocidoDesconocidoDesconocidoDesconocidoDesconocidoDesconocidoDesconocidoDesconocidoDesconocidoDesconocidoDesconocidoDesconocidoDesconocidoDesconocidoDesconocidoDesconocidoDesconocidoDesconocidoDesconocidoDesconocidoDesconocidoDesconocidoDesconocidoDesconocidoDesconocidoDesconocidoDesconocidoDesconocidoDesconocidoDesconocidoDesconocidoDesconocidoDesconocidoDesconocidoDesconocidoDesconocidoDesconocidoDesconocidoDesconocidoDesconocidoDesconocidoDesconocidoDesconocidoDesconocidoDesconocidoDesconocidoDesconocidoDesconocidoDesconocidoDesconocidoDesconocidoDesconocidoDesconocidoDesconocidoDesconocidoDesconocidoDesconocidoDesconocidoDesconocidoDesconocidoDesconocidoDesconocidoDesconocidoDesconocidoDesconocidoDesconocidoDesconocidoDesconocidoDesconocidoDesconocidoDesconocidoDesconocidoDesconocidoDesconocidoDesconocidoDesconocidoDesconocidoDesconocidoDesconocidoDesconocidoDesconocidoDesconocidoDesconocidoDesconocidoDesconocidoDesconocidoDesconocidoDesconocidoDesconocidoDesconocidoDesconocidoDesconocidoDesconocidoDesconocidoDesconocidoDesconocidoDesconocidoDesconocidoDesconocidoDesconocidoDesconocidoDesconocidoDesconocidoDesconocidoDesconocidoDesconocidoDesconocidoDesconocidoDesconocidoDesconocidoDesconocidoDesconocidoDesconocidoDesconocidoDesconocidoDesconocidoDesconocidoDesconocidoDesconocidoDesconocidoDesconocidoDesconocidoDesconocidoDesconocidoDesconocidoDesconocidoDesconocidoDesconocidoDesconocidoDesconocidoDesconocidoDesconocidoDesconocidoDesconocidoDesconocidoDesconocidoDesconocidoDesconocidoDesconocidoDesconocidoDesconocidoDesconocidoDesconocidoDesconocidoDesconocidoDesconocidoDesconocidoDesconocidoDesconocidoDesconocidoDesconocidoDesconocidoDesconocidoDesconocidoDesconocidoDesconocidoDesconocidoDesconocidoDesconocidoDesconocidoDesconocidoDesconocidoDesconocidoDesconocidoDesconocidoDesconocidoDesconocidoDesconocidoDesconocidoDesconocidoDesconocidoDesconocidoDesconocidoDesconocidoDesconocidoDesconocidoDesconocidoDesconocidoDesconocidoDesconocidoDesconocidoDesconocidoDesconocidoDesconocidoDesconocidoDesconocidoDesconocidoDesconocidoDesconocidoDesconocidoDesconocidoDesconocidoDesconocidoDesconocidoDesconocidoDesconocidoDesconocidoDesconocidoDesconocidoDesconocidoDesconocidoDesconocidoDesconocidoDesconocidoDesconocidoDesconocidoDesconocidoDesconocidoDesconocidoDesconocidoDesconocidoDesconocidoDesconocidoDesconocidoDesconocidoDesconocidoDesconocidoDesconocidoDesconocidoDesconocidoDesconocidoDesconocidoDesconocidoDesconocidoDesconocidoDesconocidoDesconocidoDesconocidoDesconocidoDesconocidoDesconocidoDesconocidoDesconocidoDesconocidoDesconocidoDesconocidoDesconocidoDesconocidoDesconocidoDesconocidoDesconocidoDesconocidoDesconocidoDesconocidoDesconocidoDesconocidoDesconocidoDesconocidoDesconocidoDesconocidoDesconocidoDesconocidoDesconocidoDesconocidoDesconocidoDesconocidoDesconocidoDesconocidoDesconocidoDesconocidoDesconocidoDesconocidoDesconocidoDesconocidoDesconocidoDesconocidoDesconocidoDesconocidoDesconocidoDesconocidoDesconocidoDesconocidoDesconocidoDesconocidoDesconocidoDesconocidoDesconocidoDesconocidoDesconocidoDesconocidoDesconocidoDesconocidoDesconocidoDesconocidoDesconocidoDesconocidoDesconocidoDesconocidoDesconocidoDesconocidoDesconocidoDesconocidoDesconocidoDesconocidoDesconocidoDesconocidoDesconocidoDesconocidoDesconocidoDesconocidoDesconocidoDesconocidoDesconocidoDesconocidoDesconocidoDesconocidoDesconocidoDesconocidoDesconocidoDesconocidoDesconocidoDesconocidoDesconocidoDesconocidoDesconocidoDesconocidoDesconocidoDesconocidoDesconocidoDesconocidoDesconocidoDesconocidoDesconocidoDesconocidoDesconocidoDesconocidoDesconocidoDesconocidoDesconocidoDesconocidoDesconocidoDesconocidoDesconocidoDesconocidoDesconocidoDesconocidoDesconocidoDesconocidoDesconocidoDesconocidoDesconocidoDesconocidoDesconocidoDesconocidoDesconocidoDesconocidoDesconocidoDesconocidoDesconocidoDesconocidoDesconocidoDesconocidoDesconocidoDesconocidoDesconocidoDesconocidoDesconocidoDesconocidoDesconocidoDesconocidoDesconocidoDesconocidoDesconocidoDesconocidoDesconocidoDesconocidoDesconocidoDesconocidoDesconocidoDesconocidoDesconocidoDesconocidoDesconocidoDesconocidoDesconocidoDesconocidoDesconocidoDesconocidoDesconocidoDesconocidoDesconocidoDesconocidoDesconocidoDesconocidoDesconocidoDesconocidoDesconocidoDesconocidoDesconocidoDesconocidoDesconocidoDesconocidoDesconocidoDesconocidoDesconocidoDesconocidoDesconocidoDesconocidoDesconocidoDesconocidoDesconocidoDesconocidoDesconocidoDesconocidoDesconocidoDesconocidoDesconocidoDesconocidoDesconocidoDesconocidoDesconocidoDesconocidoDesconocidoDesconocidoDesconocidoDesconocidoDesconocidoDesconocidoDesconocidoDesconocidoDesconocidoDesconocidoDesconocidoDesconocidoDesconocidoDesconocidoDesconocidoDesconocidoDesconocidoDesconocidoDesconocidoDesconocidoDesconocidoDesconocidoDesconocidoDesconocidoDesconocidoDesconocidoDesconocidoDesconocidoDesconocidoDesconocidoDesconocidoDesconocidoDesconocidoDesconocidoDesconocidoDesconocidoDesconocidoDesconocidoDesconocidoDesconocidoDesconocidoDesconocidoDesconocidoDesconocidoDesconocidoDesconocidoDesconocidoDesconocidoDesconocidoDesconocidoDesconocidoDesconocidoDesconocidoDesconocidoDesconocidoDesconocidoDesconocidoDesconocidoDesconocidoDesconocidoDesconocidoDesconocidoDesconocidoDesconocidoDesconocidoDesconocidoDesconocidoDesconocidoDesconocidoDesconocidoDesconocidoDesconocidoDesconocidoDesconocidoDesconocidoDesconocidoDesconocidoDesconocidoDesconocidoDesconocidoDesconocidoDesconocidoDesconocidoDesconocidoDesconocidoDesconocidoDesconocidoDesconocidoDesconocidoDesconocidoDesconocidoDesconocidoDesconocidoDesconocidoDesconocidoDesconocidoDesconocidoDesconocidoDesconocidoDesconocidoDesconocidoDesconocidoDesconocidoDesconocidoDesconocidoDesconocidoDesconocidoDesconocidoDesconocidoDesconocidoDesconocidoDesconocidoDesconocidoDesconocidoDesconocidoDesconocidoDesconocidoDesconocidoDesconocidoDesconocidoDesconocidoDesconocidoDesconocidoDesconocidoDesconocidoDesconocidoDesconocidoDesconocidoDesconocidoDesconocidoDesconocidoDesconocidoDesconocidoDesconocidoDesconocidoDesconocidoDesconocidoDesconocidoDesconocidoDesconocidoDesconocidoDesconocidoDesconocidoDesconocidoDesconocidoDesconocidoDesconocidoDesconocidoDesconocidoDesconocidoDesconocidoDesconocidoDesconocidoDesconocidoDesconocidoDesconocidoDesconocidoDesconocidoDesconocidoDesconocidoDesconocidoDesconocidoDesconocidoDesconocidoDesconocidoDesconocidoDesconocidoDesconocidoDesconocidoDesconocidoDesconocidoDesconocidoDesconocidoDesconocidoDesconocidoDesconocidoDesconocidoDesconocidoDesconocidoDesconocidoDesconocidoDesconocidoDesconocidoDesconocidoDesconocidoDesconocidoDesconocidoDesconocidoDesconocidoDesconocidoDesconocidoDesconocidoDesconocidoDesconocidoDesconocidoDesconocidoDesconocidoDesconocidoDesconocidoDesconocidoDesconocidoDesconocidoDesconocidoDesconocidoDesconocidoDesconocidoDesconocidoDesconocidoDesconocidoDesconocidoDesconocidoDesconocidoDesconocidoDesconocidoDesconocidoDesconocidoDesconocidoDesconocidoDesconocidoDesconocidoDesconocidoDesconocidoDesconocidoDesconocidoDesconocidoDesconocidoDesconocidoDesconocidoDesconocidoDesconocidoDesconocidoDesconocidoDesconocidoDesconocidoDesconocidoDesconocidoDesconocidoDesconocidoDesconocidoDesconocidoDesconocidoDesconocidoDesconocidoDesconocidoDesconocidoDesconocidoDesconocidoDesconocidoDesconocidoDesconocidoDesconocidoDesconocidoDesconocidoDesconocidoDesconocidoDesconocidoDesconocidoDesconocidoDesconocidoDesconocidoDesconocidoDesconocidoDesconocidoDesconocidoDesconocidoDesconocidoDesconocidoDesconocidoDesconocidoDesconocidoDesconocidoDesconocidoDesconocidoDesconocidoDesconocidoDesconocidoDesconocidoDesconocidoDesconocidoDesconocidoDesconocidoDesconocidoDesconocidoDesconocidoDesconocidoDesconocidoDesconocidoDesconocidoDesconocidoDesconocidoDesconocidoDesconocidoDesconocidoDesconocidoDesconocidoDesconocidoDesconocidoDesconocidoDesconocidoDesconocidoDesconocidoDesconocidoDesconocidoDesconocidoDesconocidoDesconocidoDesconocidoDesconocidoDesconocidoDesconocidoDesconocidoDesconocidoDesconocidoDesconocidoDesconocidoDesconocidoDesconocidoDesconocidoDesconocidoDesconocidoDesconocidoDesconocidoDesconocidoDesconocidoDesconocidoDesconocidoDesconocidoDesconocidoDesconocidoDesconocidoDesconocidoDesconocidoDesconocidoDesconocidoDesconocidoDesconocidoDesconocidoDesconocidoDesconocidoDesconocidoDesconocidoDesconocidoDesconocidoDesconocidoDesconocidoDesconocidoDesconocidoDesconocidoDesconocidoDesconocidoDesconocidoDesconocidoDesconocidoDesconocidoDesconocidoDesconocidoDesconocidoDesconocidoDesconocidoDesconocidoDesconocidoDesconocidoDesconocidoDesconocidoDesconocidoDesconocidoDesconocidoDesconocidoDesconocidoDesconocidoDesconocidoDesconocidoDesconocidoDesconocidoDesconocidoDesconocidoDesconocidoDesconocidoDesconocidoDesconocidoDesconocidoDesconocidoDesconocidoDesconocidoDesconocidoDesconocidoDesconocidoDesconocidoDesconocidoDesconocidoDesconocidoDesconocidoDesconocidoDesconocidoDesconocidoDesconocidoDesconocidoDesconocidoDesconocidoDesconocidoDesconocidoDesconocidoDesconocidoDesconocidoDesconocidoDesconocidoDesconocidoDesconocidoDesconocidoDesconocidoDesconocidoDesconocidoDesconocidoDesconocidoDesconocidoDesconocidoDesconocidoDesconocidoDesconocidoDesconocidoDesconocidoDesconocidoDesconocidoDesconocidoDesconocidoDesconocidoDesconocidoDesconocidoDesconocidoDesconocidoDesconocidoDesconocidoDesconocidoDesconocidoDesconocidoDesconocidoDesconocidoDesconocidoDesconocidoDesconocidoDesconocidoDesconocidoDesconocidoDesconocidoDesconocidoDesconocidoDesconocidoDesconocidoDesconocidoDesconocidoDesconocidoDesconocidoDesconocidoDesconocidoDesconocidoDesconocidoDesconocidoDesconocidoDesconocidoDesconocidoDesconocidoDesconocidoDesconocidoDesconocidoDesconocidoDesconocidoDesconocidoDesconocidoDesconocidoDesconocidoDesconocidoDesconocidoDesconocidoDesconocidoDesconocidoDesconocidoDesconocidoDesconocidoDesconocidoDesconocidoDesconocidoDesconocidoDesconocidoDesconocidoDesconocidoDesconocidoDesconocidoDesconocidoDesconocidoDesconocidoDesconocidoDesconocidoDesconocidoDesconocidoDesconocidoDesconocidoDesconocidoDesconocidoDesconocidoDesconocidoDesconocidoDesconocidoDesconocidoDesconocidoDesconocidoDesconocidoDesconocidoDesconocidoDesconocidoDesconocidoDesconocidoDesconocidoDesconocidoDesconocidoDesconocidoDesconocidoDesconocidoDesconocidoDesconocidoDesconocidoDesconocidoDesconocidoDesconocidoDesconocidoDesconocidoDesconocidoDesconocidoDesconocidoDesconocidoDesconocidoDesconocidoDesconocidoDesconocidoDesconocidoDesconocidoDesconocidoDesconocidoDesconocidoDesconocidoDesconocidoDesconocidoDesconocidoDesconocidoDesconocidoDesconocidoDesconocidoDesconocidoDesconocidoDesconocidoDesconocidoDesconocidoDesconocidoDesconocidoDesconocidoDesconocidoDesconocidoDesconocidoDesconocidoDesconocidoDesconocidoDesconocidoDesconocidoDesconocidoDesconocidoDesconocidoDesconocidoDesconocidoDesconocidoDesconocidoDesconocidoDesconocidoDesconocidoDesconocidoDesconocidoDesconocidoDesconocidoDesconocidoDesconocidoDesconocidoDesconocidoDesconocidoDesconocidoDesconocidoDesconocidoDesconocidoDesconocidoDesconocidoDesconocidoDesconocidoDesconocidoDesconocidoDesconocidoDesconocidoDesconocidoDesconocidoDesconocidoDesconocidoDesconocidoDesconocidoDesconocidoDesconocidoDesconocidoDesconocidoDesconocidoDesconocidoDesconocidoDesconocidoDesconocidoDesconocidoDesconocidoDesconocidoDesconocidoDesconocidoDesconocidoDesconocidoDesconocidoDesconocidoDesconocidoDesconocidoDesconocidoDesconocidoDesconocidoDesconocidoDesconocidoDesconocidoDesconocidoDesconocidoDesconocidoDesconocidoDesconocidoDesconocidoDesconocidoDesconocidoDesconocidoDesconocidoDesconocidoDesconocidoDesconocidoDesconocidoDesconocidoDesconocidoDesconocidoDesconocidoDesconocidoDesconocidoDesconocidoDesconocidoDesconocidoDesconocidoDesconocidoDesconocidoDesconocidoDesconocidoDesconocidoDesconocidoDesconocidoDesconocidoDesconocidoDesconocidoDesconocidoDesconocidoDesconocidoDesconocidoDesconocidoDesconocidoDesconocidoDesconocidoDesconocidoDesconocidoDesconocidoDesconocidoDesconocidoDesconocidoDesconocidoDesconocidoDesconocidoDesconocidoDesconocidoDesconocidoDesconocidoDesconocidoDesconocidoDesconocidoDesconocidoDesconocidoDesconocidoDesconocidoDesconocidoDesconocidoDesconocidoDesconocidoDesconocidoDesconocidoDesconocidoDesconocidoDesconocidoDesconocidoDesconocidoDesconocidoDesconocidoDesconocidoDesconocidoDesconocidoDesconocidoDesconocidoDesconocidoDesconocidoDesconocidoDesconocidoDesconocidoDesconocidoDesconocidoDesconocidoDesconocidoDesconocidoDesconocidoDesconocidoDesconocidoDesconocidoDesconocidoDesconocidoDesconocidoDesconocidoDesconocidoDesconocidoDesconocidoDesconocidoDesconocidoDesconocidoDesconocidoDesconocidoDesconocidoDesconocidoDesconocidoDesconocidoDesconocidoDesconocidoDesconocidoDesconocidoDesconocidoDesconocidoDesconocidoDesconocidoDesconocidoDesconocidoDesconocidoDesconocidoDesconocidoDesconocidoDesconocidoDesconocidoDesconocidoDesconocidoDesconocidoDesconocidoDesconocidoDesconocidoDesconocidoDesconocidoDesconocidoDesconocidoDesconocidoDesconocidoDesconocidoDesconocidoDesconocidoDesconocidoDesconocidoDesconocidoDesconocidoDesconocidoDesconocidoDesconocidoDesconocidoDesconocidoDesconocidoDesconocidoDesconocidoDesconocidoDesconocidoDesconocidoDesconocidoDesconocidoDesconocidoDesconocidoDesconocidoDesconocidoDesconocidoDesconocidoDesconocidoDesconocidoDesconocidoDesconocidoDesconocidoDesconocidoDesconocidoDesconocidoDesconocidoDesconocidoDesconocidoDesconocidoDesconocidoDesconocidoDesconocidoDesconocidoDesconocidoDesconocidoDesconocidoDesconocidoDesconocidoDesconocidoDesconocidoDesconocidoDesconocidoDesconocidoDesconocidoDesconocidoDesconocidoDesconocidoDesconocidoDesconocidoDesconocidoDesconocidoDesconocidoDesconocidoDesconocidoDesconocidoDesconocidoDesconocidoDesconocidoDesconocidoDesconocidoDesconocidoDesconocidoDesconocidoDesconocidoDesconocidoDesconocidoDesconocidoDesconocidoDesconocidoDesconocidoDesconocidoDesconocidoDesconocidoDesconocidoDesconocidoDesconocidoDesconocidoDesconocidoDesconocidoDesconocidoDesconocidoDesconocidoDesconocidoDesconocidoDesconocidoDesconocidoDesconocidoDesconocidoDesconocidoDesconocidoDesconocidoDesconocidoDesconocidoDesconocidoDesconocidoDesconocidoDesconocidoDesconocidoDesconocidoDesconocidoDesconocidoDesconocidoDesconocidoDesconocidoDesconocidoDesconocidoDesconocidoDesconocidoDesconocidoDesconocidoDesconocidoDesconocidoDesconocidoDesconocidoDesconocidoDesconocidoDesconocidoDesconocidoDesconocidoDesconocidoDesconocidoDesconocidoDesconocidoDesconocidoDesconocidoDesconocidoDesconocidoDesconocidoDesconocidoDesconocidoDesconocidoDesconocidoDesconocidoDesconocidoDesconocidoDesconocidoDesconocidoDesconocidoDesconocidoDesconocidoDesconocidoDesconocidoDesconocidoDesconocidoDesconocidoDesconocidoDesconocidoDesconocidoDesconocidoDesconocidoDesconocidoDesconocidoDesconocidoDesconocidoDesconocidoDesconocidoDesconocidoDesconocidoDesconocidoDesconocidoDesconocidoDesconocidoDesconocidoDesconocidoDesconocidoDesconocidoDesconocidoDesconocidoDesconocidoDesconocidoDesconocidoDesconocidoDesconocidoDesconocidoDesconocidoDesconocidoDesconocidoDesconocidoDesconocidoDesconocidoDesconocidoDesconocidoDesconocidoDesconocidoDesconocidoDesconocidoDesconocidoDesconocidoDesconocidoDesconocidoDesconocidoDesconocidoDesconocidoDesconocidoDesconocidoDesconocidoDesconocidoDesconocidoDesconocidoDesconocidoDesconocidoDesconocidoDesconocidoDesconocidoDesconocidoDesconocidoDesconocidoDesconocidoDesconocidoDesconocidoDesconocidoDesconocidoDesconocidoDesconocidoDesconocidoDesconocidoDesconocidoDesconocidoDesconocidoDesconocidoDesconocidoDesconocidoDesconocidoDesconocidoDesconocidoDesconocidoDesconocidoDesconocidoDesconocidoDesconocidoDesconocidoDesconocidoDesconocidoDesconocidoDesconocidoDesconocidoDesconocidoDesconocidoDesconocidoDesconocidoDesconocidoDesconocidoDesconocidoDesconocidoDesconocidoDesconocidoDesconocidoDesconocidoDesconocidoDesconocidoDesconocidoDesconocidoDesconocidoDesconocidoDesconocidoDesconocidoDesconocidoDesconocidoDesconocidoDesconocidoDesconocidoDesconocidoDesconocidoDesconocidoDesconocidoDesconocidoDesconocidoDesconocidoDesconocidoDesconocidoDesconocidoDesconocidoDesconocidoDesconocidoDesconocidoDesconocidoDesconocidoDesconocidoDesconocidoDesconocidoDesconocidoDesconocidoDesconocidoDesconocidoDesconocidoDesconocidoDesconocidoDesconocidoDesconocidoDesconocidoDesconocidoDesconocidoDesconocidoDesconocidoDesconocidoDesconocidoDesconocidoDesconocidoDesconocidoDesconocidoDesconocidoDesconocidoDesconocidoDesconocidoDesconocidoDesconocidoDesconocidoDesconocidoDesconocidoDesconocidoDesconocidoDesconocidoDesconocidoDesconocidoDesconocidoDesconocidoDesconocidoDesconocidoDesconocidoDesconocidoDesconocidoDesconocidoDesconocidoDesconocidoDesconocidoDesconocidoDesconocidoDesconocidoDesconocidoDesconocidoDesconocidoDesconocidoDesconocidoDesconocidoDesconocidoDesconocidoDesconocidoDesconocidoDesconocidoDesconocidoDesconocidoDesconocidoDesconocidoDesconocidoDesconocidoDesconocidoDesconocidoDesconocidoDesconocidoDesconocidoDesconocidoDesconocidoDesconocidoDesconocidoDesconocidoDesconocidoDesconocidoDesconocidoDesconocidoDesconocidoDesconocidoDesconocidoDesconocidoDesconocidoDesconocidoDesconocidoDesconocidoDesconocidoDesconocidoDesconocidoDesconocidoDesconocidoDesconocidoDesconocidoDesconocidoDesconocidoDesconocidoDesconocidoDesconocidoDesconocidoDesconocidoDesconocidoDesconocidoDesconocidoDesconocidoDesconocidoDesconocidoDesconocidoDesconocidoDesconocidoDesconocidoDesconocidoDesconocidoDesconocidoDesconocidoDesconocidoDesconocidoDesconocidoDesconocidoDesconocidoDesconocidoDesconocidoDesconocidoDesconocidoDesconocidoDesconocidoDesconocidoDesconocidoDesconocidoDesconocidoDesconocidoDesconocidoDesconocidoDesconocidoDesconocidoDesconocidoDesconocidoDesconocidoDesconocidoDesconocidoDesconocidoDesconocidoDesconocidoDesconocidoDesconocidoDesconocidoDesconocidoDesconocidoDesconocidoDesconocidoDesconocidoDesconocidoDesconocidoDesconocidoDesconocidoDesconocidoDesconocidoDesconocidoDesconocidoDesconocidoDesconocidoDesconocidoDesconocidoDesconocidoDesconocidoDesconocidoDesconocidoDesconocidoDesconocidoDesconocidoDesconocidoDesconocidoDesconocidoDesconocidoDesconocidoDesconocidoDesconocidoDesconocidoDesconocidoDesconocidoDesconocidoDesconocidoDesconocidoDesconocidoDesconocidoDesconocidoDesconocidoDesconocidoDesconocidoDesconocidoDesconocidoDesconocidoDesconocidoDesconocidoDesconocidoDesconocidoDesconocidoDesconocidoDesconocidoDesconocidoDesconocidoDesconocidoDesconocidoDesconocidoDesconocidoDesconocidoDesconocidoDesconocidoDesconocidoDesconocidoDesconocidoDesconocidoDesconocidoDesconocidoDesconocidoDesconocidoDesconocidoDesconocidoDesconocidoDesconocidoDesconocidoDesconocidoDesconocidoDesconocidoDesconocidoDesconocidoDesconocidoDesconocidoDesconocidoDesconocidoDesconocidoDesconocidoDesconocidoDesconocidoDesconocidoDesconocidoDesconocidoDesconocidoDesconocidoDesconocidoDesconocidoDesconocidoDesconocidoDesconocidoDesconocidoDesconocidoDesconocidoDesconocidoDesconocidoDesconocidoDesconocidoDesconocidoDesconocidoDesconocidoDesconocidoDesconocidoDesconocidoDesconocidoDesconocidoDesconocidoDesconocidoDesconocidoDesconocidoDesconocidoDesconocidoDesconocidoDesconocidoDesconocidoDesconocidoDesconocidoDesconocidoDesconocidoDesconocidoDesconocidoDesconocidoDesconocidoDesconocidoDesconocidoDesconocidoDesconocidoDesconocidoDesconocidoDesconocidoDesconocidoDesconocidoDesconocidoDesconocidoDesconocidoDesconocidoDesconocidoDesconocidoDesconocidoDesconocidoDesconocidoDesconocidoDesconocidoDesconocidoDesconocidoDesconocidoDesconocidoDesconocidoDesconocidoDesconocidoDesconocidoDesconocido' is not a valid function for 'DataFrameGroupBy' object",
     "output_type": "error",
     "traceback": [
      "\u001b[0;31m---------------------------------------------------------------------------\u001b[0m",
      "\u001b[0;31mAttributeError\u001b[0m                            Traceback (most recent call last)",
      "\u001b[0;32m<ipython-input-85-97f13fc97fae>\u001b[0m in \u001b[0;36m<module>\u001b[0;34m\u001b[0m\n\u001b[0;32m----> 1\u001b[0;31m \u001b[0mdfTime\u001b[0m \u001b[0;34m=\u001b[0m \u001b[0mdfSharks1\u001b[0m\u001b[0;34m.\u001b[0m\u001b[0mgroupby\u001b[0m\u001b[0;34m(\u001b[0m\u001b[0mdfSharks1\u001b[0m\u001b[0;34m[\u001b[0m\u001b[0;34m'year'\u001b[0m\u001b[0;34m]\u001b[0m\u001b[0;34m>=\u001b[0m \u001b[0;34m'1850'\u001b[0m\u001b[0;34m)\u001b[0m\u001b[0;34m.\u001b[0m\u001b[0magg\u001b[0m\u001b[0;34m(\u001b[0m\u001b[0mdfSharks1\u001b[0m\u001b[0;34m.\u001b[0m\u001b[0mFatality\u001b[0m\u001b[0;34m.\u001b[0m\u001b[0msum\u001b[0m\u001b[0;34m(\u001b[0m\u001b[0;34m)\u001b[0m\u001b[0;34m)\u001b[0m\u001b[0;34m\u001b[0m\u001b[0;34m\u001b[0m\u001b[0m\n\u001b[0m",
      "\u001b[0;32m~/opt/anaconda3/envs/Ironhack/lib/python3.8/site-packages/pandas/core/groupby/generic.py\u001b[0m in \u001b[0;36maggregate\u001b[0;34m(self, func, engine, engine_kwargs, *args, **kwargs)\u001b[0m\n\u001b[1;32m    977\u001b[0m \u001b[0;34m\u001b[0m\u001b[0m\n\u001b[1;32m    978\u001b[0m         \u001b[0mop\u001b[0m \u001b[0;34m=\u001b[0m \u001b[0mGroupByApply\u001b[0m\u001b[0;34m(\u001b[0m\u001b[0mself\u001b[0m\u001b[0;34m,\u001b[0m \u001b[0mfunc\u001b[0m\u001b[0;34m,\u001b[0m \u001b[0margs\u001b[0m\u001b[0;34m,\u001b[0m \u001b[0mkwargs\u001b[0m\u001b[0;34m)\u001b[0m\u001b[0;34m\u001b[0m\u001b[0;34m\u001b[0m\u001b[0m\n\u001b[0;32m--> 979\u001b[0;31m         \u001b[0mresult\u001b[0m \u001b[0;34m=\u001b[0m \u001b[0mop\u001b[0m\u001b[0;34m.\u001b[0m\u001b[0magg\u001b[0m\u001b[0;34m(\u001b[0m\u001b[0;34m)\u001b[0m\u001b[0;34m\u001b[0m\u001b[0;34m\u001b[0m\u001b[0m\n\u001b[0m\u001b[1;32m    980\u001b[0m         \u001b[0;32mif\u001b[0m \u001b[0;32mnot\u001b[0m \u001b[0mis_dict_like\u001b[0m\u001b[0;34m(\u001b[0m\u001b[0mfunc\u001b[0m\u001b[0;34m)\u001b[0m \u001b[0;32mand\u001b[0m \u001b[0mresult\u001b[0m \u001b[0;32mis\u001b[0m \u001b[0;32mnot\u001b[0m \u001b[0;32mNone\u001b[0m\u001b[0;34m:\u001b[0m\u001b[0;34m\u001b[0m\u001b[0;34m\u001b[0m\u001b[0m\n\u001b[1;32m    981\u001b[0m             \u001b[0;32mreturn\u001b[0m \u001b[0mresult\u001b[0m\u001b[0;34m\u001b[0m\u001b[0;34m\u001b[0m\u001b[0m\n",
      "\u001b[0;32m~/opt/anaconda3/envs/Ironhack/lib/python3.8/site-packages/pandas/core/apply.py\u001b[0m in \u001b[0;36magg\u001b[0;34m(self)\u001b[0m\n\u001b[1;32m    156\u001b[0m \u001b[0;34m\u001b[0m\u001b[0m\n\u001b[1;32m    157\u001b[0m         \u001b[0;32mif\u001b[0m \u001b[0misinstance\u001b[0m\u001b[0;34m(\u001b[0m\u001b[0marg\u001b[0m\u001b[0;34m,\u001b[0m \u001b[0mstr\u001b[0m\u001b[0;34m)\u001b[0m\u001b[0;34m:\u001b[0m\u001b[0;34m\u001b[0m\u001b[0;34m\u001b[0m\u001b[0m\n\u001b[0;32m--> 158\u001b[0;31m             \u001b[0;32mreturn\u001b[0m \u001b[0mself\u001b[0m\u001b[0;34m.\u001b[0m\u001b[0mapply_str\u001b[0m\u001b[0;34m(\u001b[0m\u001b[0;34m)\u001b[0m\u001b[0;34m\u001b[0m\u001b[0;34m\u001b[0m\u001b[0m\n\u001b[0m\u001b[1;32m    159\u001b[0m \u001b[0;34m\u001b[0m\u001b[0m\n\u001b[1;32m    160\u001b[0m         \u001b[0;32mif\u001b[0m \u001b[0mis_dict_like\u001b[0m\u001b[0;34m(\u001b[0m\u001b[0marg\u001b[0m\u001b[0;34m)\u001b[0m\u001b[0;34m:\u001b[0m\u001b[0;34m\u001b[0m\u001b[0;34m\u001b[0m\u001b[0m\n",
      "\u001b[0;32m~/opt/anaconda3/envs/Ironhack/lib/python3.8/site-packages/pandas/core/apply.py\u001b[0m in \u001b[0;36mapply_str\u001b[0;34m(self)\u001b[0m\n\u001b[1;32m    505\u001b[0m             \u001b[0;32melif\u001b[0m \u001b[0mself\u001b[0m\u001b[0;34m.\u001b[0m\u001b[0maxis\u001b[0m \u001b[0;34m!=\u001b[0m \u001b[0;36m0\u001b[0m\u001b[0;34m:\u001b[0m\u001b[0;34m\u001b[0m\u001b[0;34m\u001b[0m\u001b[0m\n\u001b[1;32m    506\u001b[0m                 \u001b[0;32mraise\u001b[0m \u001b[0mValueError\u001b[0m\u001b[0;34m(\u001b[0m\u001b[0;34mf\"Operation {f} does not support axis=1\"\u001b[0m\u001b[0;34m)\u001b[0m\u001b[0;34m\u001b[0m\u001b[0;34m\u001b[0m\u001b[0m\n\u001b[0;32m--> 507\u001b[0;31m         \u001b[0;32mreturn\u001b[0m \u001b[0mself\u001b[0m\u001b[0;34m.\u001b[0m\u001b[0m_try_aggregate_string_function\u001b[0m\u001b[0;34m(\u001b[0m\u001b[0mobj\u001b[0m\u001b[0;34m,\u001b[0m \u001b[0mf\u001b[0m\u001b[0;34m,\u001b[0m \u001b[0;34m*\u001b[0m\u001b[0mself\u001b[0m\u001b[0;34m.\u001b[0m\u001b[0margs\u001b[0m\u001b[0;34m,\u001b[0m \u001b[0;34m**\u001b[0m\u001b[0mself\u001b[0m\u001b[0;34m.\u001b[0m\u001b[0mkwargs\u001b[0m\u001b[0;34m)\u001b[0m\u001b[0;34m\u001b[0m\u001b[0;34m\u001b[0m\u001b[0m\n\u001b[0m\u001b[1;32m    508\u001b[0m \u001b[0;34m\u001b[0m\u001b[0m\n\u001b[1;32m    509\u001b[0m     \u001b[0;32mdef\u001b[0m \u001b[0mapply_multiple\u001b[0m\u001b[0;34m(\u001b[0m\u001b[0mself\u001b[0m\u001b[0;34m)\u001b[0m \u001b[0;34m->\u001b[0m \u001b[0mFrameOrSeriesUnion\u001b[0m\u001b[0;34m:\u001b[0m\u001b[0;34m\u001b[0m\u001b[0;34m\u001b[0m\u001b[0m\n",
      "\u001b[0;32m~/opt/anaconda3/envs/Ironhack/lib/python3.8/site-packages/pandas/core/apply.py\u001b[0m in \u001b[0;36m_try_aggregate_string_function\u001b[0;34m(self, obj, arg, *args, **kwargs)\u001b[0m\n\u001b[1;32m    588\u001b[0m             \u001b[0;32mreturn\u001b[0m \u001b[0mf\u001b[0m\u001b[0;34m(\u001b[0m\u001b[0mobj\u001b[0m\u001b[0;34m,\u001b[0m \u001b[0;34m*\u001b[0m\u001b[0margs\u001b[0m\u001b[0;34m,\u001b[0m \u001b[0;34m**\u001b[0m\u001b[0mkwargs\u001b[0m\u001b[0;34m)\u001b[0m\u001b[0;34m\u001b[0m\u001b[0;34m\u001b[0m\u001b[0m\n\u001b[1;32m    589\u001b[0m \u001b[0;34m\u001b[0m\u001b[0m\n\u001b[0;32m--> 590\u001b[0;31m         raise AttributeError(\n\u001b[0m\u001b[1;32m    591\u001b[0m             \u001b[0;34mf\"'{arg}' is not a valid function for '{type(obj).__name__}' object\"\u001b[0m\u001b[0;34m\u001b[0m\u001b[0;34m\u001b[0m\u001b[0m\n\u001b[1;32m    592\u001b[0m         )\n",
      "\u001b[0;31mAttributeError\u001b[0m: 'YYYYYYYYYNNYYNYYYNNYYNNYDesconocidoYNNYNNNYNNYYYYYNNYYNNNYYYYNNYNNNNNNNYNNNNNYYDesconocidoYNYNYNNNYNNYNNNNYNYNYNYNNNYNYYNNNNNNNYYYNYNYNYNYYNNYYYYNYNYDesconocidoDesconocidoYDesconocidoYDesconocidoDesconocidoDesconocidoDesconocidoYNYNYDesconocidoDesconocidoYYYDesconocidoNYYNYDesconocidoYYYYYYYYYYNYYYYYYNNNDesconocidoDesconocidoNYDesconocidoYYYNYYNYYYDesconocidoDesconocidoYDesconocidoNYYDesconocidoYYNYNNYNYYNYYYYDesconocidoYNNYNYDesconocidoDesconocidoYDesconocidoYNNNYYDesconocidoNYYNYYNYNNYYYYYYYNYYNYYNDesconocidoNYNNYNNNDesconocidoNDesconocidoYYYYYYYYNYYYYYYDesconocidoYYYNDesconocidoYDesconocidoNYNYNNDesconocidoYYYYNYDesconocidoYYYYYYYNDesconocidoDesconocidoYYYYNNYNNYNNYYNNNYYYDesconocidoNDesconocidoYNYYYYYDesconocidoNYNNYDesconocidoYNYYYDesconocidoYYYNNNYNYYNDesconocidoYYNYYYNYNYYYDesconocidoNDesconocidoNNNNNNNNNYYDesconocidoNNNDesconocidoNDesconocidoYNDesconocidoYDesconocidoYNNDesconocidoNNYNYNYYNNNNYNDesconocidoYDesconocidoNYNNYYYNYYNDesconocidoNYNNNNNDesconocidoNYNYYYYNYYYYNNYYNYDesconocidoYNNNNYNNDesconocidoDesconocidoNNYYDesconocidoNNNYYYNYYNNYYDesconocidoDesconocidoNNYYYYYNNNNNYDesconocidoYYYYNNYYYYYYYYDesconocidoNYYNNYYNNYNNNYNNNDesconocidoDesconocidoDesconocidoNYDesconocidoYNNNNYYNYNYDesconocidoNYYYYNNYNDesconocidoNDesconocidoYDesconocidoNYYYYNYNYNYYDesconocidoYDesconocidoYYDesconocidoDesconocidoNYYDesconocidoYNNNNNYNDesconocidoYYDesconocidoNYYNNNYNYYNYDesconocidoNNNYDesconocidoYYDesconocidoNNYYYYYDesconocidoYYYYNYDesconocidoYNDesconocidoNNNYNNNYYNYNYYNYNYNYNYDesconocidoYNYNYYNYNYYYYNDesconocidoNYYYYNNYDesconocidoNYYNYNYNDesconocidoYNYYYYDesconocidoNYNNYYNNNDesconocidoYDesconocidoDesconocidoNYNNNYYYYNNYNNNNNDesconocidoYNNDesconocidoNDesconocidoYYNYNDesconocidoDesconocidoYYNNNDesconocidoYNDesconocidoNNNNYNYNYYYYYYYYYNNYYNDesconocidoYYYYYYNYYYNNDesconocidoDesconocidoDesconocidoNYNYYDesconocidoYNNDesconocidoNYDesconocidoYYYDesconocidoDesconocidoYYNYDesconocidoYYNNYYNYNYNNYNYYNYYNNDesconocidoYNYYYDesconocidoNDesconocidoNYNYYYDesconocidoYYYYYDesconocidoYNYYYNDesconocidoDesconocidoYYDesconocidoNYYYNNYNYNYNDesconocidoDesconocidoYNDesconocidoNYDesconocidoYNNNYDesconocidoYNNYNYNYNYNYYNYDesconocidoYYNYYNNNNDesconocidoYNYYNYYNNNNYYDesconocidoDesconocidoDesconocidoNNNYYNDesconocidoNNNYYDesconocidoNYYNNNNYYNNDesconocidoYDesconocidoNNDesconocidoYYNNNNNYYNYNYYNNYYYNNDesconocidoNNYYYNNYNNNYNYYYNNYNNNYYYNNYYNNDesconocidoYNNYNYNNNYYYNNNNNNDesconocidoYNYNDesconocidoYYNNYNYNYNYNYYYDesconocidoYYNYNYYNNYNDesconocidoYYYNNYNDesconocidoYDesconocidoNNYNNYNNNNDesconocidoDesconocidoYYNYNYDesconocidoNNNDesconocidoNYNNNNNNYNYNNNYYNNDesconocidoNNNNNYDesconocidoYNYNNYNNYDesconocidoNNYYYNNYNYNYYNNNNNNNNYYNNNYYYNNNDesconocidoDesconocidoYNNYNYNYNNDesconocidoNNNDesconocidoNYYNNNNNNNDesconocidoYYYNYYNYNNYNYYNNNNNDesconocidoNNYNNNYYYNNNYYNYNYNYNNDesconocidoDesconocidoNNYNNNNNNYNYNYNDesconocidoYNNNDesconocidoNNYYNNNNNNYNNYYNDesconocidoYDesconocidoNNYNNYDesconocidoNYNNYYNYYNNNDesconocidoNNNNNNYNDesconocidoNNYNNNNYYNNYDesconocidoNNNNNNNNNNYNNNYNNYYNYNYNNNYYDesconocidoNNYNYNYYNDesconocidoDesconocidoNNNYYNNNNNNNDesconocidoNNNNYNYYDesconocidoDesconocidoYDesconocidoYYYNNYNDesconocidoYYNNNNNNNNYYNNNYNNNNNNYNYYNNNNNDesconocidoNNNYDesconocidoDesconocidoYNYNYDesconocidoYYDesconocidoNNNNNNNYYYYYNNNNYNDesconocidoNNNNYNYNYYNNNNYNYYNYNNNNYYYYNNYNNNNYDesconocidoDesconocidoNNYDesconocidoDesconocidoDesconocidoDesconocidoNYNNYNYNYNYNYNNNYNNYYNYYNYYNYNNNNNYNNNNDesconocidoNYNYNNNYYNNNYNNNYNYNYNDesconocidoYDesconocidoNNNDesconocidoYNYNYNNNNYNYYYNYNNYYDesconocidoNNNNYYYYYYDesconocidoNYYNDesconocidoNDesconocidoNYNYDesconocidoYNYYYYYYNNYYNNYNYYNNDesconocidoYYYNNYNYYYDesconocidoYNNNNYNNNYYYYYNNYNYNNNNYNNNNNNNNNYNNNNYNNYYNNNNYNNNNNNNNNNNDesconocidoNNNYYNYNYNNNYDesconocidoNNNNNNYYNDesconocidoYNNNYNNYYYYNNYNYNNNYYYNYNNYNDesconocidoNDesconocidoYDesconocidoNYNNNYNNYNNNDesconocidoYNDesconocidoNNYNNNYYNDesconocidoNYYNNNNDesconocidoYNDesconocidoYNNYNNYNNDesconocidoNNNYNNNNNNNNYNNYDesconocidoYNNNNNNNNNYNNYNYNYNYDesconocidoYYNNNYDesconocidoNYYYYNYNNNNNNNNNNYNNNYDesconocidoNYYYNDesconocidoNNNYNNNNNNYYNNNNNNNNNNNNNYYDesconocidoNNNNYNNNNNNYNNYNYNNNNYNDesconocidoNYYNNDesconocidoYNNYDesconocidoYNNNNYYNDesconocidoDesconocidoNYNNYYYNNDesconocidoYNDesconocidoYYNNNYNNNNYNNNNNYYNYNNNYYNYNNNNYNNNNNYNNDesconocidoNYYNNYNNYNYNDesconocidoNYNYYNNNYNYNNNYYNNNYNYNYYNYNNNNYYYYNYNNNYNDesconocidoNDesconocidoYNDesconocidoNNNNNNNYNNNDesconocidoNYNNNYYNNNYYNNNYNNYYYNNNYDesconocidoNNNDesconocidoNYYNNDesconocidoDesconocidoNNNNNYNNYYYNNYNNNNYNNNNNYDesconocidoYYYYNDesconocidoNYNNNYYNYNNNYNNNNYNNNNYNNNNNDesconocidoNNYNNDesconocidoYYNYNNYNNNYNNDesconocidoDesconocidoNYNNYNYDesconocidoDesconocidoDesconocidoDesconocidoNYDesconocidoYNDesconocidoNDesconocidoNNYNNYNNNNNDesconocidoNNNYNDesconocidoNYYYNNNYNYNNNDesconocidoNNNNNYNNNDesconocidoNNYNDesconocidoNNNNNYYNNNNNDesconocidoNNNNYNNNNNYDesconocidoNNNNNNNNYNNNDesconocidoNNNNDesconocidoYNDesconocidoDesconocidoNNNDesconocidoNDesconocidoYNDesconocidoNNYNNNNDesconocidoNNNYNYYYNNNNDesconocidoNNNYNNNNDesconocidoNYNYNNNNNNNNNNNYYNNNNNNDesconocidoNNNNNNNNYYNNNNNNNNNDesconocidoNNNNYNYNDesconocidoNDesconocidoNYNNNNNYNYNNNNNNDesconocidoNNNNNNNNNDesconocidoNDesconocidoNYDesconocidoNYYNNNYNNNNNNNYNNNNNYYYNNNDesconocidoDesconocidoNNNNNNNYNYNNNNNDesconocidoYYNNYDesconocidoNNYNNNNDesconocidoNNYNYDesconocidoNNNNNNNDesconocidoYNDesconocidoNNNNYDesconocidoNNNYNYDesconocidoNYYYNNNYNNYDesconocidoYNNNNNNNNNNNYNYNNNDesconocidoYNNNDesconocidoNDesconocidoNYNNNNNYYNNDesconocidoYNNNNYYNNNYNYYYNDesconocidoNNNDesconocidoYNYNYDesconocidoNNNNNNDesconocidoNNNYDesconocidoNDesconocidoNNNYNYNNNNDesconocidoYNNNNNYNNNDesconocidoNNNDesconocidoNNNDesconocidoNNNNYYYNNDesconocidoDesconocidoNYNNDesconocidoNNNNYYNNNDesconocidoNYNNNDesconocidoNYNNNYNNYNNYNNNYDesconocidoYNYNNNNNDesconocidoYYNNNNDesconocidoNNYYYNDesconocidoNDesconocidoNNDesconocidoDesconocidoNNYYYDesconocidoNNNNNNNNNYNYDesconocidoNNNNNNNNDesconocidoYNNNNDesconocidoNNYNYNYYNDesconocidoDesconocidoDesconocidoNNYDesconocidoYNNNNYNDesconocidoNDesconocidoDesconocidoYYNNNNNNDesconocidoNNNYNNDesconocidoNDesconocidoNNNDesconocidoYNNNNNNNNYDesconocidoNNNNDesconocidoNDesconocidoNNNNDesconocidoNNNDesconocidoNNNNDesconocidoNDesconocidoNNNNDesconocidoNNNNNNNNNNNNNNYNNDesconocidoNNNNNNYNNNNNNDesconocidoDesconocidoNYYYYNNNDesconocidoNNNNNNNNNNNYYNNNNNYYYYYNNNNNNYYNNNNNNYNNNNNNYNNNNYNYNNNYYDesconocidoNNNDesconocidoNNNYNNYNNNYNNNNNNNYNYNYNNNDesconocidoNYYNYNNNYNYYNYNYYNYNNNNNNNNNNNYNNYYNNYNNYNNNNNNNNNNYNYNNNYNNYNNNNDesconocidoNDesconocidoDesconocidoNNNNNNNNNNNNNNYYNNNNNDesconocidoNDesconocidoNNNNNNNYYNNNNNNNNNDesconocidoNNNNNNYNNNNNYYYNNNNNNDesconocidoNDesconocidoNNNYNDesconocidoNYYNNNNDesconocidoNNNNDesconocidoNNYNNNNNNNYNDesconocidoNNNNNNNDesconocidoNNNNNNNNNDesconocidoNNYNYNYNNNNNYNYNDesconocidoNYNYYNNNNNYNNDesconocidoDesconocidoNYNNNNNNYNYNYNNNNNNNNNNYNNYDesconocidoNNDesconocidoNNNDesconocidoNNNDesconocidoNNDesconocidoNNNNNNNNNNYYDesconocidoNNNNNNYNDesconocidoNNNNYNNNNDesconocidoNNNNNNYDesconocidoNDesconocidoNYNYNNNNYNYNDesconocidoNNNNYNNDesconocidoNNNDesconocidoNNDesconocidoYDesconocidoNNNNNNNNYNNNDesconocidoNNNNNNDesconocidoNNDesconocidoNNNNDesconocidoNNYNNNNNNYYNNNNNNNNNDesconocidoNNDesconocidoNNNNDesconocidoNNYNNDesconocidoNNDesconocidoNNDesconocidoNYNNNNDesconocidoNNYDesconocidoNYNDesconocidoNNNNNNDesconocidoNDesconocidoNNYNYYNNNNNDesconocidoNNNYNNNNNNNNDesconocidoDesconocidoNDesconocidoNDesconocidoNNNNNNNNNNNNNNNNNNNNNNYYNNNNNNDesconocidoNNNDesconocidoNDesconocidoNNNNNNNDesconocidoNNNYNNDesconocidoNNYNNNYYNDesconocidoNNNNNNNNNNNNNYYNDesconocidoNDesconocidoNDesconocidoNYNNNNDesconocidoDesconocidoNNNNNNNNNDesconocidoNNDesconocidoNNYNNYNNNNNNNNNNNNNNNNYNNNNNNNNNYYYYNNNYNNYDesconocidoYNNNYNNNNNDesconocidoNNNNNNNYNDesconocidoNNNNNNNNNNNNDesconocidoDesconocidoNDesconocidoNNNDesconocidoYNDesconocidoDesconocidoNDesconocidoNNYNNNNNYNNNNNNNYNNNNNDesconocidoNNNNNNNNNNNNNDesconocidoNNNNNNNNNNNNYNNYYNNNNNNNNNNNYDesconocidoNNNNYNYNYDesconocidoNNNNNNDesconocidoNYNNYNNNNNYDesconocidoNNNYYNNNDesconocidoDesconocidoNNDesconocidoNNNYNNNYNNNNYNNNNNNNNNNNYNNNNNNNNNNNNNNDesconocidoYYNYYYNYYNYNNYYNNNNNNNNNNYNNYNNNNYNYNYNNNNNNYNYNNNNNNNNYNNYDesconocidoNNNNNNNNNNYYYNNNYNNNNNNNNNYYDesconocidoDesconocidoNNNNDesconocidoDesconocidoNDesconocidoNYNNYNNYNNDesconocidoYDesconocidoYNYYYNNNNNNNNNNNYNNNNNNNDesconocidoDesconocidoNNNDesconocidoNNNNNNNNNNNDesconocidoNYYYNNNNNNNNNNNDesconocidoNDesconocidoNYYNDesconocidoNNNNYYNYNNNNYNNDesconocidoNYNYNNNNNNNDesconocidoNNNYNNNNNDesconocidoNNNNNNNNNYNNNNNYNDesconocidoNYYNNNDesconocidoNNNNNNNNNDesconocidoNNNNYNNYNNNNNNNYNNYDesconocidoNNNNNNYNNNNNNDesconocidoNNNDesconocidoNYNYYNNNYNDesconocidoNNNNNYNNYNNNNNNNNNYYNNNNNNNNNNNNDesconocidoNNNNNNNNNNNNYNNNNYNNNNNDesconocidoNYDesconocidoNNNNNNNNNNYNNNYNNYNNNNNNNYNNNNNNNNNNNNNNNNNNNNNNNNNNNNNNNDesconocidoNNNNNYYNNNNNNNDesconocidoNNNYNNNNNNYNDesconocidoYYNNNNNNNYYNNNNNNNNNNNNNNNNYDesconocidoDesconocidoNNNNNYNYNNYNNNNNNYNYYNNNNNNNNNNYNDesconocidoNDesconocidoNYNNNYNNNNNNNDesconocidoNYYDesconocidoNNNNNNNNNNNNNNNNNNNYNNNDesconocidoNNNNNDesconocidoNNNNNNNNNNNNNNNNNNNNNNNNNNNNNNYNNYNNNNNNYNNNNNNDesconocidoNNNNNYNNNNYNYDesconocidoNNNYNNNNNNNNDesconocidoYNNNNNNNNNNNNNNYNDesconocidoNNNNYNNNNNNNNNNNNNNNNNNNNNNNNNNYNNNNNNNNYYDesconocidoNNNNNDesconocidoYNNNNNNNNNNNNNNNNNNNNNNNNNNDesconocidoNNNNNYNNNNNNNNNNNNNDesconocidoYNNYNNDesconocidoNNNNNNYNNNNNYNDesconocidoNNNNNNNNNNNYNNNYNDesconocidoNNYDesconocidoNNNNNDesconocidoNNNYDesconocidoNNYNNNNNNNNNNDesconocidoNYYYNNYNNNNDesconocidoNNNNYNNNDesconocidoNNNYNNNNNNNNNNNYNNNNYDesconocidoNNNNNNNNNNDesconocidoNNNNYNNYYDesconocidoNNNNNNNNNNNDesconocidoNYNNNDesconocidoNNDesconocidoNNNNNNNNNNNNNNYDesconocidoNNNDesconocidoNYYNNNNDesconocidoNDesconocidoDesconocidoNNDesconocidoNNDesconocidoNNDesconocidoNYYNNNNYNDesconocidoNNNNNNNNNNNNNNNNNNNNNNNNNNNNNNNNNNYDesconocidoNNNNNNYNNNNDesconocidoNNNDesconocidoNYNNNNNNNDesconocidoNNNNNNNNNNNNNYNNNNNNNNNNYNDesconocidoNDesconocidoNNNNNNNNNNNYYDesconocidoDesconocidoNNNNNNYDesconocidoNNNNNDesconocidoYNNNNNNNNYNNNNNNDesconocidoNYDesconocidoNNNNNDesconocidoNNNNNNYNNNNNNNNNYNNDesconocidoNNNNNNNNNDesconocidoNNNNDesconocidoNNNNDesconocidoNNNNNNNNNNNNNNNNNNNNNNNNNNNNNNNNNNDesconocidoNNNYYNNNNNNDesconocidoNNNNNNNNNDesconocidoNNDesconocidoNNNNNDesconocidoNNDesconocidoNNNNYNNNNNNNNYNNNNDesconocidoDesconocidoDesconocidoDesconocidoNYNNNNYNNNNYYNNNNNNNNNNNNNNNNDesconocidoNNNNDesconocidoNNNNNNNNNNNNNNNDesconocidoNDesconocidoNNNNDesconocidoNNNNNNNNNNNNNNNNNNYYNNNNYNNNNYNNNDesconocidoNNNNNNNYNNDesconocidoYNNNDesconocidoNNNYNNNNNNNYNNNNNNNYNNNDesconocidoNDesconocidoNNNNNNNNNNNNNYNNNDesconocidoDesconocidoNNNNNNNNNDesconocidoNYNNNNNNNNYNNDesconocidoYYYNNNNNNNNNNNNNNNNNNNNDesconocidoNNNYDesconocidoYNNNNNNNNNNNYNNNNNYDesconocidoNNNNNYNNNNNNNNNNNNNNNNNNNNNNNNNNNNNNNNNNDesconocidoNNNNNNYNDesconocidoNNNNNNNYNNNNNNNYNNNNNNNNYNDesconocidoNNNNNNYNNNNNYDesconocidoNNNNNNNYNNNNDesconocidoNNNNNNNNNNNNNDesconocidoNNYNYNNNNNNNNNNYYNNNNNNNNNNNNNNNNNNDesconocidoYNNYNNNDesconocidoNNYNNNNDesconocidoNNYNNNNYYNNNNNDesconocidoNNNYNNNNYNNNNNNNNNNDesconocidoNNDesconocidoNNNNNDesconocidoNNNNYNNNNNNNNNNDesconocidoNNNNNNNNNNYNNNYNNNNNNNNNNNNDesconocidoNNNNNNNDesconocidoNNNNNNDesconocidoNNDesconocidoNNYDesconocidoDesconocidoYDesconocidoNNNNNNNNNYNNNNNNNNNNNNNNNNNNDesconocidoNNNYNNNNNYDesconocidoNNNNNYNNNNNNDesconocidoNNNNNNNYNNNYNNNNNDesconocidoNDesconocidoNNYNNNNNNNYDesconocidoNNYNNNNNNNNNNNNDesconocidoNNDesconocidoNYYNNYNNNNNNNNNNNYNNNNNDesconocidoNNNNNNNNDesconocidoNNNNNNNNNNYNNNNNNNNNNNNNYNYYNNNNNNNNNNNNNYNNNDesconocidoNDesconocidoNNNNYDesconocidoYNNNNNNNNNNDesconocidoNNNNNNNNNNNNNNNNNNNNNNNNNDesconocidoNNNNNNDesconocidoNNNNNNNNNNNNNNNNNDesconocidoNNNNNNYDesconocidoNNNNNNNNNNNNNNNNNNNNNNNNNYNNYNNNDesconocidoNYNNNNDesconocidoNNDesconocidoNNNNNNNYYNNNNNNYNDesconocidoDesconocidoNNYNNNNYNNNYNNNNNNNNNNNNNNNNNNNNNNDesconocidoNNNNNNNNNDesconocidoDesconocidoNNNNNYDesconocidoNDesconocidoNNNDesconocidoNNNNDesconocidoNNNNNNNNNNNNNNNNNNNNNNNNNNNNDesconocidoYNNNNNNNNDesconocidoNNNNNNNNYNNNNNNNNNNNNNNNNNDesconocidoDesconocidoNNNNNNYNDesconocidoNNDesconocidoNNDesconocidoNDesconocidoYNNNNNNNNNNNNNNNNYNDesconocidoNYNDesconocidoNNNNNNNNNNNNNNNNNNNNNNNNNNNNNNNNNNNNNNDesconocidoNNNNYNNNNNNNNNNNNNNDesconocidoNNNNNNNNNNDesconocidoNNNNNDesconocidoNDesconocidoNNNNNNNNNNNNYNNNNNNNNNNNNNNDesconocidoNNNYNDesconocidoNDesconocidoNYNNNDesconocidoYNNNNNNNNNNNNNNNNNNDesconocidoDesconocidoNNNNNNNNDesconocidoNNNNNNNDesconocidoNNNNNNNNDesconocidoNNNNNNYNNNNNNDesconocidoNNNNDesconocidoNNDesconocidoNNNNNNNNNNNYNNNNYYNNNNNNNNNNNNNNNNNNNNNNNNNNNNNNDesconocidoNNNNNNNNNNNNNNNNNNNNYNNNNNNDesconocidoDesconocidoDesconocidoDesconocidoDesconocidoDesconocidoDesconocidoDesconocidoDesconocidoDesconocidoDesconocidoDesconocidoDesconocidoDesconocidoDesconocidoDesconocidoDesconocidoDesconocidoDesconocidoDesconocidoDesconocidoDesconocidoDesconocidoDesconocidoDesconocidoDesconocidoDesconocidoDesconocidoDesconocidoDesconocidoDesconocidoDesconocidoDesconocidoDesconocidoDesconocidoDesconocidoDesconocidoDesconocidoDesconocidoDesconocidoDesconocidoDesconocidoDesconocidoDesconocidoDesconocidoDesconocidoDesconocidoDesconocidoDesconocidoDesconocidoDesconocidoDesconocidoDesconocidoDesconocidoDesconocidoDesconocidoDesconocidoDesconocidoDesconocidoDesconocidoDesconocidoDesconocidoDesconocidoDesconocidoDesconocidoDesconocidoDesconocidoDesconocidoDesconocidoDesconocidoDesconocidoDesconocidoDesconocidoDesconocidoDesconocidoDesconocidoDesconocidoDesconocidoDesconocidoDesconocidoDesconocidoDesconocidoDesconocidoDesconocidoDesconocidoDesconocidoDesconocidoDesconocidoDesconocidoDesconocidoDesconocidoDesconocidoDesconocidoDesconocidoDesconocidoDesconocidoDesconocidoDesconocidoDesconocidoDesconocidoDesconocidoDesconocidoDesconocidoDesconocidoDesconocidoDesconocidoDesconocidoDesconocidoDesconocidoDesconocidoDesconocidoDesconocidoDesconocidoDesconocidoDesconocidoDesconocidoDesconocidoDesconocidoDesconocidoDesconocidoDesconocidoDesconocidoDesconocidoDesconocidoDesconocidoDesconocidoDesconocidoDesconocidoDesconocidoDesconocidoDesconocidoDesconocidoDesconocidoDesconocidoDesconocidoDesconocidoDesconocidoDesconocidoDesconocidoDesconocidoDesconocidoDesconocidoDesconocidoDesconocidoDesconocidoDesconocidoDesconocidoDesconocidoDesconocidoDesconocidoDesconocidoDesconocidoDesconocidoDesconocidoDesconocidoDesconocidoDesconocidoDesconocidoDesconocidoDesconocidoDesconocidoDesconocidoDesconocidoDesconocidoDesconocidoDesconocidoDesconocidoDesconocidoDesconocidoDesconocidoDesconocidoDesconocidoDesconocidoDesconocidoDesconocidoDesconocidoDesconocidoDesconocidoDesconocidoDesconocidoDesconocidoDesconocidoDesconocidoDesconocidoDesconocidoDesconocidoDesconocidoDesconocidoDesconocidoDesconocidoDesconocidoDesconocidoDesconocidoDesconocidoDesconocidoDesconocidoDesconocidoDesconocidoDesconocidoDesconocidoDesconocidoDesconocidoDesconocidoDesconocidoDesconocidoDesconocidoDesconocidoDesconocidoDesconocidoDesconocidoDesconocidoDesconocidoDesconocidoDesconocidoDesconocidoDesconocidoDesconocidoDesconocidoDesconocidoDesconocidoDesconocidoDesconocidoDesconocidoDesconocidoDesconocidoDesconocidoDesconocidoDesconocidoDesconocidoDesconocidoDesconocidoDesconocidoDesconocidoDesconocidoDesconocidoDesconocidoDesconocidoDesconocidoDesconocidoDesconocidoDesconocidoDesconocidoDesconocidoDesconocidoDesconocidoDesconocidoDesconocidoDesconocidoDesconocidoDesconocidoDesconocidoDesconocidoDesconocidoDesconocidoDesconocidoDesconocidoDesconocidoDesconocidoDesconocidoDesconocidoDesconocidoDesconocidoDesconocidoDesconocidoDesconocidoDesconocidoDesconocidoDesconocidoDesconocidoDesconocidoDesconocidoDesconocidoDesconocidoDesconocidoDesconocidoDesconocidoDesconocidoDesconocidoDesconocidoDesconocidoDesconocidoDesconocidoDesconocidoDesconocidoDesconocidoDesconocidoDesconocidoDesconocidoDesconocidoDesconocidoDesconocidoDesconocidoDesconocidoDesconocidoDesconocidoDesconocidoDesconocidoDesconocidoDesconocidoDesconocidoDesconocidoDesconocidoDesconocidoDesconocidoDesconocidoDesconocidoDesconocidoDesconocidoDesconocidoDesconocidoDesconocidoDesconocidoDesconocidoDesconocidoDesconocidoDesconocidoDesconocidoDesconocidoDesconocidoDesconocidoDesconocidoDesconocidoDesconocidoDesconocidoDesconocidoDesconocidoDesconocidoDesconocidoDesconocidoDesconocidoDesconocidoDesconocidoDesconocidoDesconocidoDesconocidoDesconocidoDesconocidoDesconocidoDesconocidoDesconocidoDesconocidoDesconocidoDesconocidoDesconocidoDesconocidoDesconocidoDesconocidoDesconocidoDesconocidoDesconocidoDesconocidoDesconocidoDesconocidoDesconocidoDesconocidoDesconocidoDesconocidoDesconocidoDesconocidoDesconocidoDesconocidoDesconocidoDesconocidoDesconocidoDesconocidoDesconocidoDesconocidoDesconocidoDesconocidoDesconocidoDesconocidoDesconocidoDesconocidoDesconocidoDesconocidoDesconocidoDesconocidoDesconocidoDesconocidoDesconocidoDesconocidoDesconocidoDesconocidoDesconocidoDesconocidoDesconocidoDesconocidoDesconocidoDesconocidoDesconocidoDesconocidoDesconocidoDesconocidoDesconocidoDesconocidoDesconocidoDesconocidoDesconocidoDesconocidoDesconocidoDesconocidoDesconocidoDesconocidoDesconocidoDesconocidoDesconocidoDesconocidoDesconocidoDesconocidoDesconocidoDesconocidoDesconocidoDesconocidoDesconocidoDesconocidoDesconocidoDesconocidoDesconocidoDesconocidoDesconocidoDesconocidoDesconocidoDesconocidoDesconocidoDesconocidoDesconocidoDesconocidoDesconocidoDesconocidoDesconocidoDesconocidoDesconocidoDesconocidoDesconocidoDesconocidoDesconocidoDesconocidoDesconocidoDesconocidoDesconocidoDesconocidoDesconocidoDesconocidoDesconocidoDesconocidoDesconocidoDesconocidoDesconocidoDesconocidoDesconocidoDesconocidoDesconocidoDesconocidoDesconocidoDesconocidoDesconocidoDesconocidoDesconocidoDesconocidoDesconocidoDesconocidoDesconocidoDesconocidoDesconocidoDesconocidoDesconocidoDesconocidoDesconocidoDesconocidoDesconocidoDesconocidoDesconocidoDesconocidoDesconocidoDesconocidoDesconocidoDesconocidoDesconocidoDesconocidoDesconocidoDesconocidoDesconocidoDesconocidoDesconocidoDesconocidoDesconocidoDesconocidoDesconocidoDesconocidoDesconocidoDesconocidoDesconocidoDesconocidoDesconocidoDesconocidoDesconocidoDesconocidoDesconocidoDesconocidoDesconocidoDesconocidoDesconocidoDesconocidoDesconocidoDesconocidoDesconocidoDesconocidoDesconocidoDesconocidoDesconocidoDesconocidoDesconocidoDesconocidoDesconocidoDesconocidoDesconocidoDesconocidoDesconocidoDesconocidoDesconocidoDesconocidoDesconocidoDesconocidoDesconocidoDesconocidoDesconocidoDesconocidoDesconocidoDesconocidoDesconocidoDesconocidoDesconocidoDesconocidoDesconocidoDesconocidoDesconocidoDesconocidoDesconocidoDesconocidoDesconocidoDesconocidoDesconocidoDesconocidoDesconocidoDesconocidoDesconocidoDesconocidoDesconocidoDesconocidoDesconocidoDesconocidoDesconocidoDesconocidoDesconocidoDesconocidoDesconocidoDesconocidoDesconocidoDesconocidoDesconocidoDesconocidoDesconocidoDesconocidoDesconocidoDesconocidoDesconocidoDesconocidoDesconocidoDesconocidoDesconocidoDesconocidoDesconocidoDesconocidoDesconocidoDesconocidoDesconocidoDesconocidoDesconocidoDesconocidoDesconocidoDesconocidoDesconocidoDesconocidoDesconocidoDesconocidoDesconocidoDesconocidoDesconocidoDesconocidoDesconocidoDesconocidoDesconocidoDesconocidoDesconocidoDesconocidoDesconocidoDesconocidoDesconocidoDesconocidoDesconocidoDesconocidoDesconocidoDesconocidoDesconocidoDesconocidoDesconocidoDesconocidoDesconocidoDesconocidoDesconocidoDesconocidoDesconocidoDesconocidoDesconocidoDesconocidoDesconocidoDesconocidoDesconocidoDesconocidoDesconocidoDesconocidoDesconocidoDesconocidoDesconocidoDesconocidoDesconocidoDesconocidoDesconocidoDesconocidoDesconocidoDesconocidoDesconocidoDesconocidoDesconocidoDesconocidoDesconocidoDesconocidoDesconocidoDesconocidoDesconocidoDesconocidoDesconocidoDesconocidoDesconocidoDesconocidoDesconocidoDesconocidoDesconocidoDesconocidoDesconocidoDesconocidoDesconocidoDesconocidoDesconocidoDesconocidoDesconocidoDesconocidoDesconocidoDesconocidoDesconocidoDesconocidoDesconocidoDesconocidoDesconocidoDesconocidoDesconocidoDesconocidoDesconocidoDesconocidoDesconocidoDesconocidoDesconocidoDesconocidoDesconocidoDesconocidoDesconocidoDesconocidoDesconocidoDesconocidoDesconocidoDesconocidoDesconocidoDesconocidoDesconocidoDesconocidoDesconocidoDesconocidoDesconocidoDesconocidoDesconocidoDesconocidoDesconocidoDesconocidoDesconocidoDesconocidoDesconocidoDesconocidoDesconocidoDesconocidoDesconocidoDesconocidoDesconocidoDesconocidoDesconocidoDesconocidoDesconocidoDesconocidoDesconocidoDesconocidoDesconocidoDesconocidoDesconocidoDesconocidoDesconocidoDesconocidoDesconocidoDesconocidoDesconocidoDesconocidoDesconocidoDesconocidoDesconocidoDesconocidoDesconocidoDesconocidoDesconocidoDesconocidoDesconocidoDesconocidoDesconocidoDesconocidoDesconocidoDesconocidoDesconocidoDesconocidoDesconocidoDesconocidoDesconocidoDesconocidoDesconocidoDesconocidoDesconocidoDesconocidoDesconocidoDesconocidoDesconocidoDesconocidoDesconocidoDesconocidoDesconocidoDesconocidoDesconocidoDesconocidoDesconocidoDesconocidoDesconocidoDesconocidoDesconocidoDesconocidoDesconocidoDesconocidoDesconocidoDesconocidoDesconocidoDesconocidoDesconocidoDesconocidoDesconocidoDesconocidoDesconocidoDesconocidoDesconocidoDesconocidoDesconocidoDesconocidoDesconocidoDesconocidoDesconocidoDesconocidoDesconocidoDesconocidoDesconocidoDesconocidoDesconocidoDesconocidoDesconocidoDesconocidoDesconocidoDesconocidoDesconocidoDesconocidoDesconocidoDesconocidoDesconocidoDesconocidoDesconocidoDesconocidoDesconocidoDesconocidoDesconocidoDesconocidoDesconocidoDesconocidoDesconocidoDesconocidoDesconocidoDesconocidoDesconocidoDesconocidoDesconocidoDesconocidoDesconocidoDesconocidoDesconocidoDesconocidoDesconocidoDesconocidoDesconocidoDesconocidoDesconocidoDesconocidoDesconocidoDesconocidoDesconocidoDesconocidoDesconocidoDesconocidoDesconocidoDesconocidoDesconocidoDesconocidoDesconocidoDesconocidoDesconocidoDesconocidoDesconocidoDesconocidoDesconocidoDesconocidoDesconocidoDesconocidoDesconocidoDesconocidoDesconocidoDesconocidoDesconocidoDesconocidoDesconocidoDesconocidoDesconocidoDesconocidoDesconocidoDesconocidoDesconocidoDesconocidoDesconocidoDesconocidoDesconocidoDesconocidoDesconocidoDesconocidoDesconocidoDesconocidoDesconocidoDesconocidoDesconocidoDesconocidoDesconocidoDesconocidoDesconocidoDesconocidoDesconocidoDesconocidoDesconocidoDesconocidoDesconocidoDesconocidoDesconocidoDesconocidoDesconocidoDesconocidoDesconocidoDesconocidoDesconocidoDesconocidoDesconocidoDesconocidoDesconocidoDesconocidoDesconocidoDesconocidoDesconocidoDesconocidoDesconocidoDesconocidoDesconocidoDesconocidoDesconocidoDesconocidoDesconocidoDesconocidoDesconocidoDesconocidoDesconocidoDesconocidoDesconocidoDesconocidoDesconocidoDesconocidoDesconocidoDesconocidoDesconocidoDesconocidoDesconocidoDesconocidoDesconocidoDesconocidoDesconocidoDesconocidoDesconocidoDesconocidoDesconocidoDesconocidoDesconocidoDesconocidoDesconocidoDesconocidoDesconocidoDesconocidoDesconocidoDesconocidoDesconocidoDesconocidoDesconocidoDesconocidoDesconocidoDesconocidoDesconocidoDesconocidoDesconocidoDesconocidoDesconocidoDesconocidoDesconocidoDesconocidoDesconocidoDesconocidoDesconocidoDesconocidoDesconocidoDesconocidoDesconocidoDesconocidoDesconocidoDesconocidoDesconocidoDesconocidoDesconocidoDesconocidoDesconocidoDesconocidoDesconocidoDesconocidoDesconocidoDesconocidoDesconocidoDesconocidoDesconocidoDesconocidoDesconocidoDesconocidoDesconocidoDesconocidoDesconocidoDesconocidoDesconocidoDesconocidoDesconocidoDesconocidoDesconocidoDesconocidoDesconocidoDesconocidoDesconocidoDesconocidoDesconocidoDesconocidoDesconocidoDesconocidoDesconocidoDesconocidoDesconocidoDesconocidoDesconocidoDesconocidoDesconocidoDesconocidoDesconocidoDesconocidoDesconocidoDesconocidoDesconocidoDesconocidoDesconocidoDesconocidoDesconocidoDesconocidoDesconocidoDesconocidoDesconocidoDesconocidoDesconocidoDesconocidoDesconocidoDesconocidoDesconocidoDesconocidoDesconocidoDesconocidoDesconocidoDesconocidoDesconocidoDesconocidoDesconocidoDesconocidoDesconocidoDesconocidoDesconocidoDesconocidoDesconocidoDesconocidoDesconocidoDesconocidoDesconocidoDesconocidoDesconocidoDesconocidoDesconocidoDesconocidoDesconocidoDesconocidoDesconocidoDesconocidoDesconocidoDesconocidoDesconocidoDesconocidoDesconocidoDesconocidoDesconocidoDesconocidoDesconocidoDesconocidoDesconocidoDesconocidoDesconocidoDesconocidoDesconocidoDesconocidoDesconocidoDesconocidoDesconocidoDesconocidoDesconocidoDesconocidoDesconocidoDesconocidoDesconocidoDesconocidoDesconocidoDesconocidoDesconocidoDesconocidoDesconocidoDesconocidoDesconocidoDesconocidoDesconocidoDesconocidoDesconocidoDesconocidoDesconocidoDesconocidoDesconocidoDesconocidoDesconocidoDesconocidoDesconocidoDesconocidoDesconocidoDesconocidoDesconocidoDesconocidoDesconocidoDesconocidoDesconocidoDesconocidoDesconocidoDesconocidoDesconocidoDesconocidoDesconocidoDesconocidoDesconocidoDesconocidoDesconocidoDesconocidoDesconocidoDesconocidoDesconocidoDesconocidoDesconocidoDesconocidoDesconocidoDesconocidoDesconocidoDesconocidoDesconocidoDesconocidoDesconocidoDesconocidoDesconocidoDesconocidoDesconocidoDesconocidoDesconocidoDesconocidoDesconocidoDesconocidoDesconocidoDesconocidoDesconocidoDesconocidoDesconocidoDesconocidoDesconocidoDesconocidoDesconocidoDesconocidoDesconocidoDesconocidoDesconocidoDesconocidoDesconocidoDesconocidoDesconocidoDesconocidoDesconocidoDesconocidoDesconocidoDesconocidoDesconocidoDesconocidoDesconocidoDesconocidoDesconocidoDesconocidoDesconocidoDesconocidoDesconocidoDesconocidoDesconocidoDesconocidoDesconocidoDesconocidoDesconocidoDesconocidoDesconocidoDesconocidoDesconocidoDesconocidoDesconocidoDesconocidoDesconocidoDesconocidoDesconocidoDesconocidoDesconocidoDesconocidoDesconocidoDesconocidoDesconocidoDesconocidoDesconocidoDesconocidoDesconocidoDesconocidoDesconocidoDesconocidoDesconocidoDesconocidoDesconocidoDesconocidoDesconocidoDesconocidoDesconocidoDesconocidoDesconocidoDesconocidoDesconocidoDesconocidoDesconocidoDesconocidoDesconocidoDesconocidoDesconocidoDesconocidoDesconocidoDesconocidoDesconocidoDesconocidoDesconocidoDesconocidoDesconocidoDesconocidoDesconocidoDesconocidoDesconocidoDesconocidoDesconocidoDesconocidoDesconocidoDesconocidoDesconocidoDesconocidoDesconocidoDesconocidoDesconocidoDesconocidoDesconocidoDesconocidoDesconocidoDesconocidoDesconocidoDesconocidoDesconocidoDesconocidoDesconocidoDesconocidoDesconocidoDesconocidoDesconocidoDesconocidoDesconocidoDesconocidoDesconocidoDesconocidoDesconocidoDesconocidoDesconocidoDesconocidoDesconocidoDesconocidoDesconocidoDesconocidoDesconocidoDesconocidoDesconocidoDesconocidoDesconocidoDesconocidoDesconocidoDesconocidoDesconocidoDesconocidoDesconocidoDesconocidoDesconocidoDesconocidoDesconocidoDesconocidoDesconocidoDesconocidoDesconocidoDesconocidoDesconocidoDesconocidoDesconocidoDesconocidoDesconocidoDesconocidoDesconocidoDesconocidoDesconocidoDesconocidoDesconocidoDesconocidoDesconocidoDesconocidoDesconocidoDesconocidoDesconocidoDesconocidoDesconocidoDesconocidoDesconocidoDesconocidoDesconocidoDesconocidoDesconocidoDesconocidoDesconocidoDesconocidoDesconocidoDesconocidoDesconocidoDesconocidoDesconocidoDesconocidoDesconocidoDesconocidoDesconocidoDesconocidoDesconocidoDesconocidoDesconocidoDesconocidoDesconocidoDesconocidoDesconocidoDesconocidoDesconocidoDesconocidoDesconocidoDesconocidoDesconocidoDesconocidoDesconocidoDesconocidoDesconocidoDesconocidoDesconocidoDesconocidoDesconocidoDesconocidoDesconocidoDesconocidoDesconocidoDesconocidoDesconocidoDesconocidoDesconocidoDesconocidoDesconocidoDesconocidoDesconocidoDesconocidoDesconocidoDesconocidoDesconocidoDesconocidoDesconocidoDesconocidoDesconocidoDesconocidoDesconocidoDesconocidoDesconocidoDesconocidoDesconocidoDesconocidoDesconocidoDesconocidoDesconocidoDesconocidoDesconocidoDesconocidoDesconocidoDesconocidoDesconocidoDesconocidoDesconocidoDesconocidoDesconocidoDesconocidoDesconocidoDesconocidoDesconocidoDesconocidoDesconocidoDesconocidoDesconocidoDesconocidoDesconocidoDesconocidoDesconocidoDesconocidoDesconocidoDesconocidoDesconocidoDesconocidoDesconocidoDesconocidoDesconocidoDesconocidoDesconocidoDesconocidoDesconocidoDesconocidoDesconocidoDesconocidoDesconocidoDesconocidoDesconocidoDesconocidoDesconocidoDesconocidoDesconocidoDesconocidoDesconocidoDesconocidoDesconocidoDesconocidoDesconocidoDesconocidoDesconocidoDesconocidoDesconocidoDesconocidoDesconocidoDesconocidoDesconocidoDesconocidoDesconocidoDesconocidoDesconocidoDesconocidoDesconocidoDesconocidoDesconocidoDesconocidoDesconocidoDesconocidoDesconocidoDesconocidoDesconocidoDesconocidoDesconocidoDesconocidoDesconocidoDesconocidoDesconocidoDesconocidoDesconocidoDesconocidoDesconocidoDesconocidoDesconocidoDesconocidoDesconocidoDesconocidoDesconocidoDesconocidoDesconocidoDesconocidoDesconocidoDesconocidoDesconocidoDesconocidoDesconocidoDesconocidoDesconocidoDesconocidoDesconocidoDesconocidoDesconocidoDesconocidoDesconocidoDesconocidoDesconocidoDesconocidoDesconocidoDesconocidoDesconocidoDesconocidoDesconocidoDesconocidoDesconocidoDesconocidoDesconocidoDesconocidoDesconocidoDesconocidoDesconocidoDesconocidoDesconocidoDesconocidoDesconocidoDesconocidoDesconocidoDesconocidoDesconocidoDesconocidoDesconocidoDesconocidoDesconocidoDesconocidoDesconocidoDesconocidoDesconocidoDesconocidoDesconocidoDesconocidoDesconocidoDesconocidoDesconocidoDesconocidoDesconocidoDesconocidoDesconocidoDesconocidoDesconocidoDesconocidoDesconocidoDesconocidoDesconocidoDesconocidoDesconocidoDesconocidoDesconocidoDesconocidoDesconocidoDesconocidoDesconocidoDesconocidoDesconocidoDesconocidoDesconocidoDesconocidoDesconocidoDesconocidoDesconocidoDesconocidoDesconocidoDesconocidoDesconocidoDesconocidoDesconocidoDesconocidoDesconocidoDesconocidoDesconocidoDesconocidoDesconocidoDesconocidoDesconocidoDesconocidoDesconocidoDesconocidoDesconocidoDesconocidoDesconocidoDesconocidoDesconocidoDesconocidoDesconocidoDesconocidoDesconocidoDesconocidoDesconocidoDesconocidoDesconocidoDesconocidoDesconocidoDesconocidoDesconocidoDesconocidoDesconocidoDesconocidoDesconocidoDesconocidoDesconocidoDesconocidoDesconocidoDesconocidoDesconocidoDesconocidoDesconocidoDesconocidoDesconocidoDesconocidoDesconocidoDesconocidoDesconocidoDesconocidoDesconocidoDesconocidoDesconocidoDesconocidoDesconocidoDesconocidoDesconocidoDesconocidoDesconocidoDesconocidoDesconocidoDesconocidoDesconocidoDesconocidoDesconocidoDesconocidoDesconocidoDesconocidoDesconocidoDesconocidoDesconocidoDesconocidoDesconocidoDesconocidoDesconocidoDesconocidoDesconocidoDesconocidoDesconocidoDesconocidoDesconocidoDesconocidoDesconocidoDesconocidoDesconocidoDesconocidoDesconocidoDesconocidoDesconocidoDesconocidoDesconocidoDesconocidoDesconocidoDesconocidoDesconocidoDesconocidoDesconocidoDesconocidoDesconocidoDesconocidoDesconocidoDesconocidoDesconocidoDesconocidoDesconocidoDesconocidoDesconocidoDesconocidoDesconocidoDesconocidoDesconocidoDesconocidoDesconocidoDesconocidoDesconocidoDesconocidoDesconocidoDesconocidoDesconocidoDesconocidoDesconocidoDesconocidoDesconocidoDesconocidoDesconocidoDesconocidoDesconocidoDesconocidoDesconocidoDesconocidoDesconocidoDesconocidoDesconocidoDesconocidoDesconocidoDesconocidoDesconocidoDesconocidoDesconocidoDesconocidoDesconocidoDesconocidoDesconocidoDesconocidoDesconocidoDesconocidoDesconocidoDesconocidoDesconocidoDesconocidoDesconocidoDesconocidoDesconocidoDesconocidoDesconocidoDesconocidoDesconocidoDesconocidoDesconocidoDesconocidoDesconocidoDesconocidoDesconocidoDesconocidoDesconocidoDesconocidoDesconocidoDesconocidoDesconocidoDesconocidoDesconocidoDesconocidoDesconocidoDesconocidoDesconocidoDesconocidoDesconocidoDesconocidoDesconocidoDesconocidoDesconocidoDesconocidoDesconocidoDesconocidoDesconocidoDesconocidoDesconocidoDesconocidoDesconocidoDesconocidoDesconocidoDesconocidoDesconocidoDesconocidoDesconocidoDesconocidoDesconocidoDesconocidoDesconocidoDesconocidoDesconocidoDesconocidoDesconocidoDesconocidoDesconocidoDesconocidoDesconocidoDesconocidoDesconocidoDesconocidoDesconocidoDesconocidoDesconocidoDesconocidoDesconocidoDesconocidoDesconocidoDesconocidoDesconocidoDesconocidoDesconocidoDesconocidoDesconocidoDesconocidoDesconocidoDesconocidoDesconocidoDesconocidoDesconocidoDesconocidoDesconocidoDesconocidoDesconocidoDesconocidoDesconocidoDesconocidoDesconocidoDesconocidoDesconocidoDesconocidoDesconocidoDesconocidoDesconocidoDesconocidoDesconocidoDesconocidoDesconocidoDesconocidoDesconocidoDesconocidoDesconocidoDesconocidoDesconocidoDesconocidoDesconocidoDesconocidoDesconocidoDesconocidoDesconocidoDesconocidoDesconocidoDesconocidoDesconocidoDesconocidoDesconocidoDesconocidoDesconocidoDesconocidoDesconocidoDesconocidoDesconocidoDesconocidoDesconocidoDesconocidoDesconocidoDesconocidoDesconocidoDesconocidoDesconocidoDesconocidoDesconocidoDesconocidoDesconocidoDesconocidoDesconocidoDesconocidoDesconocidoDesconocidoDesconocidoDesconocidoDesconocidoDesconocidoDesconocidoDesconocidoDesconocidoDesconocidoDesconocidoDesconocidoDesconocidoDesconocidoDesconocidoDesconocidoDesconocidoDesconocidoDesconocidoDesconocidoDesconocidoDesconocidoDesconocidoDesconocidoDesconocidoDesconocidoDesconocidoDesconocidoDesconocidoDesconocidoDesconocidoDesconocidoDesconocidoDesconocidoDesconocidoDesconocidoDesconocidoDesconocidoDesconocidoDesconocidoDesconocidoDesconocidoDesconocidoDesconocidoDesconocidoDesconocidoDesconocidoDesconocidoDesconocidoDesconocidoDesconocidoDesconocidoDesconocidoDesconocidoDesconocidoDesconocidoDesconocidoDesconocidoDesconocidoDesconocidoDesconocidoDesconocidoDesconocidoDesconocidoDesconocidoDesconocidoDesconocidoDesconocidoDesconocidoDesconocidoDesconocidoDesconocidoDesconocidoDesconocidoDesconocidoDesconocidoDesconocidoDesconocidoDesconocidoDesconocidoDesconocidoDesconocidoDesconocidoDesconocidoDesconocidoDesconocidoDesconocidoDesconocidoDesconocidoDesconocidoDesconocidoDesconocidoDesconocidoDesconocidoDesconocidoDesconocidoDesconocidoDesconocidoDesconocidoDesconocidoDesconocidoDesconocidoDesconocidoDesconocidoDesconocidoDesconocidoDesconocidoDesconocidoDesconocidoDesconocidoDesconocidoDesconocidoDesconocidoDesconocidoDesconocidoDesconocidoDesconocidoDesconocidoDesconocidoDesconocidoDesconocidoDesconocidoDesconocidoDesconocidoDesconocidoDesconocidoDesconocidoDesconocidoDesconocidoDesconocidoDesconocidoDesconocidoDesconocidoDesconocidoDesconocidoDesconocidoDesconocidoDesconocidoDesconocidoDesconocidoDesconocidoDesconocidoDesconocidoDesconocidoDesconocidoDesconocidoDesconocidoDesconocidoDesconocidoDesconocidoDesconocidoDesconocidoDesconocidoDesconocidoDesconocidoDesconocidoDesconocidoDesconocidoDesconocidoDesconocidoDesconocidoDesconocidoDesconocidoDesconocidoDesconocidoDesconocidoDesconocidoDesconocidoDesconocidoDesconocidoDesconocidoDesconocidoDesconocidoDesconocidoDesconocidoDesconocidoDesconocidoDesconocidoDesconocidoDesconocidoDesconocidoDesconocidoDesconocidoDesconocidoDesconocidoDesconocidoDesconocidoDesconocidoDesconocidoDesconocidoDesconocidoDesconocidoDesconocidoDesconocidoDesconocidoDesconocidoDesconocidoDesconocidoDesconocidoDesconocidoDesconocidoDesconocidoDesconocidoDesconocidoDesconocidoDesconocidoDesconocidoDesconocidoDesconocidoDesconocidoDesconocidoDesconocidoDesconocidoDesconocidoDesconocidoDesconocidoDesconocidoDesconocidoDesconocidoDesconocidoDesconocidoDesconocidoDesconocidoDesconocidoDesconocidoDesconocidoDesconocidoDesconocidoDesconocidoDesconocidoDesconocidoDesconocidoDesconocidoDesconocidoDesconocidoDesconocidoDesconocidoDesconocidoDesconocidoDesconocidoDesconocidoDesconocidoDesconocidoDesconocidoDesconocidoDesconocidoDesconocidoDesconocidoDesconocidoDesconocidoDesconocidoDesconocidoDesconocidoDesconocidoDesconocidoDesconocidoDesconocidoDesconocidoDesconocidoDesconocidoDesconocidoDesconocidoDesconocidoDesconocidoDesconocidoDesconocidoDesconocidoDesconocidoDesconocidoDesconocidoDesconocidoDesconocidoDesconocidoDesconocidoDesconocidoDesconocidoDesconocidoDesconocidoDesconocidoDesconocidoDesconocidoDesconocidoDesconocidoDesconocidoDesconocidoDesconocidoDesconocidoDesconocidoDesconocidoDesconocidoDesconocidoDesconocidoDesconocidoDesconocidoDesconocidoDesconocidoDesconocidoDesconocidoDesconocidoDesconocidoDesconocidoDesconocidoDesconocidoDesconocidoDesconocidoDesconocidoDesconocidoDesconocidoDesconocidoDesconocidoDesconocidoDesconocidoDesconocidoDesconocidoDesconocidoDesconocidoDesconocidoDesconocidoDesconocidoDesconocidoDesconocidoDesconocidoDesconocidoDesconocidoDesconocidoDesconocidoDesconocidoDesconocidoDesconocidoDesconocidoDesconocidoDesconocidoDesconocidoDesconocidoDesconocidoDesconocidoDesconocidoDesconocidoDesconocidoDesconocidoDesconocidoDesconocidoDesconocidoDesconocidoDesconocidoDesconocidoDesconocidoDesconocidoDesconocidoDesconocidoDesconocidoDesconocidoDesconocidoDesconocidoDesconocidoDesconocidoDesconocidoDesconocidoDesconocidoDesconocidoDesconocidoDesconocidoDesconocidoDesconocidoDesconocidoDesconocidoDesconocidoDesconocidoDesconocidoDesconocidoDesconocidoDesconocidoDesconocidoDesconocidoDesconocidoDesconocidoDesconocidoDesconocidoDesconocidoDesconocidoDesconocidoDesconocidoDesconocidoDesconocidoDesconocidoDesconocidoDesconocidoDesconocidoDesconocidoDesconocidoDesconocidoDesconocidoDesconocidoDesconocidoDesconocidoDesconocidoDesconocidoDesconocidoDesconocidoDesconocidoDesconocidoDesconocidoDesconocidoDesconocidoDesconocidoDesconocidoDesconocidoDesconocidoDesconocidoDesconocidoDesconocidoDesconocidoDesconocidoDesconocidoDesconocidoDesconocidoDesconocidoDesconocidoDesconocidoDesconocidoDesconocidoDesconocidoDesconocidoDesconocidoDesconocidoDesconocidoDesconocidoDesconocidoDesconocidoDesconocidoDesconocidoDesconocidoDesconocidoDesconocidoDesconocidoDesconocidoDesconocidoDesconocidoDesconocidoDesconocidoDesconocidoDesconocidoDesconocidoDesconocidoDesconocidoDesconocidoDesconocidoDesconocidoDesconocidoDesconocidoDesconocidoDesconocidoDesconocidoDesconocidoDesconocidoDesconocidoDesconocidoDesconocidoDesconocidoDesconocidoDesconocidoDesconocidoDesconocidoDesconocidoDesconocidoDesconocidoDesconocidoDesconocidoDesconocidoDesconocidoDesconocidoDesconocidoDesconocidoDesconocidoDesconocidoDesconocidoDesconocidoDesconocidoDesconocidoDesconocidoDesconocidoDesconocidoDesconocidoDesconocidoDesconocidoDesconocidoDesconocidoDesconocidoDesconocidoDesconocidoDesconocidoDesconocidoDesconocidoDesconocidoDesconocidoDesconocidoDesconocidoDesconocidoDesconocidoDesconocidoDesconocidoDesconocidoDesconocidoDesconocidoDesconocidoDesconocidoDesconocidoDesconocidoDesconocidoDesconocidoDesconocidoDesconocidoDesconocidoDesconocidoDesconocidoDesconocidoDesconocidoDesconocidoDesconocidoDesconocidoDesconocidoDesconocidoDesconocidoDesconocidoDesconocidoDesconocidoDesconocidoDesconocidoDesconocidoDesconocidoDesconocidoDesconocidoDesconocidoDesconocidoDesconocidoDesconocidoDesconocidoDesconocidoDesconocidoDesconocidoDesconocidoDesconocidoDesconocidoDesconocidoDesconocidoDesconocidoDesconocidoDesconocidoDesconocidoDesconocidoDesconocidoDesconocidoDesconocidoDesconocidoDesconocidoDesconocidoDesconocidoDesconocidoDesconocidoDesconocidoDesconocidoDesconocidoDesconocidoDesconocidoDesconocidoDesconocidoDesconocidoDesconocidoDesconocidoDesconocidoDesconocidoDesconocidoDesconocidoDesconocidoDesconocidoDesconocidoDesconocidoDesconocidoDesconocidoDesconocido' is not a valid function for 'DataFrameGroupBy' object"
     ]
    }
   ],
   "source": [
    "dfTime = dfSharks1.groupby(dfSharks1['year']>= '1850').agg(dfSharks1.Fatality.sum())"
   ]
  },
  {
   "cell_type": "code",
   "execution_count": null,
   "id": "38dbe61c",
   "metadata": {},
   "outputs": [],
   "source": [
    "dfSharks1.to_csv(\"CleanShark.csv\", index = True)"
   ]
  }
 ],
 "metadata": {
  "kernelspec": {
   "display_name": "ironhack",
   "language": "python",
   "name": "ironhack"
  },
  "language_info": {
   "codemirror_mode": {
    "name": "ipython",
    "version": 3
   },
   "file_extension": ".py",
   "mimetype": "text/x-python",
   "name": "python",
   "nbconvert_exporter": "python",
   "pygments_lexer": "ipython3",
   "version": "3.8.5"
  }
 },
 "nbformat": 4,
 "nbformat_minor": 5
}
