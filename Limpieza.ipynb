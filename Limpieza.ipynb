{
 "cells": [
  {
   "cell_type": "code",
   "execution_count": 2,
   "id": "5d1849c9",
   "metadata": {},
   "outputs": [],
   "source": [
    "import pandas as pd\n",
    "import numpy as np\n",
    "import src.CleaningFunctions as cf\n",
    "import re as r"
   ]
  },
  {
   "cell_type": "code",
   "execution_count": 3,
   "id": "f9ac6bcc",
   "metadata": {},
   "outputs": [
    {
     "data": {
      "text/html": [
       "<div>\n",
       "<style scoped>\n",
       "    .dataframe tbody tr th:only-of-type {\n",
       "        vertical-align: middle;\n",
       "    }\n",
       "\n",
       "    .dataframe tbody tr th {\n",
       "        vertical-align: top;\n",
       "    }\n",
       "\n",
       "    .dataframe thead th {\n",
       "        text-align: right;\n",
       "    }\n",
       "</style>\n",
       "<table border=\"1\" class=\"dataframe\">\n",
       "  <thead>\n",
       "    <tr style=\"text-align: right;\">\n",
       "      <th></th>\n",
       "      <th>Case Number</th>\n",
       "      <th>Date</th>\n",
       "      <th>Year</th>\n",
       "      <th>Type</th>\n",
       "      <th>Country</th>\n",
       "      <th>Area</th>\n",
       "      <th>Location</th>\n",
       "      <th>Activity</th>\n",
       "      <th>Name</th>\n",
       "      <th>Sex</th>\n",
       "      <th>...</th>\n",
       "      <th>Species</th>\n",
       "      <th>Investigator or Source</th>\n",
       "      <th>pdf</th>\n",
       "      <th>href formula</th>\n",
       "      <th>href</th>\n",
       "      <th>Case Number.1</th>\n",
       "      <th>Case Number.2</th>\n",
       "      <th>original order</th>\n",
       "      <th>Unnamed: 22</th>\n",
       "      <th>Unnamed: 23</th>\n",
       "    </tr>\n",
       "  </thead>\n",
       "  <tbody>\n",
       "    <tr>\n",
       "      <th>0</th>\n",
       "      <td>2018.06.25</td>\n",
       "      <td>25-Jun-2018</td>\n",
       "      <td>2018.0</td>\n",
       "      <td>Boating</td>\n",
       "      <td>USA</td>\n",
       "      <td>California</td>\n",
       "      <td>Oceanside, San Diego County</td>\n",
       "      <td>Paddling</td>\n",
       "      <td>Julie Wolfe</td>\n",
       "      <td>F</td>\n",
       "      <td>...</td>\n",
       "      <td>White shark</td>\n",
       "      <td>R. Collier, GSAF</td>\n",
       "      <td>2018.06.25-Wolfe.pdf</td>\n",
       "      <td>http://sharkattackfile.net/spreadsheets/pdf_di...</td>\n",
       "      <td>http://sharkattackfile.net/spreadsheets/pdf_di...</td>\n",
       "      <td>2018.06.25</td>\n",
       "      <td>2018.06.25</td>\n",
       "      <td>6303.0</td>\n",
       "      <td>NaN</td>\n",
       "      <td>NaN</td>\n",
       "    </tr>\n",
       "    <tr>\n",
       "      <th>1</th>\n",
       "      <td>2018.06.18</td>\n",
       "      <td>18-Jun-2018</td>\n",
       "      <td>2018.0</td>\n",
       "      <td>Unprovoked</td>\n",
       "      <td>USA</td>\n",
       "      <td>Georgia</td>\n",
       "      <td>St. Simon Island, Glynn County</td>\n",
       "      <td>Standing</td>\n",
       "      <td>Adyson McNeely</td>\n",
       "      <td>F</td>\n",
       "      <td>...</td>\n",
       "      <td>NaN</td>\n",
       "      <td>K.McMurray, TrackingSharks.com</td>\n",
       "      <td>2018.06.18-McNeely.pdf</td>\n",
       "      <td>http://sharkattackfile.net/spreadsheets/pdf_di...</td>\n",
       "      <td>http://sharkattackfile.net/spreadsheets/pdf_di...</td>\n",
       "      <td>2018.06.18</td>\n",
       "      <td>2018.06.18</td>\n",
       "      <td>6302.0</td>\n",
       "      <td>NaN</td>\n",
       "      <td>NaN</td>\n",
       "    </tr>\n",
       "    <tr>\n",
       "      <th>2</th>\n",
       "      <td>2018.06.09</td>\n",
       "      <td>09-Jun-2018</td>\n",
       "      <td>2018.0</td>\n",
       "      <td>Invalid</td>\n",
       "      <td>USA</td>\n",
       "      <td>Hawaii</td>\n",
       "      <td>Habush, Oahu</td>\n",
       "      <td>Surfing</td>\n",
       "      <td>John Denges</td>\n",
       "      <td>M</td>\n",
       "      <td>...</td>\n",
       "      <td>NaN</td>\n",
       "      <td>K.McMurray, TrackingSharks.com</td>\n",
       "      <td>2018.06.09-Denges.pdf</td>\n",
       "      <td>http://sharkattackfile.net/spreadsheets/pdf_di...</td>\n",
       "      <td>http://sharkattackfile.net/spreadsheets/pdf_di...</td>\n",
       "      <td>2018.06.09</td>\n",
       "      <td>2018.06.09</td>\n",
       "      <td>6301.0</td>\n",
       "      <td>NaN</td>\n",
       "      <td>NaN</td>\n",
       "    </tr>\n",
       "    <tr>\n",
       "      <th>3</th>\n",
       "      <td>2018.06.08</td>\n",
       "      <td>08-Jun-2018</td>\n",
       "      <td>2018.0</td>\n",
       "      <td>Unprovoked</td>\n",
       "      <td>AUSTRALIA</td>\n",
       "      <td>New South Wales</td>\n",
       "      <td>Arrawarra Headland</td>\n",
       "      <td>Surfing</td>\n",
       "      <td>male</td>\n",
       "      <td>M</td>\n",
       "      <td>...</td>\n",
       "      <td>2 m shark</td>\n",
       "      <td>B. Myatt, GSAF</td>\n",
       "      <td>2018.06.08-Arrawarra.pdf</td>\n",
       "      <td>http://sharkattackfile.net/spreadsheets/pdf_di...</td>\n",
       "      <td>http://sharkattackfile.net/spreadsheets/pdf_di...</td>\n",
       "      <td>2018.06.08</td>\n",
       "      <td>2018.06.08</td>\n",
       "      <td>6300.0</td>\n",
       "      <td>NaN</td>\n",
       "      <td>NaN</td>\n",
       "    </tr>\n",
       "    <tr>\n",
       "      <th>4</th>\n",
       "      <td>2018.06.04</td>\n",
       "      <td>04-Jun-2018</td>\n",
       "      <td>2018.0</td>\n",
       "      <td>Provoked</td>\n",
       "      <td>MEXICO</td>\n",
       "      <td>Colima</td>\n",
       "      <td>La Ticla</td>\n",
       "      <td>Free diving</td>\n",
       "      <td>Gustavo Ramos</td>\n",
       "      <td>M</td>\n",
       "      <td>...</td>\n",
       "      <td>Tiger shark, 3m</td>\n",
       "      <td>A .Kipper</td>\n",
       "      <td>2018.06.04-Ramos.pdf</td>\n",
       "      <td>http://sharkattackfile.net/spreadsheets/pdf_di...</td>\n",
       "      <td>http://sharkattackfile.net/spreadsheets/pdf_di...</td>\n",
       "      <td>2018.06.04</td>\n",
       "      <td>2018.06.04</td>\n",
       "      <td>6299.0</td>\n",
       "      <td>NaN</td>\n",
       "      <td>NaN</td>\n",
       "    </tr>\n",
       "  </tbody>\n",
       "</table>\n",
       "<p>5 rows × 24 columns</p>\n",
       "</div>"
      ],
      "text/plain": [
       "  Case Number         Date    Year        Type    Country             Area  \\\n",
       "0  2018.06.25  25-Jun-2018  2018.0     Boating        USA       California   \n",
       "1  2018.06.18  18-Jun-2018  2018.0  Unprovoked        USA          Georgia   \n",
       "2  2018.06.09  09-Jun-2018  2018.0     Invalid        USA           Hawaii   \n",
       "3  2018.06.08  08-Jun-2018  2018.0  Unprovoked  AUSTRALIA  New South Wales   \n",
       "4  2018.06.04  04-Jun-2018  2018.0    Provoked     MEXICO           Colima   \n",
       "\n",
       "                         Location     Activity             Name Sex   ...  \\\n",
       "0     Oceanside, San Diego County     Paddling      Julie Wolfe    F  ...   \n",
       "1  St. Simon Island, Glynn County     Standing  Adyson McNeely     F  ...   \n",
       "2                    Habush, Oahu      Surfing      John Denges    M  ...   \n",
       "3              Arrawarra Headland      Surfing             male    M  ...   \n",
       "4                        La Ticla  Free diving   Gustavo Ramos     M  ...   \n",
       "\n",
       "          Species           Investigator or Source                       pdf  \\\n",
       "0      White shark                R. Collier, GSAF      2018.06.25-Wolfe.pdf   \n",
       "1              NaN  K.McMurray, TrackingSharks.com    2018.06.18-McNeely.pdf   \n",
       "2              NaN  K.McMurray, TrackingSharks.com     2018.06.09-Denges.pdf   \n",
       "3        2 m shark                  B. Myatt, GSAF  2018.06.08-Arrawarra.pdf   \n",
       "4  Tiger shark, 3m                       A .Kipper      2018.06.04-Ramos.pdf   \n",
       "\n",
       "                                        href formula  \\\n",
       "0  http://sharkattackfile.net/spreadsheets/pdf_di...   \n",
       "1  http://sharkattackfile.net/spreadsheets/pdf_di...   \n",
       "2  http://sharkattackfile.net/spreadsheets/pdf_di...   \n",
       "3  http://sharkattackfile.net/spreadsheets/pdf_di...   \n",
       "4  http://sharkattackfile.net/spreadsheets/pdf_di...   \n",
       "\n",
       "                                                href Case Number.1  \\\n",
       "0  http://sharkattackfile.net/spreadsheets/pdf_di...    2018.06.25   \n",
       "1  http://sharkattackfile.net/spreadsheets/pdf_di...    2018.06.18   \n",
       "2  http://sharkattackfile.net/spreadsheets/pdf_di...    2018.06.09   \n",
       "3  http://sharkattackfile.net/spreadsheets/pdf_di...    2018.06.08   \n",
       "4  http://sharkattackfile.net/spreadsheets/pdf_di...    2018.06.04   \n",
       "\n",
       "  Case Number.2 original order Unnamed: 22 Unnamed: 23  \n",
       "0    2018.06.25         6303.0         NaN         NaN  \n",
       "1    2018.06.18         6302.0         NaN         NaN  \n",
       "2    2018.06.09         6301.0         NaN         NaN  \n",
       "3    2018.06.08         6300.0         NaN         NaN  \n",
       "4    2018.06.04         6299.0         NaN         NaN  \n",
       "\n",
       "[5 rows x 24 columns]"
      ]
     },
     "execution_count": 3,
     "metadata": {},
     "output_type": "execute_result"
    }
   ],
   "source": [
    "dfSharks = pd.read_csv(\"../Pandas-Proyect/data/attacks.csv\",encoding = \"ISO-8859-1\")\n",
    "dfSharks.head()"
   ]
  },
  {
   "cell_type": "code",
   "execution_count": 4,
   "id": "dc44d67a",
   "metadata": {},
   "outputs": [],
   "source": [
    "#dfSharks.info()"
   ]
  },
  {
   "cell_type": "code",
   "execution_count": 5,
   "id": "d229c7dc",
   "metadata": {},
   "outputs": [],
   "source": [
    "dfSharks1 = dfSharks.copy()\n"
   ]
  },
  {
   "cell_type": "code",
   "execution_count": 6,
   "id": "1a8cd617",
   "metadata": {},
   "outputs": [],
   "source": [
    "#dfSharks1.columns"
   ]
  },
  {
   "cell_type": "code",
   "execution_count": 7,
   "id": "52eff103",
   "metadata": {},
   "outputs": [],
   "source": [
    "dfSharks1 = dfSharks1.loc[:, ~dfSharks1.columns.str.contains('^Unnamed')]"
   ]
  },
  {
   "cell_type": "code",
   "execution_count": 8,
   "id": "38455229",
   "metadata": {},
   "outputs": [],
   "source": [
    "dfSharks1 = dfSharks1.drop(columns=['Case Number.1',\"Case Number.2\",'href formula','href','Location','pdf','Investigator or Source'])\n"
   ]
  },
  {
   "cell_type": "code",
   "execution_count": 9,
   "id": "17b47d07",
   "metadata": {},
   "outputs": [],
   "source": [
    "#dfSharks1.columns"
   ]
  },
  {
   "cell_type": "code",
   "execution_count": 10,
   "id": "f6aba84e",
   "metadata": {},
   "outputs": [],
   "source": [
    "dfSharks1.rename(columns = {'Species ':'Species'}, inplace = True)\n",
    "dfSharks1.rename(columns = { 'Fatal (Y/N)':'Fatality'}, inplace = True)"
   ]
  },
  {
   "cell_type": "code",
   "execution_count": 11,
   "id": "a0169b43",
   "metadata": {},
   "outputs": [
    {
     "data": {
      "text/plain": [
       "Case Number       17021\n",
       "Date              19421\n",
       "Year              19423\n",
       "Type              19425\n",
       "Country           19471\n",
       "Area              19876\n",
       "Activity          19965\n",
       "Name              19631\n",
       "Sex               19986\n",
       "Age               22252\n",
       "Injury            19449\n",
       "Fatality          19960\n",
       "Time              22775\n",
       "Species           22259\n",
       "original order    19414\n",
       "dtype: int64"
      ]
     },
     "execution_count": 11,
     "metadata": {},
     "output_type": "execute_result"
    }
   ],
   "source": [
    "dfSharks1.isna().sum()"
   ]
  },
  {
   "cell_type": "code",
   "execution_count": 12,
   "id": "f516f4ee",
   "metadata": {},
   "outputs": [],
   "source": [
    "dfSharks1 = dfSharks1.dropna(axis = 0, how = 'all')"
   ]
  },
  {
   "cell_type": "code",
   "execution_count": 13,
   "id": "ba1d6e91",
   "metadata": {},
   "outputs": [],
   "source": [
    "dfSharks1 = dfSharks1.set_index(\"original order\")"
   ]
  },
  {
   "cell_type": "code",
   "execution_count": 14,
   "id": "71738b50",
   "metadata": {},
   "outputs": [],
   "source": [
    "dfSharks1.sort_values('original order', inplace = True)"
   ]
  },
  {
   "cell_type": "code",
   "execution_count": 15,
   "id": "5e2fd8d4",
   "metadata": {},
   "outputs": [
    {
     "data": {
      "text/plain": [
       "array(['Unprovoked', 'Boat', 'Sea Disaster', 'Provoked', 'Invalid',\n",
       "       'Boating', nan, 'Boatomg', 'Questionable'], dtype=object)"
      ]
     },
     "execution_count": 15,
     "metadata": {},
     "output_type": "execute_result"
    }
   ],
   "source": [
    "dfSharks1.Type.unique()\n"
   ]
  },
  {
   "cell_type": "code",
   "execution_count": 16,
   "id": "a9cd180b",
   "metadata": {
    "scrolled": true
   },
   "outputs": [
    {
     "data": {
      "text/plain": [
       "array(['Unprovoked', 'Boat', 'Sea Disaster', 'Provoked', 'Invalid',\n",
       "       'Boating', nan, 'Boatomg', 'Questionable'], dtype=object)"
      ]
     },
     "execution_count": 16,
     "metadata": {},
     "output_type": "execute_result"
    }
   ],
   "source": [
    "dfSharks1.Type.unique() "
   ]
  },
  {
   "cell_type": "code",
   "execution_count": 17,
   "id": "67e048e6",
   "metadata": {},
   "outputs": [
    {
     "data": {
      "text/html": [
       "<div>\n",
       "<style scoped>\n",
       "    .dataframe tbody tr th:only-of-type {\n",
       "        vertical-align: middle;\n",
       "    }\n",
       "\n",
       "    .dataframe tbody tr th {\n",
       "        vertical-align: top;\n",
       "    }\n",
       "\n",
       "    .dataframe thead th {\n",
       "        text-align: right;\n",
       "    }\n",
       "</style>\n",
       "<table border=\"1\" class=\"dataframe\">\n",
       "  <thead>\n",
       "    <tr style=\"text-align: right;\">\n",
       "      <th></th>\n",
       "      <th>Case Number</th>\n",
       "      <th>Date</th>\n",
       "      <th>Year</th>\n",
       "      <th>Type</th>\n",
       "      <th>Country</th>\n",
       "      <th>Area</th>\n",
       "      <th>Activity</th>\n",
       "      <th>Name</th>\n",
       "      <th>Sex</th>\n",
       "      <th>Age</th>\n",
       "      <th>Injury</th>\n",
       "      <th>Fatality</th>\n",
       "      <th>Time</th>\n",
       "      <th>Species</th>\n",
       "    </tr>\n",
       "    <tr>\n",
       "      <th>original order</th>\n",
       "      <th></th>\n",
       "      <th></th>\n",
       "      <th></th>\n",
       "      <th></th>\n",
       "      <th></th>\n",
       "      <th></th>\n",
       "      <th></th>\n",
       "      <th></th>\n",
       "      <th></th>\n",
       "      <th></th>\n",
       "      <th></th>\n",
       "      <th></th>\n",
       "      <th></th>\n",
       "      <th></th>\n",
       "    </tr>\n",
       "  </thead>\n",
       "  <tbody>\n",
       "    <tr>\n",
       "      <th>2.0</th>\n",
       "      <td>ND.0001</td>\n",
       "      <td>1845-1853</td>\n",
       "      <td>0.0</td>\n",
       "      <td>Unprovoked</td>\n",
       "      <td>CEYLON (SRI LANKA)</td>\n",
       "      <td>Eastern Province</td>\n",
       "      <td>Swimming</td>\n",
       "      <td>male</td>\n",
       "      <td>M</td>\n",
       "      <td>15</td>\n",
       "      <td>FATAL. \"Shark bit him in half, carrying away t...</td>\n",
       "      <td>Y</td>\n",
       "      <td>NaN</td>\n",
       "      <td>NaN</td>\n",
       "    </tr>\n",
       "    <tr>\n",
       "      <th>3.0</th>\n",
       "      <td>ND.0002</td>\n",
       "      <td>1883-1889</td>\n",
       "      <td>0.0</td>\n",
       "      <td>Unprovoked</td>\n",
       "      <td>PANAMA</td>\n",
       "      <td>NaN</td>\n",
       "      <td>NaN</td>\n",
       "      <td>Jules Patterson</td>\n",
       "      <td>M</td>\n",
       "      <td>NaN</td>\n",
       "      <td>FATAL</td>\n",
       "      <td>Y</td>\n",
       "      <td>NaN</td>\n",
       "      <td>NaN</td>\n",
       "    </tr>\n",
       "    <tr>\n",
       "      <th>4.0</th>\n",
       "      <td>ND.0003</td>\n",
       "      <td>1900-1905</td>\n",
       "      <td>0.0</td>\n",
       "      <td>Unprovoked</td>\n",
       "      <td>USA</td>\n",
       "      <td>North Carolina</td>\n",
       "      <td>Swimming</td>\n",
       "      <td>Coast Guard personnel</td>\n",
       "      <td>M</td>\n",
       "      <td>NaN</td>\n",
       "      <td>FATAL</td>\n",
       "      <td>Y</td>\n",
       "      <td>NaN</td>\n",
       "      <td>NaN</td>\n",
       "    </tr>\n",
       "    <tr>\n",
       "      <th>5.0</th>\n",
       "      <td>ND.0004</td>\n",
       "      <td>Before 1903</td>\n",
       "      <td>0.0</td>\n",
       "      <td>Unprovoked</td>\n",
       "      <td>AUSTRALIA</td>\n",
       "      <td>Western Australia</td>\n",
       "      <td>Pearl diving</td>\n",
       "      <td>Ahmun</td>\n",
       "      <td>M</td>\n",
       "      <td>NaN</td>\n",
       "      <td>FATAL</td>\n",
       "      <td>Y</td>\n",
       "      <td>NaN</td>\n",
       "      <td>NaN</td>\n",
       "    </tr>\n",
       "    <tr>\n",
       "      <th>6.0</th>\n",
       "      <td>ND.0005</td>\n",
       "      <td>Before 1903</td>\n",
       "      <td>0.0</td>\n",
       "      <td>Unprovoked</td>\n",
       "      <td>AUSTRALIA</td>\n",
       "      <td>Western Australia</td>\n",
       "      <td>Diving</td>\n",
       "      <td>male</td>\n",
       "      <td>M</td>\n",
       "      <td>NaN</td>\n",
       "      <td>FATAL</td>\n",
       "      <td>Y</td>\n",
       "      <td>NaN</td>\n",
       "      <td>NaN</td>\n",
       "    </tr>\n",
       "  </tbody>\n",
       "</table>\n",
       "</div>"
      ],
      "text/plain": [
       "               Case Number         Date  Year        Type             Country  \\\n",
       "original order                                                                  \n",
       "2.0                ND.0001    1845-1853   0.0  Unprovoked  CEYLON (SRI LANKA)   \n",
       "3.0                ND.0002    1883-1889   0.0  Unprovoked              PANAMA   \n",
       "4.0                ND.0003    1900-1905   0.0  Unprovoked                 USA   \n",
       "5.0                ND.0004  Before 1903   0.0  Unprovoked           AUSTRALIA   \n",
       "6.0                ND.0005  Before 1903   0.0  Unprovoked           AUSTRALIA   \n",
       "\n",
       "                             Area      Activity                   Name Sex   \\\n",
       "original order                                                                \n",
       "2.0              Eastern Province      Swimming                   male    M   \n",
       "3.0                           NaN           NaN        Jules Patterson    M   \n",
       "4.0                North Carolina      Swimming  Coast Guard personnel    M   \n",
       "5.0             Western Australia  Pearl diving                  Ahmun    M   \n",
       "6.0             Western Australia        Diving                   male    M   \n",
       "\n",
       "                Age                                             Injury  \\\n",
       "original order                                                           \n",
       "2.0              15  FATAL. \"Shark bit him in half, carrying away t...   \n",
       "3.0             NaN                                              FATAL   \n",
       "4.0             NaN                                              FATAL   \n",
       "5.0             NaN                                              FATAL   \n",
       "6.0             NaN                                              FATAL   \n",
       "\n",
       "               Fatality Time Species  \n",
       "original order                        \n",
       "2.0                   Y  NaN     NaN  \n",
       "3.0                   Y  NaN     NaN  \n",
       "4.0                   Y  NaN     NaN  \n",
       "5.0                   Y  NaN     NaN  \n",
       "6.0                   Y  NaN     NaN  "
      ]
     },
     "execution_count": 17,
     "metadata": {},
     "output_type": "execute_result"
    }
   ],
   "source": [
    "dfSharks1.head()"
   ]
  },
  {
   "cell_type": "code",
   "execution_count": 18,
   "id": "c15bbf86",
   "metadata": {},
   "outputs": [],
   "source": [
    "dfSharks1['Sex'] =  dfSharks1['Sex ']"
   ]
  },
  {
   "cell_type": "code",
   "execution_count": 19,
   "id": "b824c2ee",
   "metadata": {},
   "outputs": [],
   "source": [
    "dfSharks1.drop(['Sex '], axis = 1, inplace = True)"
   ]
  },
  {
   "cell_type": "code",
   "execution_count": 20,
   "id": "22f79e72",
   "metadata": {},
   "outputs": [
    {
     "data": {
      "text/plain": [
       "array(['M', 'F', nan, 'N', '.', 'lli', 'M '], dtype=object)"
      ]
     },
     "execution_count": 20,
     "metadata": {},
     "output_type": "execute_result"
    }
   ],
   "source": [
    "dfSharks1.Sex.unique()"
   ]
  },
  {
   "cell_type": "code",
   "execution_count": 21,
   "id": "7569a21e",
   "metadata": {},
   "outputs": [
    {
     "name": "stderr",
     "output_type": "stream",
     "text": [
      "<ipython-input-21-bde1c7bbdfdb>:7: FutureWarning: The default value of regex will change from True to False in a future version. In addition, single character regular expressions will *not* be treated as literal strings when regex=True.\n",
      "  dfSharks1['Sex'] = dfSharks1.Sex.str.replace('.', 'Desconocido')\n"
     ]
    }
   ],
   "source": [
    "#Renombro valores y doy valores a los Nan\n",
    "#Para la columna sex:\n",
    "dfSharks1['Sex'] = dfSharks1.Sex.str.replace('N', 'M')\n",
    "dfSharks1['Sex'] = dfSharks1.Sex.str.strip()\n",
    "dfSharks1['Sex'] = dfSharks1.Sex.fillna('Desconocido')\n",
    "dfSharks1['Sex'] = dfSharks1.Sex.str.replace('lli', 'Desconocido')\n",
    "dfSharks1['Sex'] = dfSharks1.Sex.str.replace('.', 'Desconocido')\n",
    "#Para la columna Activity\n",
    "dfSharks1['Activity'] = dfSharks1.Activity.str.replace('Fishing / Wading','Shore fishing')\n",
    "dfSharks1['Activity'] = dfSharks1.Activity.fillna('Desconocido')\n",
    "dfSharks1['Activity'] = dfSharks1.Activity.str.replace('Kayak fishing for sharks', 'Kayak Fishing')\n",
    "#Para la columna Country:\n",
    "dfSharks1['Country'] = dfSharks1.Country.fillna('Desconocido')\n",
    "#Para la columna Fatality:\n",
    "dfSharks1['Fatality'] = dfSharks1.Fatality.str.replace('2017','Desconocido')\n",
    "dfSharks1['Fatality'] = dfSharks1.Fatality.str.replace('N ','N')\n",
    "dfSharks1['Fatality'] = dfSharks1.Fatality.str.replace(' N','N')\n",
    "dfSharks1['Fatality'] = dfSharks1.Fatality.str.replace('M','N')\n",
    "dfSharks1['Fatality'] = dfSharks1.Fatality.str.replace('y', 'Y')\n",
    "dfSharks1['Fatality'] = dfSharks1.Fatality.str.replace('UNKNOWN','Desconocido')\n",
    "dfSharks1['Fatality'] = dfSharks1.Fatality.fillna('Desconocido')\n",
    "#Para la columna Type:\n",
    "dfSharks1['Type'] = dfSharks1.Type.str.replace('Boating','Boat')\n",
    "dfSharks1['Type'] = dfSharks1.Type.str.replace('Boatomg','Boat')\n",
    "dfSharks1['Type'] = dfSharks1.Type.fillna('Desconocido')"
   ]
  },
  {
   "cell_type": "code",
   "execution_count": 22,
   "id": "89914e98",
   "metadata": {},
   "outputs": [],
   "source": [
    "repsPaises = dfSharks1.pivot_table(columns=['Country'], aggfunc='size')\n",
    "repsPaises = dict(repsPaises)\n",
    "paisesord = sorted(repsPaises.values())\n",
    "\n",
    "#sacar mas de un valor maximo"
   ]
  },
  {
   "cell_type": "code",
   "execution_count": 23,
   "id": "7a9077be",
   "metadata": {},
   "outputs": [
    {
     "ename": "NameError",
     "evalue": "name 'dfsharks1' is not defined",
     "output_type": "error",
     "traceback": [
      "\u001b[0;31m---------------------------------------------------------------------------\u001b[0m",
      "\u001b[0;31mNameError\u001b[0m                                 Traceback (most recent call last)",
      "\u001b[0;32m<ipython-input-23-4efe33ce41f0>\u001b[0m in \u001b[0;36m<module>\u001b[0;34m\u001b[0m\n\u001b[0;32m----> 1\u001b[0;31m \u001b[0mdfsharks1\u001b[0m\u001b[0;34m.\u001b[0m\u001b[0mhead\u001b[0m\u001b[0;34m(\u001b[0m\u001b[0;34m)\u001b[0m\u001b[0;34m\u001b[0m\u001b[0;34m\u001b[0m\u001b[0m\n\u001b[0m",
      "\u001b[0;31mNameError\u001b[0m: name 'dfsharks1' is not defined"
     ]
    }
   ],
   "source": [
    "dfsharks1.head()"
   ]
  },
  {
   "cell_type": "code",
   "execution_count": 24,
   "id": "d3c944e4",
   "metadata": {},
   "outputs": [],
   "source": [
    "top = list(dfSharks1.Country.value_counts().index)[0:4]\n",
    "trip = list(dfSharks1.Country.value_counts())[0:4]"
   ]
  },
  {
   "cell_type": "code",
   "execution_count": 25,
   "id": "c212f241",
   "metadata": {},
   "outputs": [],
   "source": [
    "#list(dfSharks1.Country.value_counts())"
   ]
  },
  {
   "cell_type": "code",
   "execution_count": 26,
   "id": "bb67a5fd",
   "metadata": {},
   "outputs": [
    {
     "name": "stdout",
     "output_type": "stream",
     "text": [
      "['Desconocido', 'USA', 'AUSTRALIA', 'SOUTH AFRICA']\n",
      "[2451, 2229, 1338, 579]\n"
     ]
    }
   ],
   "source": [
    "print(top)\n",
    "print(trip)"
   ]
  },
  {
   "cell_type": "code",
   "execution_count": 27,
   "id": "81b5c1c2",
   "metadata": {},
   "outputs": [],
   "source": [
    "dfPaises = pd.DataFrame(top, )\n",
    "dfPaises['Ataques'] = trip\n",
    "dfPaises.columns = ['Pais','Ataques']\n",
    "dfPaises.to_csv(\"Paises.csv\", index = True)"
   ]
  },
  {
   "cell_type": "code",
   "execution_count": 56,
   "id": "93afbdb4",
   "metadata": {},
   "outputs": [
    {
     "data": {
      "text/html": [
       "<div>\n",
       "<style scoped>\n",
       "    .dataframe tbody tr th:only-of-type {\n",
       "        vertical-align: middle;\n",
       "    }\n",
       "\n",
       "    .dataframe tbody tr th {\n",
       "        vertical-align: top;\n",
       "    }\n",
       "\n",
       "    .dataframe thead th {\n",
       "        text-align: right;\n",
       "    }\n",
       "</style>\n",
       "<table border=\"1\" class=\"dataframe\">\n",
       "  <thead>\n",
       "    <tr style=\"text-align: right;\">\n",
       "      <th></th>\n",
       "      <th>Case Number</th>\n",
       "      <th>Date</th>\n",
       "      <th>Type</th>\n",
       "      <th>Country</th>\n",
       "      <th>Area</th>\n",
       "      <th>Activity</th>\n",
       "      <th>Name</th>\n",
       "      <th>Age</th>\n",
       "      <th>Injury</th>\n",
       "      <th>Fatality</th>\n",
       "      <th>Species</th>\n",
       "      <th>Sex</th>\n",
       "      <th>year</th>\n",
       "      <th>month</th>\n",
       "      <th>day</th>\n",
       "    </tr>\n",
       "    <tr>\n",
       "      <th>original order</th>\n",
       "      <th></th>\n",
       "      <th></th>\n",
       "      <th></th>\n",
       "      <th></th>\n",
       "      <th></th>\n",
       "      <th></th>\n",
       "      <th></th>\n",
       "      <th></th>\n",
       "      <th></th>\n",
       "      <th></th>\n",
       "      <th></th>\n",
       "      <th></th>\n",
       "      <th></th>\n",
       "      <th></th>\n",
       "      <th></th>\n",
       "    </tr>\n",
       "  </thead>\n",
       "  <tbody>\n",
       "    <tr>\n",
       "      <th>4.0</th>\n",
       "      <td>ND.0003</td>\n",
       "      <td>1900-1905</td>\n",
       "      <td>Unprovoked</td>\n",
       "      <td>USA</td>\n",
       "      <td>North Carolina</td>\n",
       "      <td>Swimming</td>\n",
       "      <td>Coast Guard personnel</td>\n",
       "      <td>NaN</td>\n",
       "      <td>FATAL</td>\n",
       "      <td>Y</td>\n",
       "      <td>NaN</td>\n",
       "      <td>M</td>\n",
       "      <td>0</td>\n",
       "      <td>NaN</td>\n",
       "      <td>NaN</td>\n",
       "    </tr>\n",
       "    <tr>\n",
       "      <th>5.0</th>\n",
       "      <td>ND.0004</td>\n",
       "      <td>Before 1903</td>\n",
       "      <td>Unprovoked</td>\n",
       "      <td>AUSTRALIA</td>\n",
       "      <td>Western Australia</td>\n",
       "      <td>Pearl diving</td>\n",
       "      <td>Ahmun</td>\n",
       "      <td>NaN</td>\n",
       "      <td>FATAL</td>\n",
       "      <td>Y</td>\n",
       "      <td>NaN</td>\n",
       "      <td>M</td>\n",
       "      <td>0</td>\n",
       "      <td>NaN</td>\n",
       "      <td>NaN</td>\n",
       "    </tr>\n",
       "    <tr>\n",
       "      <th>6.0</th>\n",
       "      <td>ND.0005</td>\n",
       "      <td>Before 1903</td>\n",
       "      <td>Unprovoked</td>\n",
       "      <td>AUSTRALIA</td>\n",
       "      <td>Western Australia</td>\n",
       "      <td>Diving</td>\n",
       "      <td>male</td>\n",
       "      <td>NaN</td>\n",
       "      <td>FATAL</td>\n",
       "      <td>Y</td>\n",
       "      <td>NaN</td>\n",
       "      <td>M</td>\n",
       "      <td>0</td>\n",
       "      <td>NaN</td>\n",
       "      <td>NaN</td>\n",
       "    </tr>\n",
       "    <tr>\n",
       "      <th>7.0</th>\n",
       "      <td>ND.0006</td>\n",
       "      <td>Before 1906</td>\n",
       "      <td>Unprovoked</td>\n",
       "      <td>AUSTRALIA</td>\n",
       "      <td>New South Wales</td>\n",
       "      <td>Swimming</td>\n",
       "      <td>Arab boy</td>\n",
       "      <td>NaN</td>\n",
       "      <td>FATAL</td>\n",
       "      <td>Y</td>\n",
       "      <td>Said to involve a grey nurse shark that leapt ...</td>\n",
       "      <td>M</td>\n",
       "      <td>0</td>\n",
       "      <td>NaN</td>\n",
       "      <td>NaN</td>\n",
       "    </tr>\n",
       "    <tr>\n",
       "      <th>8.0</th>\n",
       "      <td>ND.0007</td>\n",
       "      <td>Before 1906</td>\n",
       "      <td>Unprovoked</td>\n",
       "      <td>AUSTRALIA</td>\n",
       "      <td>NaN</td>\n",
       "      <td>Fishing</td>\n",
       "      <td>fisherman</td>\n",
       "      <td>NaN</td>\n",
       "      <td>FATAL</td>\n",
       "      <td>Y</td>\n",
       "      <td>Blue pointers</td>\n",
       "      <td>M</td>\n",
       "      <td>0</td>\n",
       "      <td>NaN</td>\n",
       "      <td>NaN</td>\n",
       "    </tr>\n",
       "  </tbody>\n",
       "</table>\n",
       "</div>"
      ],
      "text/plain": [
       "               Case Number         Date        Type    Country  \\\n",
       "original order                                                   \n",
       "4.0                ND.0003    1900-1905  Unprovoked        USA   \n",
       "5.0                ND.0004  Before 1903  Unprovoked  AUSTRALIA   \n",
       "6.0                ND.0005  Before 1903  Unprovoked  AUSTRALIA   \n",
       "7.0                ND.0006  Before 1906  Unprovoked  AUSTRALIA   \n",
       "8.0                ND.0007  Before 1906  Unprovoked  AUSTRALIA   \n",
       "\n",
       "                             Area      Activity                   Name  Age  \\\n",
       "original order                                                                \n",
       "4.0                North Carolina      Swimming  Coast Guard personnel  NaN   \n",
       "5.0             Western Australia  Pearl diving                  Ahmun  NaN   \n",
       "6.0             Western Australia        Diving                   male  NaN   \n",
       "7.0               New South Wales      Swimming               Arab boy  NaN   \n",
       "8.0                           NaN       Fishing              fisherman  NaN   \n",
       "\n",
       "               Injury Fatality  \\\n",
       "original order                   \n",
       "4.0             FATAL        Y   \n",
       "5.0             FATAL        Y   \n",
       "6.0             FATAL        Y   \n",
       "7.0             FATAL        Y   \n",
       "8.0             FATAL        Y   \n",
       "\n",
       "                                                          Species Sex  year  \\\n",
       "original order                                                                \n",
       "4.0                                                           NaN   M     0   \n",
       "5.0                                                           NaN   M     0   \n",
       "6.0                                                           NaN   M     0   \n",
       "7.0             Said to involve a grey nurse shark that leapt ...   M     0   \n",
       "8.0                                                 Blue pointers   M     0   \n",
       "\n",
       "               month  day  \n",
       "original order             \n",
       "4.0              NaN  NaN  \n",
       "5.0              NaN  NaN  \n",
       "6.0              NaN  NaN  \n",
       "7.0              NaN  NaN  \n",
       "8.0              NaN  NaN  "
      ]
     },
     "execution_count": 56,
     "metadata": {},
     "output_type": "execute_result"
    }
   ],
   "source": [
    "df = dfSharks1[dfSharks1['Country'].isin(top)]\n",
    "df.head()"
   ]
  },
  {
   "cell_type": "code",
   "execution_count": 29,
   "id": "1702865b",
   "metadata": {},
   "outputs": [
    {
     "data": {
      "text/plain": [
       "array(['USA', 'AUSTRALIA', 'SOUTH AFRICA', 'Desconocido'], dtype=object)"
      ]
     },
     "execution_count": 29,
     "metadata": {},
     "output_type": "execute_result"
    }
   ],
   "source": [
    "df.Country.unique()"
   ]
  },
  {
   "cell_type": "code",
   "execution_count": 30,
   "id": "a79d4ba2",
   "metadata": {},
   "outputs": [
    {
     "name": "stdout",
     "output_type": "stream",
     "text": [
      "<class 'pandas.core.frame.DataFrame'>\n",
      "Float64Index: 0 entries\n",
      "Data columns (total 14 columns):\n",
      " #   Column       Non-Null Count  Dtype  \n",
      "---  ------       --------------  -----  \n",
      " 0   Case Number  0 non-null      object \n",
      " 1   Date         0 non-null      object \n",
      " 2   Year         0 non-null      float64\n",
      " 3   Type         0 non-null      object \n",
      " 4   Country      0 non-null      object \n",
      " 5   Area         0 non-null      object \n",
      " 6   Activity     0 non-null      object \n",
      " 7   Name         0 non-null      object \n",
      " 8   Age          0 non-null      object \n",
      " 9   Injury       0 non-null      object \n",
      " 10  Fatality     0 non-null      object \n",
      " 11  Time         0 non-null      object \n",
      " 12  Species      0 non-null      object \n",
      " 13  Sex          0 non-null      object \n",
      "dtypes: float64(1), object(13)\n",
      "memory usage: 0.0+ bytes\n"
     ]
    }
   ],
   "source": [
    "dfpais = dfSharks1[dfSharks1[\"Country\"] == ('USA','AUSTRALIA','SOUTH AFRICA', 'PAPUA NEW GUINEA')]\n",
    "dfpais.info()"
   ]
  },
  {
   "cell_type": "code",
   "execution_count": 31,
   "id": "7630d2cc",
   "metadata": {},
   "outputs": [],
   "source": [
    "dfSharks1['Full_Date'] = dfSharks1[\"Case Number\"].str.extract(r'(\\d{4}.\\d{2}.\\d{2})')\n",
    "dfSharks1[['year','month', 'day']] =  dfSharks1.Full_Date.str.split(\".\", expand=True)\n",
    "dfSharks1.year = dfSharks1.year.str.extract(r'(\\d{4})')"
   ]
  },
  {
   "cell_type": "code",
   "execution_count": 32,
   "id": "49b997f8",
   "metadata": {},
   "outputs": [
    {
     "data": {
      "text/plain": [
       "Case Number       1\n",
       "Date           2401\n",
       "Year           2403\n",
       "Type              0\n",
       "Country           0\n",
       "Area           2856\n",
       "Activity          0\n",
       "Name           2611\n",
       "Age            5232\n",
       "Injury         2429\n",
       "Fatality          0\n",
       "Time           5755\n",
       "Species        5239\n",
       "Sex               0\n",
       "Full_Date      2528\n",
       "year           2528\n",
       "month          2528\n",
       "day            2531\n",
       "dtype: int64"
      ]
     },
     "execution_count": 32,
     "metadata": {},
     "output_type": "execute_result"
    }
   ],
   "source": [
    "dfSharks1.isna().sum()"
   ]
  },
  {
   "cell_type": "code",
   "execution_count": 33,
   "id": "ddbf0678",
   "metadata": {},
   "outputs": [
    {
     "name": "stdout",
     "output_type": "stream",
     "text": [
      "<class 'pandas.core.frame.DataFrame'>\n",
      "Float64Index: 8703 entries, 2.0 to nan\n",
      "Data columns (total 18 columns):\n",
      " #   Column       Non-Null Count  Dtype  \n",
      "---  ------       --------------  -----  \n",
      " 0   Case Number  8702 non-null   object \n",
      " 1   Date         6302 non-null   object \n",
      " 2   Year         6300 non-null   float64\n",
      " 3   Type         8703 non-null   object \n",
      " 4   Country      8703 non-null   object \n",
      " 5   Area         5847 non-null   object \n",
      " 6   Activity     8703 non-null   object \n",
      " 7   Name         6092 non-null   object \n",
      " 8   Age          3471 non-null   object \n",
      " 9   Injury       6274 non-null   object \n",
      " 10  Fatality     8703 non-null   object \n",
      " 11  Time         2948 non-null   object \n",
      " 12  Species      3464 non-null   object \n",
      " 13  Sex          8703 non-null   object \n",
      " 14  Full_Date    6175 non-null   object \n",
      " 15  year         6175 non-null   object \n",
      " 16  month        6175 non-null   object \n",
      " 17  day          6172 non-null   object \n",
      "dtypes: float64(1), object(17)\n",
      "memory usage: 1.3+ MB\n"
     ]
    }
   ],
   "source": [
    "dfSharks1.info()"
   ]
  },
  {
   "cell_type": "code",
   "execution_count": 34,
   "id": "cfd82489",
   "metadata": {},
   "outputs": [
    {
     "data": {
      "text/plain": [
       "array([nan,\n",
       "       'Said to involve a grey nurse shark that leapt out of the water and  seized the boy but species identification is questionable',\n",
       "       'Blue pointers', ..., 'Tawny nurse shark, 2m', 'Invalid incident',\n",
       "       \"Lemon shark, 3'\"], dtype=object)"
      ]
     },
     "execution_count": 34,
     "metadata": {},
     "output_type": "execute_result"
    }
   ],
   "source": [
    "dfSharks1.Species.unique()"
   ]
  },
  {
   "cell_type": "code",
   "execution_count": 35,
   "id": "f4d28765",
   "metadata": {},
   "outputs": [
    {
     "data": {
      "text/plain": [
       "Case Number       1\n",
       "Date           2401\n",
       "Year           2403\n",
       "Type              0\n",
       "Country           0\n",
       "Area           2856\n",
       "Activity          0\n",
       "Name           2611\n",
       "Age            5232\n",
       "Injury         2429\n",
       "Fatality          0\n",
       "Time           5755\n",
       "Species        5239\n",
       "Sex               0\n",
       "Full_Date      2528\n",
       "year           2528\n",
       "month          2528\n",
       "day            2531\n",
       "dtype: int64"
      ]
     },
     "execution_count": 35,
     "metadata": {},
     "output_type": "execute_result"
    }
   ],
   "source": [
    "dfSharks1.isna().sum()"
   ]
  },
  {
   "cell_type": "code",
   "execution_count": 36,
   "id": "2422b26d",
   "metadata": {
    "scrolled": true
   },
   "outputs": [],
   "source": [
    "dfSharks1.year = dfSharks1.year.fillna('0')\n"
   ]
  },
  {
   "cell_type": "code",
   "execution_count": 37,
   "id": "f9808c8b",
   "metadata": {},
   "outputs": [
    {
     "data": {
      "text/plain": [
       "array(['0', '0005', '0077', '0500', '1543', '1554', '1555', '1580',\n",
       "       '1595', '1642', '1617', '1637', '1638', '1700', '1703', '1721',\n",
       "       '1723', '1733', '1738', '1742', '1748', '1755', '1749', '1751',\n",
       "       '1753', '1758', '1764', '1767', '1771', '1776', '1779', '1780',\n",
       "       '1783', '1784', '1785', '1786', '1787', '1788', '1791', '1792',\n",
       "       '1797', '1800', '1801', '1802', '1803', '1804', '1805', '1806',\n",
       "       '1807', '1808', '1810', '1811', '1812', '1815', '1816', '1817',\n",
       "       '1818', '1819', '1822', '1823', '1825', '1826', '1827', '1828',\n",
       "       '1829', '1830', '1831', '1832', '1834', '1835', '1836', '1837',\n",
       "       '1839', '1840', '1841', '1842', '1844', '1845', '1846', '1847',\n",
       "       '1848', '1849', '1850', '1851', '1852', '1853', '1855', '1856',\n",
       "       '1857', '1858', '1859', '1860', '1861', '1862', '1863', '1864',\n",
       "       '1865', '1866', '1867', '1868', '1869', '1870', '1871', '1872',\n",
       "       '1873', '1874', '1876', '1875', '1877', '1878', '1879', '1880',\n",
       "       '1881', '1882', '1883', '1884', '1885', '1886', '1887', '1888',\n",
       "       '1889', '1890', '1891', '1892', '1893', '1894', '1895', '1896',\n",
       "       '1897', '1898', '1899', '1900', '1901', '1902', '1903', '1904',\n",
       "       '1905', '1906', '1907', '1908', '1909', '1910', '1911', '1912',\n",
       "       '1913', '1914', '1915', '1916', '1917', '1918', '1919', '1920',\n",
       "       '1921', '1922', '1923', '1924', '1925', '1926', '1927', '1928',\n",
       "       '1929', '1930', '1931', '1932', '1933', '1934', '1935', '1936',\n",
       "       '1937', '1938', '1939', '1940', '1941', '1942', '1943', '1944',\n",
       "       '1945', '1946', '1947', '1948', '1949', '1950', '1951', '1952',\n",
       "       '1953', '1954', '1955', '1956', '1957', '1958', '1959', '1960',\n",
       "       '1961', '1962', '1963', '1964', '1965', '1966', '1967', '1968',\n",
       "       '1969', '1970', '1971', '1972', '1973', '1974', '1975', '1976',\n",
       "       '1977', '1978', '1979', '1980', '1981', '1982', '1983', '1984',\n",
       "       '1985', '1986', '1987', '1988', '1989', '1990', '1991', '1992',\n",
       "       '1993', '1994', '1995', '1996', '1997', '1998', '1999', '2000',\n",
       "       '2001', '2002', '2003', '2004', '2005', '2006', '2007', '2008',\n",
       "       '2009', '2010', '2011', '2012', '2013', '2014', '2015', '2016',\n",
       "       '2017', '2018'], dtype=object)"
      ]
     },
     "execution_count": 37,
     "metadata": {},
     "output_type": "execute_result"
    }
   ],
   "source": [
    "dfSharks1.year.unique()"
   ]
  },
  {
   "cell_type": "code",
   "execution_count": null,
   "id": "5d3b107e",
   "metadata": {},
   "outputs": [],
   "source": []
  },
  {
   "cell_type": "code",
   "execution_count": 38,
   "id": "63d1da97",
   "metadata": {},
   "outputs": [
    {
     "name": "stdout",
     "output_type": "stream",
     "text": [
      "1532\n"
     ]
    }
   ],
   "source": [
    "unicos = list(dfSharks1.Activity.unique())\n",
    "print(len(unicos))"
   ]
  },
  {
   "cell_type": "code",
   "execution_count": 39,
   "id": "b9886a35",
   "metadata": {
    "scrolled": true
   },
   "outputs": [
    {
     "data": {
      "text/plain": [
       "array(['15', nan, '16', '13 or 14', '50', '6', '25', '36', '27', '19',\n",
       "       '21', '20', '14', 'young', '22', '17', '52', '12', '29', '7 or 8',\n",
       "       '1', '2½', '18', '28', '26', '13', '35', '40', '39', '30', '3',\n",
       "       '11', '23', '60', '37', '33', '24', '9', 'Teen', '10', '8',\n",
       "       '31 or 33', '55', '64', '7', '43', '10 or 12', '41', '38', '47',\n",
       "       '54', '?    &   14', 'A.M.', '70', '78', '  ', '42', '50s', '49',\n",
       "       '45', '36 & 23', '32', '34', '5', '31', '53', '9 or 10', 'Both 11',\n",
       "       '48', 'F', '68', '8 or 10', '17 & 16', '46', '\"young\"', '56', '81',\n",
       "       ' 43', 'MAKE LINE GREEN', '61', '62', '2 to 3 months', '57', '59',\n",
       "       '33 & 26', '34 & 19', '13 or 18', '\"middle-age\"', 'X', '17 & 35',\n",
       "       '50 & 30', '30 & 32', '44', '21, 34,24 & 35', '58',\n",
       "       '37, 67, 35, 27,  ? & 27', '51', '25 or 28', '33 & 37', '(adult)',\n",
       "       '23 & 26', '25 to 35', '9 months', '? & 19', '63', '9 & 12', '65',\n",
       "       'adult', '18 to 22', '66', '>50', '20s', '20 ', '21 or 26', '45 ',\n",
       "       '74 ', ' ', '75', 'Ca. 33', 'mid-20s', 'Elderly', '77', '67', '87',\n",
       "       '16 to 18', '30s', '32 & 30', '69', \"60's\", '71', '20?', ' 28',\n",
       "       '7      &    31', ' 30', '23 & 20', '73', 'mid-30s', '33 or 37',\n",
       "       '21 & ?', '6½', '30 or 36', '\\xa0 ', '84', '36 & 26', 'Teens',\n",
       "       'teen', '28, 23 & 30', '46 & 34', '12 or 13', '18 or 20', '86',\n",
       "       '28 & 26', '74', '40s', '18 months', '72', '60s', '82'],\n",
       "      dtype=object)"
      ]
     },
     "execution_count": 39,
     "metadata": {},
     "output_type": "execute_result"
    }
   ],
   "source": [
    "dfSharks1.Age.unique()"
   ]
  },
  {
   "cell_type": "code",
   "execution_count": 40,
   "id": "09f6bc14",
   "metadata": {},
   "outputs": [
    {
     "data": {
      "text/html": [
       "<div>\n",
       "<style scoped>\n",
       "    .dataframe tbody tr th:only-of-type {\n",
       "        vertical-align: middle;\n",
       "    }\n",
       "\n",
       "    .dataframe tbody tr th {\n",
       "        vertical-align: top;\n",
       "    }\n",
       "\n",
       "    .dataframe thead th {\n",
       "        text-align: right;\n",
       "    }\n",
       "</style>\n",
       "<table border=\"1\" class=\"dataframe\">\n",
       "  <thead>\n",
       "    <tr style=\"text-align: right;\">\n",
       "      <th></th>\n",
       "      <th>Case Number</th>\n",
       "      <th>Date</th>\n",
       "      <th>Year</th>\n",
       "      <th>Type</th>\n",
       "      <th>Country</th>\n",
       "      <th>Area</th>\n",
       "      <th>Activity</th>\n",
       "      <th>Name</th>\n",
       "      <th>Age</th>\n",
       "      <th>Injury</th>\n",
       "      <th>Fatality</th>\n",
       "      <th>Time</th>\n",
       "      <th>Species</th>\n",
       "      <th>Sex</th>\n",
       "      <th>Full_Date</th>\n",
       "      <th>year</th>\n",
       "      <th>month</th>\n",
       "      <th>day</th>\n",
       "    </tr>\n",
       "    <tr>\n",
       "      <th>original order</th>\n",
       "      <th></th>\n",
       "      <th></th>\n",
       "      <th></th>\n",
       "      <th></th>\n",
       "      <th></th>\n",
       "      <th></th>\n",
       "      <th></th>\n",
       "      <th></th>\n",
       "      <th></th>\n",
       "      <th></th>\n",
       "      <th></th>\n",
       "      <th></th>\n",
       "      <th></th>\n",
       "      <th></th>\n",
       "      <th></th>\n",
       "      <th></th>\n",
       "      <th></th>\n",
       "      <th></th>\n",
       "    </tr>\n",
       "  </thead>\n",
       "  <tbody>\n",
       "    <tr>\n",
       "      <th>4560.0</th>\n",
       "      <td>2003.09.14.b</td>\n",
       "      <td>14-Sep-2003</td>\n",
       "      <td>2003.0</td>\n",
       "      <td>Boat</td>\n",
       "      <td>SOUTH AFRICA</td>\n",
       "      <td>Western Cape Province</td>\n",
       "      <td>Fishing</td>\n",
       "      <td>inflatable boat, occupants: Rudolf Bokelmann a...</td>\n",
       "      <td>36 &amp; 26</td>\n",
       "      <td>No injury to occupants, shark bit boat</td>\n",
       "      <td>N</td>\n",
       "      <td>09h40</td>\n",
       "      <td>2 m cow shark</td>\n",
       "      <td>Desconocido</td>\n",
       "      <td>2003.09.14</td>\n",
       "      <td>2003</td>\n",
       "      <td>09</td>\n",
       "      <td>14</td>\n",
       "    </tr>\n",
       "  </tbody>\n",
       "</table>\n",
       "</div>"
      ],
      "text/plain": [
       "                 Case Number         Date    Year  Type       Country  \\\n",
       "original order                                                          \n",
       "4560.0          2003.09.14.b  14-Sep-2003  2003.0  Boat  SOUTH AFRICA   \n",
       "\n",
       "                                 Area  Activity  \\\n",
       "original order                                    \n",
       "4560.0          Western Cape Province  Fishing    \n",
       "\n",
       "                                                             Name      Age  \\\n",
       "original order                                                               \n",
       "4560.0          inflatable boat, occupants: Rudolf Bokelmann a...  36 & 26   \n",
       "\n",
       "                                                Injury Fatality   Time  \\\n",
       "original order                                                           \n",
       "4560.0          No injury to occupants, shark bit boat        N  09h40   \n",
       "\n",
       "                      Species          Sex   Full_Date  year month day  \n",
       "original order                                                          \n",
       "4560.0          2 m cow shark  Desconocido  2003.09.14  2003    09  14  "
      ]
     },
     "execution_count": 40,
     "metadata": {},
     "output_type": "execute_result"
    }
   ],
   "source": [
    "dfSharks1[dfSharks1['Age'] == '36 & 26'].head()"
   ]
  },
  {
   "cell_type": "code",
   "execution_count": 41,
   "id": "3c836a0d",
   "metadata": {},
   "outputs": [
    {
     "data": {
      "text/plain": [
       "Case Number       1\n",
       "Date           2401\n",
       "Year           2403\n",
       "Type              0\n",
       "Country           0\n",
       "Area           2856\n",
       "Activity          0\n",
       "Name           2611\n",
       "Age            5232\n",
       "Injury         2429\n",
       "Fatality          0\n",
       "Time           5755\n",
       "Species        5239\n",
       "Sex               0\n",
       "Full_Date      2528\n",
       "year              0\n",
       "month          2528\n",
       "day            2531\n",
       "dtype: int64"
      ]
     },
     "execution_count": 41,
     "metadata": {},
     "output_type": "execute_result"
    }
   ],
   "source": [
    "dfSharks1.isna().sum()"
   ]
  },
  {
   "cell_type": "code",
   "execution_count": 42,
   "id": "ffafdc2c",
   "metadata": {},
   "outputs": [
    {
     "data": {
      "text/plain": [
       "array(['Y', 'N', 'Desconocido'], dtype=object)"
      ]
     },
     "execution_count": 42,
     "metadata": {},
     "output_type": "execute_result"
    }
   ],
   "source": [
    "dfSharks1['Fatality'].unique()"
   ]
  },
  {
   "cell_type": "code",
   "execution_count": 43,
   "id": "d1e7f313",
   "metadata": {},
   "outputs": [
    {
     "data": {
      "text/html": [
       "<div>\n",
       "<style scoped>\n",
       "    .dataframe tbody tr th:only-of-type {\n",
       "        vertical-align: middle;\n",
       "    }\n",
       "\n",
       "    .dataframe tbody tr th {\n",
       "        vertical-align: top;\n",
       "    }\n",
       "\n",
       "    .dataframe thead th {\n",
       "        text-align: right;\n",
       "    }\n",
       "</style>\n",
       "<table border=\"1\" class=\"dataframe\">\n",
       "  <thead>\n",
       "    <tr style=\"text-align: right;\">\n",
       "      <th></th>\n",
       "      <th>Case Number</th>\n",
       "      <th>Date</th>\n",
       "      <th>Year</th>\n",
       "      <th>Type</th>\n",
       "      <th>Country</th>\n",
       "      <th>Area</th>\n",
       "      <th>Activity</th>\n",
       "      <th>Name</th>\n",
       "      <th>Age</th>\n",
       "      <th>Injury</th>\n",
       "      <th>Fatality</th>\n",
       "      <th>Time</th>\n",
       "      <th>Species</th>\n",
       "      <th>Sex</th>\n",
       "      <th>Full_Date</th>\n",
       "      <th>year</th>\n",
       "      <th>month</th>\n",
       "      <th>day</th>\n",
       "    </tr>\n",
       "    <tr>\n",
       "      <th>original order</th>\n",
       "      <th></th>\n",
       "      <th></th>\n",
       "      <th></th>\n",
       "      <th></th>\n",
       "      <th></th>\n",
       "      <th></th>\n",
       "      <th></th>\n",
       "      <th></th>\n",
       "      <th></th>\n",
       "      <th></th>\n",
       "      <th></th>\n",
       "      <th></th>\n",
       "      <th></th>\n",
       "      <th></th>\n",
       "      <th></th>\n",
       "      <th></th>\n",
       "      <th></th>\n",
       "      <th></th>\n",
       "    </tr>\n",
       "  </thead>\n",
       "  <tbody>\n",
       "    <tr>\n",
       "      <th>2.0</th>\n",
       "      <td>ND.0001</td>\n",
       "      <td>1845-1853</td>\n",
       "      <td>0.0</td>\n",
       "      <td>Unprovoked</td>\n",
       "      <td>CEYLON (SRI LANKA)</td>\n",
       "      <td>Eastern Province</td>\n",
       "      <td>Swimming</td>\n",
       "      <td>male</td>\n",
       "      <td>15</td>\n",
       "      <td>FATAL. \"Shark bit him in half, carrying away t...</td>\n",
       "      <td>Y</td>\n",
       "      <td>NaN</td>\n",
       "      <td>NaN</td>\n",
       "      <td>M</td>\n",
       "      <td>NaN</td>\n",
       "      <td>0</td>\n",
       "      <td>NaN</td>\n",
       "      <td>NaN</td>\n",
       "    </tr>\n",
       "    <tr>\n",
       "      <th>3.0</th>\n",
       "      <td>ND.0002</td>\n",
       "      <td>1883-1889</td>\n",
       "      <td>0.0</td>\n",
       "      <td>Unprovoked</td>\n",
       "      <td>PANAMA</td>\n",
       "      <td>NaN</td>\n",
       "      <td>Desconocido</td>\n",
       "      <td>Jules Patterson</td>\n",
       "      <td>NaN</td>\n",
       "      <td>FATAL</td>\n",
       "      <td>Y</td>\n",
       "      <td>NaN</td>\n",
       "      <td>NaN</td>\n",
       "      <td>M</td>\n",
       "      <td>NaN</td>\n",
       "      <td>0</td>\n",
       "      <td>NaN</td>\n",
       "      <td>NaN</td>\n",
       "    </tr>\n",
       "    <tr>\n",
       "      <th>4.0</th>\n",
       "      <td>ND.0003</td>\n",
       "      <td>1900-1905</td>\n",
       "      <td>0.0</td>\n",
       "      <td>Unprovoked</td>\n",
       "      <td>USA</td>\n",
       "      <td>North Carolina</td>\n",
       "      <td>Swimming</td>\n",
       "      <td>Coast Guard personnel</td>\n",
       "      <td>NaN</td>\n",
       "      <td>FATAL</td>\n",
       "      <td>Y</td>\n",
       "      <td>NaN</td>\n",
       "      <td>NaN</td>\n",
       "      <td>M</td>\n",
       "      <td>NaN</td>\n",
       "      <td>0</td>\n",
       "      <td>NaN</td>\n",
       "      <td>NaN</td>\n",
       "    </tr>\n",
       "    <tr>\n",
       "      <th>5.0</th>\n",
       "      <td>ND.0004</td>\n",
       "      <td>Before 1903</td>\n",
       "      <td>0.0</td>\n",
       "      <td>Unprovoked</td>\n",
       "      <td>AUSTRALIA</td>\n",
       "      <td>Western Australia</td>\n",
       "      <td>Pearl diving</td>\n",
       "      <td>Ahmun</td>\n",
       "      <td>NaN</td>\n",
       "      <td>FATAL</td>\n",
       "      <td>Y</td>\n",
       "      <td>NaN</td>\n",
       "      <td>NaN</td>\n",
       "      <td>M</td>\n",
       "      <td>NaN</td>\n",
       "      <td>0</td>\n",
       "      <td>NaN</td>\n",
       "      <td>NaN</td>\n",
       "    </tr>\n",
       "    <tr>\n",
       "      <th>6.0</th>\n",
       "      <td>ND.0005</td>\n",
       "      <td>Before 1903</td>\n",
       "      <td>0.0</td>\n",
       "      <td>Unprovoked</td>\n",
       "      <td>AUSTRALIA</td>\n",
       "      <td>Western Australia</td>\n",
       "      <td>Diving</td>\n",
       "      <td>male</td>\n",
       "      <td>NaN</td>\n",
       "      <td>FATAL</td>\n",
       "      <td>Y</td>\n",
       "      <td>NaN</td>\n",
       "      <td>NaN</td>\n",
       "      <td>M</td>\n",
       "      <td>NaN</td>\n",
       "      <td>0</td>\n",
       "      <td>NaN</td>\n",
       "      <td>NaN</td>\n",
       "    </tr>\n",
       "  </tbody>\n",
       "</table>\n",
       "</div>"
      ],
      "text/plain": [
       "               Case Number         Date  Year        Type             Country  \\\n",
       "original order                                                                  \n",
       "2.0                ND.0001    1845-1853   0.0  Unprovoked  CEYLON (SRI LANKA)   \n",
       "3.0                ND.0002    1883-1889   0.0  Unprovoked              PANAMA   \n",
       "4.0                ND.0003    1900-1905   0.0  Unprovoked                 USA   \n",
       "5.0                ND.0004  Before 1903   0.0  Unprovoked           AUSTRALIA   \n",
       "6.0                ND.0005  Before 1903   0.0  Unprovoked           AUSTRALIA   \n",
       "\n",
       "                             Area      Activity                   Name  Age  \\\n",
       "original order                                                                \n",
       "2.0              Eastern Province      Swimming                   male   15   \n",
       "3.0                           NaN   Desconocido        Jules Patterson  NaN   \n",
       "4.0                North Carolina      Swimming  Coast Guard personnel  NaN   \n",
       "5.0             Western Australia  Pearl diving                  Ahmun  NaN   \n",
       "6.0             Western Australia        Diving                   male  NaN   \n",
       "\n",
       "                                                           Injury Fatality  \\\n",
       "original order                                                               \n",
       "2.0             FATAL. \"Shark bit him in half, carrying away t...        Y   \n",
       "3.0                                                         FATAL        Y   \n",
       "4.0                                                         FATAL        Y   \n",
       "5.0                                                         FATAL        Y   \n",
       "6.0                                                         FATAL        Y   \n",
       "\n",
       "               Time Species Sex Full_Date year month  day  \n",
       "original order                                             \n",
       "2.0             NaN     NaN   M       NaN    0   NaN  NaN  \n",
       "3.0             NaN     NaN   M       NaN    0   NaN  NaN  \n",
       "4.0             NaN     NaN   M       NaN    0   NaN  NaN  \n",
       "5.0             NaN     NaN   M       NaN    0   NaN  NaN  \n",
       "6.0             NaN     NaN   M       NaN    0   NaN  NaN  "
      ]
     },
     "execution_count": 43,
     "metadata": {},
     "output_type": "execute_result"
    }
   ],
   "source": [
    "dfSharks1.head()"
   ]
  },
  {
   "cell_type": "code",
   "execution_count": 44,
   "id": "86beaadd",
   "metadata": {},
   "outputs": [],
   "source": [
    "dfSharks1.drop(columns=['Time','Full_Date','Year'], inplace = True)"
   ]
  },
  {
   "cell_type": "code",
   "execution_count": 45,
   "id": "4f6218b9",
   "metadata": {},
   "outputs": [
    {
     "data": {
      "text/plain": [
       "Case Number    object\n",
       "Date           object\n",
       "Type           object\n",
       "Country        object\n",
       "Area           object\n",
       "Activity       object\n",
       "Name           object\n",
       "Age            object\n",
       "Injury         object\n",
       "Fatality       object\n",
       "Species        object\n",
       "Sex            object\n",
       "year           object\n",
       "month          object\n",
       "day            object\n",
       "dtype: object"
      ]
     },
     "execution_count": 45,
     "metadata": {},
     "output_type": "execute_result"
    }
   ],
   "source": [
    "dfSharks1.dtypes"
   ]
  },
  {
   "cell_type": "code",
   "execution_count": 46,
   "id": "ee906e1c",
   "metadata": {},
   "outputs": [],
   "source": [
    "dfSharks1[\"year\"] = dfSharks1[\"year\"].astype(int)"
   ]
  },
  {
   "cell_type": "code",
   "execution_count": 47,
   "id": "45d9fab8",
   "metadata": {},
   "outputs": [
    {
     "data": {
      "text/html": [
       "<div>\n",
       "<style scoped>\n",
       "    .dataframe tbody tr th:only-of-type {\n",
       "        vertical-align: middle;\n",
       "    }\n",
       "\n",
       "    .dataframe tbody tr th {\n",
       "        vertical-align: top;\n",
       "    }\n",
       "\n",
       "    .dataframe thead th {\n",
       "        text-align: right;\n",
       "    }\n",
       "</style>\n",
       "<table border=\"1\" class=\"dataframe\">\n",
       "  <thead>\n",
       "    <tr style=\"text-align: right;\">\n",
       "      <th></th>\n",
       "      <th>Case Number</th>\n",
       "      <th>Date</th>\n",
       "      <th>Type</th>\n",
       "      <th>Country</th>\n",
       "      <th>Area</th>\n",
       "      <th>Activity</th>\n",
       "      <th>Name</th>\n",
       "      <th>Age</th>\n",
       "      <th>Injury</th>\n",
       "      <th>Fatality</th>\n",
       "      <th>Species</th>\n",
       "      <th>Sex</th>\n",
       "      <th>year</th>\n",
       "      <th>month</th>\n",
       "      <th>day</th>\n",
       "    </tr>\n",
       "    <tr>\n",
       "      <th>original order</th>\n",
       "      <th></th>\n",
       "      <th></th>\n",
       "      <th></th>\n",
       "      <th></th>\n",
       "      <th></th>\n",
       "      <th></th>\n",
       "      <th></th>\n",
       "      <th></th>\n",
       "      <th></th>\n",
       "      <th></th>\n",
       "      <th></th>\n",
       "      <th></th>\n",
       "      <th></th>\n",
       "      <th></th>\n",
       "      <th></th>\n",
       "    </tr>\n",
       "  </thead>\n",
       "  <tbody>\n",
       "    <tr>\n",
       "      <th>1523.0</th>\n",
       "      <td>1940.00.00.b</td>\n",
       "      <td>1940</td>\n",
       "      <td>Invalid</td>\n",
       "      <td>SOUTH AFRICA</td>\n",
       "      <td>KwaZulu-Natal</td>\n",
       "      <td>Desconocido</td>\n",
       "      <td>Indian female</td>\n",
       "      <td>NaN</td>\n",
       "      <td>FATAL</td>\n",
       "      <td>Desconocido</td>\n",
       "      <td>Questionable incident</td>\n",
       "      <td>F</td>\n",
       "      <td>1940</td>\n",
       "      <td>00</td>\n",
       "      <td>00</td>\n",
       "    </tr>\n",
       "    <tr>\n",
       "      <th>4876.0</th>\n",
       "      <td>2006.09.30</td>\n",
       "      <td>30-Sep-2006</td>\n",
       "      <td>Invalid</td>\n",
       "      <td>SOUTH AFRICA</td>\n",
       "      <td>Western Cape Province</td>\n",
       "      <td>Spearfishing</td>\n",
       "      <td>Joseph Johnston</td>\n",
       "      <td>36</td>\n",
       "      <td>No injury; 4m white shark made a threat display</td>\n",
       "      <td>Desconocido</td>\n",
       "      <td>Invalid</td>\n",
       "      <td>M</td>\n",
       "      <td>2006</td>\n",
       "      <td>09</td>\n",
       "      <td>30</td>\n",
       "    </tr>\n",
       "    <tr>\n",
       "      <th>1814.0</th>\n",
       "      <td>1950.00.00.i</td>\n",
       "      <td>Summer 1950</td>\n",
       "      <td>Unprovoked</td>\n",
       "      <td>INDONESIA</td>\n",
       "      <td>Jakarta Harbour</td>\n",
       "      <td>Bending over</td>\n",
       "      <td>child</td>\n",
       "      <td>7 or 8</td>\n",
       "      <td>FATAL</td>\n",
       "      <td>Y</td>\n",
       "      <td>Tiger shark, 3.7 m to 4.3 m  [12' to 14']</td>\n",
       "      <td>M</td>\n",
       "      <td>1950</td>\n",
       "      <td>00</td>\n",
       "      <td>00</td>\n",
       "    </tr>\n",
       "    <tr>\n",
       "      <th>1519.0</th>\n",
       "      <td>1939.11.23</td>\n",
       "      <td>23-Nov-1939</td>\n",
       "      <td>Boat</td>\n",
       "      <td>AUSTRALIA</td>\n",
       "      <td>New South Wales</td>\n",
       "      <td>Desconocido</td>\n",
       "      <td>boat of Thomas Baker</td>\n",
       "      <td>NaN</td>\n",
       "      <td>No injury</td>\n",
       "      <td>N</td>\n",
       "      <td>Blue pointer, 16'</td>\n",
       "      <td>Desconocido</td>\n",
       "      <td>1939</td>\n",
       "      <td>11</td>\n",
       "      <td>23</td>\n",
       "    </tr>\n",
       "    <tr>\n",
       "      <th>5511.0</th>\n",
       "      <td>2012.05.23</td>\n",
       "      <td>23-May-2012</td>\n",
       "      <td>Unprovoked</td>\n",
       "      <td>USA</td>\n",
       "      <td>Florida</td>\n",
       "      <td>Surfing</td>\n",
       "      <td>Chad Refro</td>\n",
       "      <td>22</td>\n",
       "      <td>Lacerations to foot</td>\n",
       "      <td>N</td>\n",
       "      <td>4' to 5' shark</td>\n",
       "      <td>M</td>\n",
       "      <td>2012</td>\n",
       "      <td>05</td>\n",
       "      <td>23</td>\n",
       "    </tr>\n",
       "  </tbody>\n",
       "</table>\n",
       "</div>"
      ],
      "text/plain": [
       "                 Case Number         Date        Type       Country  \\\n",
       "original order                                                        \n",
       "1523.0          1940.00.00.b         1940     Invalid  SOUTH AFRICA   \n",
       "4876.0            2006.09.30  30-Sep-2006     Invalid  SOUTH AFRICA   \n",
       "1814.0          1950.00.00.i  Summer 1950  Unprovoked     INDONESIA   \n",
       "1519.0            1939.11.23  23-Nov-1939        Boat     AUSTRALIA   \n",
       "5511.0            2012.05.23  23-May-2012  Unprovoked           USA   \n",
       "\n",
       "                                 Area      Activity                  Name  \\\n",
       "original order                                                              \n",
       "1523.0                  KwaZulu-Natal   Desconocido         Indian female   \n",
       "4876.0          Western Cape Province  Spearfishing       Joseph Johnston   \n",
       "1814.0                Jakarta Harbour  Bending over                 child   \n",
       "1519.0                New South Wales   Desconocido  boat of Thomas Baker   \n",
       "5511.0                        Florida       Surfing            Chad Refro   \n",
       "\n",
       "                   Age                                           Injury  \\\n",
       "original order                                                            \n",
       "1523.0             NaN                                            FATAL   \n",
       "4876.0              36  No injury; 4m white shark made a threat display   \n",
       "1814.0          7 or 8                                            FATAL   \n",
       "1519.0             NaN                                        No injury   \n",
       "5511.0              22                              Lacerations to foot   \n",
       "\n",
       "                   Fatality                                    Species  \\\n",
       "original order                                                           \n",
       "1523.0          Desconocido                      Questionable incident   \n",
       "4876.0          Desconocido                                    Invalid   \n",
       "1814.0                    Y  Tiger shark, 3.7 m to 4.3 m  [12' to 14']   \n",
       "1519.0                    N                          Blue pointer, 16'   \n",
       "5511.0                    N                             4' to 5' shark   \n",
       "\n",
       "                        Sex  year month day  \n",
       "original order                               \n",
       "1523.0                    F  1940    00  00  \n",
       "4876.0                    M  2006    09  30  \n",
       "1814.0                    M  1950    00  00  \n",
       "1519.0          Desconocido  1939    11  23  \n",
       "5511.0                    M  2012    05  23  "
      ]
     },
     "execution_count": 47,
     "metadata": {},
     "output_type": "execute_result"
    }
   ],
   "source": [
    "df_year = dfSharks1[dfSharks1[\"year\"] > 1880]\n",
    "df_year.sample(5)"
   ]
  },
  {
   "cell_type": "code",
   "execution_count": 48,
   "id": "c3c9d613",
   "metadata": {},
   "outputs": [
    {
     "ename": "SyntaxError",
     "evalue": "unexpected EOF while parsing (<ipython-input-48-533a7cae101d>, line 1)",
     "output_type": "error",
     "traceback": [
      "\u001b[0;36m  File \u001b[0;32m\"<ipython-input-48-533a7cae101d>\"\u001b[0;36m, line \u001b[0;32m1\u001b[0m\n\u001b[0;31m    dfTime = pd.DataFrame(df_year.groupby(['year', \"Fatality\"])[\"Fatality\"].count()\u001b[0m\n\u001b[0m                                                                                   ^\u001b[0m\n\u001b[0;31mSyntaxError\u001b[0m\u001b[0;31m:\u001b[0m unexpected EOF while parsing\n"
     ]
    }
   ],
   "source": [
    "dfTime = pd.DataFrame(df_year.groupby(['year', \"Fatality\"])[\"Fatality\"].count()"
   ]
  },
  {
   "cell_type": "code",
   "execution_count": 49,
   "id": "1f7cd0a7",
   "metadata": {},
   "outputs": [
    {
     "ename": "NameError",
     "evalue": "name 'dfTime' is not defined",
     "output_type": "error",
     "traceback": [
      "\u001b[0;31m---------------------------------------------------------------------------\u001b[0m",
      "\u001b[0;31mNameError\u001b[0m                                 Traceback (most recent call last)",
      "\u001b[0;32m<ipython-input-49-2e857a953d7b>\u001b[0m in \u001b[0;36m<module>\u001b[0;34m\u001b[0m\n\u001b[0;32m----> 1\u001b[0;31m \u001b[0mdfTime\u001b[0m\u001b[0;34m.\u001b[0m\u001b[0mrename\u001b[0m\u001b[0;34m(\u001b[0m\u001b[0mcolumns\u001b[0m \u001b[0;34m=\u001b[0m \u001b[0;34m{\u001b[0m\u001b[0;34m'Fatality'\u001b[0m\u001b[0;34m:\u001b[0m\u001b[0;34m'Count'\u001b[0m\u001b[0;34m}\u001b[0m\u001b[0;34m,\u001b[0m \u001b[0minplace\u001b[0m \u001b[0;34m=\u001b[0m \u001b[0;32mTrue\u001b[0m\u001b[0;34m)\u001b[0m\u001b[0;34m\u001b[0m\u001b[0;34m\u001b[0m\u001b[0m\n\u001b[0m\u001b[1;32m      2\u001b[0m \u001b[0mdfTime\u001b[0m\u001b[0;34m.\u001b[0m\u001b[0mreset_index\u001b[0m\u001b[0;34m(\u001b[0m\u001b[0;34m)\u001b[0m\u001b[0;34m\u001b[0m\u001b[0;34m\u001b[0m\u001b[0m\n",
      "\u001b[0;31mNameError\u001b[0m: name 'dfTime' is not defined"
     ]
    }
   ],
   "source": [
    "dfTime.rename(columns = {'Fatality':'Count'}, inplace = True)\n",
    "dfTime.reset_index()"
   ]
  },
  {
   "cell_type": "code",
   "execution_count": 74,
   "id": "97ae4879",
   "metadata": {},
   "outputs": [],
   "source": [
    "#dfSharks1.to_csv(\"CleanShark.csv\", index = True)\n",
    "#dfTime.to_csv(\"Time-Fatality.csv\", index = True)"
   ]
  },
  {
   "cell_type": "code",
   "execution_count": 57,
   "id": "fcddde00",
   "metadata": {},
   "outputs": [],
   "source": [
    "df.to_csv('Rpaises.csv', index = True)"
   ]
  },
  {
   "cell_type": "code",
   "execution_count": 51,
   "id": "58e245db",
   "metadata": {},
   "outputs": [],
   "source": [
    "dfPaises = pd.DataFrame(top, )\n",
    "dfPaises['Ataques'] = trip\n",
    "dfPaises.columns = ['Pais','Ataques']\n",
    "dfPaises.to_csv(\"Paises.csv\", index = True)"
   ]
  },
  {
   "cell_type": "code",
   "execution_count": 53,
   "id": "5679eea7",
   "metadata": {},
   "outputs": [
    {
     "data": {
      "text/html": [
       "<div>\n",
       "<style scoped>\n",
       "    .dataframe tbody tr th:only-of-type {\n",
       "        vertical-align: middle;\n",
       "    }\n",
       "\n",
       "    .dataframe tbody tr th {\n",
       "        vertical-align: top;\n",
       "    }\n",
       "\n",
       "    .dataframe thead th {\n",
       "        text-align: right;\n",
       "    }\n",
       "</style>\n",
       "<table border=\"1\" class=\"dataframe\">\n",
       "  <thead>\n",
       "    <tr style=\"text-align: right;\">\n",
       "      <th></th>\n",
       "      <th>Pais</th>\n",
       "      <th>Ataques</th>\n",
       "    </tr>\n",
       "  </thead>\n",
       "  <tbody>\n",
       "    <tr>\n",
       "      <th>0</th>\n",
       "      <td>Desconocido</td>\n",
       "      <td>2451</td>\n",
       "    </tr>\n",
       "    <tr>\n",
       "      <th>1</th>\n",
       "      <td>USA</td>\n",
       "      <td>2229</td>\n",
       "    </tr>\n",
       "    <tr>\n",
       "      <th>2</th>\n",
       "      <td>AUSTRALIA</td>\n",
       "      <td>1338</td>\n",
       "    </tr>\n",
       "    <tr>\n",
       "      <th>3</th>\n",
       "      <td>SOUTH AFRICA</td>\n",
       "      <td>579</td>\n",
       "    </tr>\n",
       "  </tbody>\n",
       "</table>\n",
       "</div>"
      ],
      "text/plain": [
       "           Pais  Ataques\n",
       "0   Desconocido     2451\n",
       "1           USA     2229\n",
       "2     AUSTRALIA     1338\n",
       "3  SOUTH AFRICA      579"
      ]
     },
     "execution_count": 53,
     "metadata": {},
     "output_type": "execute_result"
    }
   ],
   "source": [
    "dfPaises.head()"
   ]
  },
  {
   "cell_type": "code",
   "execution_count": null,
   "id": "78e62625",
   "metadata": {},
   "outputs": [],
   "source": []
  }
 ],
 "metadata": {
  "kernelspec": {
   "display_name": "ironhack",
   "language": "python",
   "name": "ironhack"
  },
  "language_info": {
   "codemirror_mode": {
    "name": "ipython",
    "version": 3
   },
   "file_extension": ".py",
   "mimetype": "text/x-python",
   "name": "python",
   "nbconvert_exporter": "python",
   "pygments_lexer": "ipython3",
   "version": "3.8.5"
  }
 },
 "nbformat": 4,
 "nbformat_minor": 5
}
