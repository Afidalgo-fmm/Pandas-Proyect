{
 "cells": [
  {
   "cell_type": "code",
   "execution_count": 44,
   "id": "5d1849c9",
   "metadata": {},
   "outputs": [],
   "source": [
    "import pandas as pd\n",
    "import numpy as np\n",
    "from  src import CleaningFunctions as cf\n",
    "import re as r"
   ]
  },
  {
   "cell_type": "code",
   "execution_count": 2,
   "id": "f9ac6bcc",
   "metadata": {},
   "outputs": [
    {
     "data": {
      "text/html": [
       "<div>\n",
       "<style scoped>\n",
       "    .dataframe tbody tr th:only-of-type {\n",
       "        vertical-align: middle;\n",
       "    }\n",
       "\n",
       "    .dataframe tbody tr th {\n",
       "        vertical-align: top;\n",
       "    }\n",
       "\n",
       "    .dataframe thead th {\n",
       "        text-align: right;\n",
       "    }\n",
       "</style>\n",
       "<table border=\"1\" class=\"dataframe\">\n",
       "  <thead>\n",
       "    <tr style=\"text-align: right;\">\n",
       "      <th></th>\n",
       "      <th>Case Number</th>\n",
       "      <th>Date</th>\n",
       "      <th>Year</th>\n",
       "      <th>Type</th>\n",
       "      <th>Country</th>\n",
       "      <th>Area</th>\n",
       "      <th>Location</th>\n",
       "      <th>Activity</th>\n",
       "      <th>Name</th>\n",
       "      <th>Sex</th>\n",
       "      <th>...</th>\n",
       "      <th>Species</th>\n",
       "      <th>Investigator or Source</th>\n",
       "      <th>pdf</th>\n",
       "      <th>href formula</th>\n",
       "      <th>href</th>\n",
       "      <th>Case Number.1</th>\n",
       "      <th>Case Number.2</th>\n",
       "      <th>original order</th>\n",
       "      <th>Unnamed: 22</th>\n",
       "      <th>Unnamed: 23</th>\n",
       "    </tr>\n",
       "  </thead>\n",
       "  <tbody>\n",
       "    <tr>\n",
       "      <th>0</th>\n",
       "      <td>2018.06.25</td>\n",
       "      <td>25-Jun-2018</td>\n",
       "      <td>2018.0</td>\n",
       "      <td>Boating</td>\n",
       "      <td>USA</td>\n",
       "      <td>California</td>\n",
       "      <td>Oceanside, San Diego County</td>\n",
       "      <td>Paddling</td>\n",
       "      <td>Julie Wolfe</td>\n",
       "      <td>F</td>\n",
       "      <td>...</td>\n",
       "      <td>White shark</td>\n",
       "      <td>R. Collier, GSAF</td>\n",
       "      <td>2018.06.25-Wolfe.pdf</td>\n",
       "      <td>http://sharkattackfile.net/spreadsheets/pdf_di...</td>\n",
       "      <td>http://sharkattackfile.net/spreadsheets/pdf_di...</td>\n",
       "      <td>2018.06.25</td>\n",
       "      <td>2018.06.25</td>\n",
       "      <td>6303.0</td>\n",
       "      <td>NaN</td>\n",
       "      <td>NaN</td>\n",
       "    </tr>\n",
       "    <tr>\n",
       "      <th>1</th>\n",
       "      <td>2018.06.18</td>\n",
       "      <td>18-Jun-2018</td>\n",
       "      <td>2018.0</td>\n",
       "      <td>Unprovoked</td>\n",
       "      <td>USA</td>\n",
       "      <td>Georgia</td>\n",
       "      <td>St. Simon Island, Glynn County</td>\n",
       "      <td>Standing</td>\n",
       "      <td>Adyson McNeely</td>\n",
       "      <td>F</td>\n",
       "      <td>...</td>\n",
       "      <td>NaN</td>\n",
       "      <td>K.McMurray, TrackingSharks.com</td>\n",
       "      <td>2018.06.18-McNeely.pdf</td>\n",
       "      <td>http://sharkattackfile.net/spreadsheets/pdf_di...</td>\n",
       "      <td>http://sharkattackfile.net/spreadsheets/pdf_di...</td>\n",
       "      <td>2018.06.18</td>\n",
       "      <td>2018.06.18</td>\n",
       "      <td>6302.0</td>\n",
       "      <td>NaN</td>\n",
       "      <td>NaN</td>\n",
       "    </tr>\n",
       "    <tr>\n",
       "      <th>2</th>\n",
       "      <td>2018.06.09</td>\n",
       "      <td>09-Jun-2018</td>\n",
       "      <td>2018.0</td>\n",
       "      <td>Invalid</td>\n",
       "      <td>USA</td>\n",
       "      <td>Hawaii</td>\n",
       "      <td>Habush, Oahu</td>\n",
       "      <td>Surfing</td>\n",
       "      <td>John Denges</td>\n",
       "      <td>M</td>\n",
       "      <td>...</td>\n",
       "      <td>NaN</td>\n",
       "      <td>K.McMurray, TrackingSharks.com</td>\n",
       "      <td>2018.06.09-Denges.pdf</td>\n",
       "      <td>http://sharkattackfile.net/spreadsheets/pdf_di...</td>\n",
       "      <td>http://sharkattackfile.net/spreadsheets/pdf_di...</td>\n",
       "      <td>2018.06.09</td>\n",
       "      <td>2018.06.09</td>\n",
       "      <td>6301.0</td>\n",
       "      <td>NaN</td>\n",
       "      <td>NaN</td>\n",
       "    </tr>\n",
       "    <tr>\n",
       "      <th>3</th>\n",
       "      <td>2018.06.08</td>\n",
       "      <td>08-Jun-2018</td>\n",
       "      <td>2018.0</td>\n",
       "      <td>Unprovoked</td>\n",
       "      <td>AUSTRALIA</td>\n",
       "      <td>New South Wales</td>\n",
       "      <td>Arrawarra Headland</td>\n",
       "      <td>Surfing</td>\n",
       "      <td>male</td>\n",
       "      <td>M</td>\n",
       "      <td>...</td>\n",
       "      <td>2 m shark</td>\n",
       "      <td>B. Myatt, GSAF</td>\n",
       "      <td>2018.06.08-Arrawarra.pdf</td>\n",
       "      <td>http://sharkattackfile.net/spreadsheets/pdf_di...</td>\n",
       "      <td>http://sharkattackfile.net/spreadsheets/pdf_di...</td>\n",
       "      <td>2018.06.08</td>\n",
       "      <td>2018.06.08</td>\n",
       "      <td>6300.0</td>\n",
       "      <td>NaN</td>\n",
       "      <td>NaN</td>\n",
       "    </tr>\n",
       "    <tr>\n",
       "      <th>4</th>\n",
       "      <td>2018.06.04</td>\n",
       "      <td>04-Jun-2018</td>\n",
       "      <td>2018.0</td>\n",
       "      <td>Provoked</td>\n",
       "      <td>MEXICO</td>\n",
       "      <td>Colima</td>\n",
       "      <td>La Ticla</td>\n",
       "      <td>Free diving</td>\n",
       "      <td>Gustavo Ramos</td>\n",
       "      <td>M</td>\n",
       "      <td>...</td>\n",
       "      <td>Tiger shark, 3m</td>\n",
       "      <td>A .Kipper</td>\n",
       "      <td>2018.06.04-Ramos.pdf</td>\n",
       "      <td>http://sharkattackfile.net/spreadsheets/pdf_di...</td>\n",
       "      <td>http://sharkattackfile.net/spreadsheets/pdf_di...</td>\n",
       "      <td>2018.06.04</td>\n",
       "      <td>2018.06.04</td>\n",
       "      <td>6299.0</td>\n",
       "      <td>NaN</td>\n",
       "      <td>NaN</td>\n",
       "    </tr>\n",
       "  </tbody>\n",
       "</table>\n",
       "<p>5 rows × 24 columns</p>\n",
       "</div>"
      ],
      "text/plain": [
       "  Case Number         Date    Year        Type    Country             Area  \\\n",
       "0  2018.06.25  25-Jun-2018  2018.0     Boating        USA       California   \n",
       "1  2018.06.18  18-Jun-2018  2018.0  Unprovoked        USA          Georgia   \n",
       "2  2018.06.09  09-Jun-2018  2018.0     Invalid        USA           Hawaii   \n",
       "3  2018.06.08  08-Jun-2018  2018.0  Unprovoked  AUSTRALIA  New South Wales   \n",
       "4  2018.06.04  04-Jun-2018  2018.0    Provoked     MEXICO           Colima   \n",
       "\n",
       "                         Location     Activity             Name Sex   ...  \\\n",
       "0     Oceanside, San Diego County     Paddling      Julie Wolfe    F  ...   \n",
       "1  St. Simon Island, Glynn County     Standing  Adyson McNeely     F  ...   \n",
       "2                    Habush, Oahu      Surfing      John Denges    M  ...   \n",
       "3              Arrawarra Headland      Surfing             male    M  ...   \n",
       "4                        La Ticla  Free diving   Gustavo Ramos     M  ...   \n",
       "\n",
       "          Species           Investigator or Source                       pdf  \\\n",
       "0      White shark                R. Collier, GSAF      2018.06.25-Wolfe.pdf   \n",
       "1              NaN  K.McMurray, TrackingSharks.com    2018.06.18-McNeely.pdf   \n",
       "2              NaN  K.McMurray, TrackingSharks.com     2018.06.09-Denges.pdf   \n",
       "3        2 m shark                  B. Myatt, GSAF  2018.06.08-Arrawarra.pdf   \n",
       "4  Tiger shark, 3m                       A .Kipper      2018.06.04-Ramos.pdf   \n",
       "\n",
       "                                        href formula  \\\n",
       "0  http://sharkattackfile.net/spreadsheets/pdf_di...   \n",
       "1  http://sharkattackfile.net/spreadsheets/pdf_di...   \n",
       "2  http://sharkattackfile.net/spreadsheets/pdf_di...   \n",
       "3  http://sharkattackfile.net/spreadsheets/pdf_di...   \n",
       "4  http://sharkattackfile.net/spreadsheets/pdf_di...   \n",
       "\n",
       "                                                href Case Number.1  \\\n",
       "0  http://sharkattackfile.net/spreadsheets/pdf_di...    2018.06.25   \n",
       "1  http://sharkattackfile.net/spreadsheets/pdf_di...    2018.06.18   \n",
       "2  http://sharkattackfile.net/spreadsheets/pdf_di...    2018.06.09   \n",
       "3  http://sharkattackfile.net/spreadsheets/pdf_di...    2018.06.08   \n",
       "4  http://sharkattackfile.net/spreadsheets/pdf_di...    2018.06.04   \n",
       "\n",
       "  Case Number.2 original order Unnamed: 22 Unnamed: 23  \n",
       "0    2018.06.25         6303.0         NaN         NaN  \n",
       "1    2018.06.18         6302.0         NaN         NaN  \n",
       "2    2018.06.09         6301.0         NaN         NaN  \n",
       "3    2018.06.08         6300.0         NaN         NaN  \n",
       "4    2018.06.04         6299.0         NaN         NaN  \n",
       "\n",
       "[5 rows x 24 columns]"
      ]
     },
     "execution_count": 2,
     "metadata": {},
     "output_type": "execute_result"
    }
   ],
   "source": [
    "dfSharks = pd.read_csv(\"../Pandas-Proyect/data/attacks.csv\",encoding = \"ISO-8859-1\")\n",
    "dfSharks.head()"
   ]
  },
  {
   "cell_type": "code",
   "execution_count": 3,
   "id": "dc44d67a",
   "metadata": {},
   "outputs": [
    {
     "name": "stdout",
     "output_type": "stream",
     "text": [
      "<class 'pandas.core.frame.DataFrame'>\n",
      "RangeIndex: 25723 entries, 0 to 25722\n",
      "Data columns (total 24 columns):\n",
      " #   Column                  Non-Null Count  Dtype  \n",
      "---  ------                  --------------  -----  \n",
      " 0   Case Number             8702 non-null   object \n",
      " 1   Date                    6302 non-null   object \n",
      " 2   Year                    6300 non-null   float64\n",
      " 3   Type                    6298 non-null   object \n",
      " 4   Country                 6252 non-null   object \n",
      " 5   Area                    5847 non-null   object \n",
      " 6   Location                5762 non-null   object \n",
      " 7   Activity                5758 non-null   object \n",
      " 8   Name                    6092 non-null   object \n",
      " 9   Sex                     5737 non-null   object \n",
      " 10  Age                     3471 non-null   object \n",
      " 11  Injury                  6274 non-null   object \n",
      " 12  Fatal (Y/N)             5763 non-null   object \n",
      " 13  Time                    2948 non-null   object \n",
      " 14  Species                 3464 non-null   object \n",
      " 15  Investigator or Source  6285 non-null   object \n",
      " 16  pdf                     6302 non-null   object \n",
      " 17  href formula            6301 non-null   object \n",
      " 18  href                    6302 non-null   object \n",
      " 19  Case Number.1           6302 non-null   object \n",
      " 20  Case Number.2           6302 non-null   object \n",
      " 21  original order          6309 non-null   float64\n",
      " 22  Unnamed: 22             1 non-null      object \n",
      " 23  Unnamed: 23             2 non-null      object \n",
      "dtypes: float64(2), object(22)\n",
      "memory usage: 4.7+ MB\n"
     ]
    }
   ],
   "source": [
    "dfSharks.info()"
   ]
  },
  {
   "cell_type": "code",
   "execution_count": 4,
   "id": "d229c7dc",
   "metadata": {},
   "outputs": [],
   "source": [
    "dfSharks1 = dfSharks.copy()\n"
   ]
  },
  {
   "cell_type": "code",
   "execution_count": 5,
   "id": "dfe8d65d",
   "metadata": {},
   "outputs": [
    {
     "data": {
      "text/plain": [
       "Index(['Case Number', 'Date', 'Year', 'Type', 'Country', 'Area', 'Location',\n",
       "       'Activity', 'Name', 'Sex ', 'Age', 'Injury', 'Fatal (Y/N)', 'Time',\n",
       "       'Species ', 'Investigator or Source', 'pdf', 'href formula', 'href',\n",
       "       'Case Number.1', 'Case Number.2', 'original order', 'Unnamed: 22',\n",
       "       'Unnamed: 23'],\n",
       "      dtype='object')"
      ]
     },
     "execution_count": 5,
     "metadata": {},
     "output_type": "execute_result"
    }
   ],
   "source": [
    "dfSharks1.columns"
   ]
  },
  {
   "cell_type": "code",
   "execution_count": 6,
   "id": "52eff103",
   "metadata": {},
   "outputs": [],
   "source": [
    "dfSharks1 = dfSharks1.loc[:, ~dfSharks1.columns.str.contains('^Unnamed')]"
   ]
  },
  {
   "cell_type": "code",
   "execution_count": 7,
   "id": "89345faf",
   "metadata": {},
   "outputs": [],
   "source": [
    "dfSharks1 = dfSharks1.drop(columns=['Case Number.1',\"Case Number.2\",'href formula','href',''])\n"
   ]
  },
  {
   "cell_type": "code",
   "execution_count": 8,
   "id": "e9caa320",
   "metadata": {},
   "outputs": [
    {
     "data": {
      "text/plain": [
       "Index(['Case Number', 'Date', 'Year', 'Type', 'Country', 'Area', 'Location',\n",
       "       'Activity', 'Name', 'Sex ', 'Age', 'Injury', 'Fatal (Y/N)', 'Time',\n",
       "       'Species ', 'Investigator or Source', 'pdf', 'original order'],\n",
       "      dtype='object')"
      ]
     },
     "execution_count": 8,
     "metadata": {},
     "output_type": "execute_result"
    }
   ],
   "source": [
    "dfSharks1.columns"
   ]
  },
  {
   "cell_type": "code",
   "execution_count": 9,
   "id": "248ac8ec",
   "metadata": {},
   "outputs": [
    {
     "data": {
      "text/plain": [
       "Date                      19421\n",
       "Year                      19423\n",
       "Type                      19425\n",
       "Country                   19471\n",
       "Area                      19876\n",
       "Location                  19961\n",
       "Activity                  19965\n",
       "Name                      19631\n",
       "Sex                       19986\n",
       "Age                       22252\n",
       "Injury                    19449\n",
       "Fatal (Y/N)               19960\n",
       "Time                      22775\n",
       "Species                   22259\n",
       "Investigator or Source    19438\n",
       "pdf                       19421\n",
       "original order            19414\n",
       "dtype: int64"
      ]
     },
     "execution_count": 9,
     "metadata": {},
     "output_type": "execute_result"
    }
   ],
   "source": [
    "dfSharks1 = dfSharks1.set_index(\"Case Number\")\n",
    "dfSharks1.isna().sum()"
   ]
  },
  {
   "cell_type": "code",
   "execution_count": 10,
   "id": "a2d3505b",
   "metadata": {},
   "outputs": [
    {
     "data": {
      "text/plain": [
       "Date                      19421\n",
       "Year                      19423\n",
       "Type                      19425\n",
       "Country                   19471\n",
       "Area                      19876\n",
       "Location                  19961\n",
       "Activity                  19965\n",
       "Name                      19631\n",
       "Sex                       19986\n",
       "Age                       22252\n",
       "Injury                    19449\n",
       "Fatal (Y/N)               19960\n",
       "Time                      22775\n",
       "Species                   22259\n",
       "Investigator or Source    19438\n",
       "pdf                       19421\n",
       "original order            19414\n",
       "dtype: int64"
      ]
     },
     "execution_count": 10,
     "metadata": {},
     "output_type": "execute_result"
    }
   ],
   "source": [
    "dfSharks1.isna().sum()"
   ]
  },
  {
   "cell_type": "code",
   "execution_count": 11,
   "id": "f516f4ee",
   "metadata": {},
   "outputs": [],
   "source": [
    "dfSharks1 = dfSharks1.dropna(axis = 0, how = 'all')"
   ]
  },
  {
   "cell_type": "code",
   "execution_count": 12,
   "id": "ba1d6e91",
   "metadata": {},
   "outputs": [],
   "source": [
    "dfSharks1 = dfSharks1.set_index(\"original order\")"
   ]
  },
  {
   "cell_type": "code",
   "execution_count": 13,
   "id": "71738b50",
   "metadata": {},
   "outputs": [],
   "source": [
    "dfSharks1.sort_values('original order', inplace = True)"
   ]
  },
  {
   "cell_type": "code",
   "execution_count": 14,
   "id": "5e2fd8d4",
   "metadata": {},
   "outputs": [
    {
     "data": {
      "text/plain": [
       "array(['Unprovoked', 'Boat', 'Sea Disaster', 'Provoked', 'Invalid',\n",
       "       'Boating', nan, 'Boatomg', 'Questionable'], dtype=object)"
      ]
     },
     "execution_count": 14,
     "metadata": {},
     "output_type": "execute_result"
    }
   ],
   "source": [
    "dfSharks1.Type.unique()\n"
   ]
  },
  {
   "cell_type": "code",
   "execution_count": 15,
   "id": "7467fa42",
   "metadata": {},
   "outputs": [],
   "source": [
    "dfSharks1['Type'] = dfSharks1.Type.str.replace('Boating','Boat')"
   ]
  },
  {
   "cell_type": "code",
   "execution_count": 16,
   "id": "717ff1ae",
   "metadata": {},
   "outputs": [],
   "source": [
    "dfSharks1['Type'] = dfSharks1.Type.str.replace('Boatomg','Boat')"
   ]
  },
  {
   "cell_type": "code",
   "execution_count": 17,
   "id": "a9cd180b",
   "metadata": {
    "scrolled": true
   },
   "outputs": [
    {
     "data": {
      "text/plain": [
       "array(['Unprovoked', 'Boat', 'Sea Disaster', 'Provoked', 'Invalid', nan,\n",
       "       'Questionable'], dtype=object)"
      ]
     },
     "execution_count": 17,
     "metadata": {},
     "output_type": "execute_result"
    }
   ],
   "source": [
    "dfSharks1.Type.unique() "
   ]
  },
  {
   "cell_type": "code",
   "execution_count": 18,
   "id": "5db4306f",
   "metadata": {},
   "outputs": [
    {
     "data": {
      "text/html": [
       "<div>\n",
       "<style scoped>\n",
       "    .dataframe tbody tr th:only-of-type {\n",
       "        vertical-align: middle;\n",
       "    }\n",
       "\n",
       "    .dataframe tbody tr th {\n",
       "        vertical-align: top;\n",
       "    }\n",
       "\n",
       "    .dataframe thead th {\n",
       "        text-align: right;\n",
       "    }\n",
       "</style>\n",
       "<table border=\"1\" class=\"dataframe\">\n",
       "  <thead>\n",
       "    <tr style=\"text-align: right;\">\n",
       "      <th></th>\n",
       "      <th>Date</th>\n",
       "      <th>Year</th>\n",
       "      <th>Type</th>\n",
       "      <th>Country</th>\n",
       "      <th>Area</th>\n",
       "      <th>Location</th>\n",
       "      <th>Activity</th>\n",
       "      <th>Name</th>\n",
       "      <th>Sex</th>\n",
       "      <th>Age</th>\n",
       "      <th>Injury</th>\n",
       "      <th>Fatal (Y/N)</th>\n",
       "      <th>Time</th>\n",
       "      <th>Species</th>\n",
       "      <th>Investigator or Source</th>\n",
       "      <th>pdf</th>\n",
       "    </tr>\n",
       "    <tr>\n",
       "      <th>original order</th>\n",
       "      <th></th>\n",
       "      <th></th>\n",
       "      <th></th>\n",
       "      <th></th>\n",
       "      <th></th>\n",
       "      <th></th>\n",
       "      <th></th>\n",
       "      <th></th>\n",
       "      <th></th>\n",
       "      <th></th>\n",
       "      <th></th>\n",
       "      <th></th>\n",
       "      <th></th>\n",
       "      <th></th>\n",
       "      <th></th>\n",
       "      <th></th>\n",
       "    </tr>\n",
       "  </thead>\n",
       "  <tbody>\n",
       "    <tr>\n",
       "      <th>2.0</th>\n",
       "      <td>1845-1853</td>\n",
       "      <td>0.0</td>\n",
       "      <td>Unprovoked</td>\n",
       "      <td>CEYLON (SRI LANKA)</td>\n",
       "      <td>Eastern Province</td>\n",
       "      <td>Below the English fort, Trincomalee</td>\n",
       "      <td>Swimming</td>\n",
       "      <td>male</td>\n",
       "      <td>M</td>\n",
       "      <td>15</td>\n",
       "      <td>FATAL. \"Shark bit him in half, carrying away t...</td>\n",
       "      <td>Y</td>\n",
       "      <td>NaN</td>\n",
       "      <td>NaN</td>\n",
       "      <td>S.W. Baker</td>\n",
       "      <td>ND-0001-Ceylon.pdf</td>\n",
       "    </tr>\n",
       "    <tr>\n",
       "      <th>3.0</th>\n",
       "      <td>1883-1889</td>\n",
       "      <td>0.0</td>\n",
       "      <td>Unprovoked</td>\n",
       "      <td>PANAMA</td>\n",
       "      <td>NaN</td>\n",
       "      <td>Panama Bay 8ºN, 79ºW</td>\n",
       "      <td>NaN</td>\n",
       "      <td>Jules Patterson</td>\n",
       "      <td>M</td>\n",
       "      <td>NaN</td>\n",
       "      <td>FATAL</td>\n",
       "      <td>Y</td>\n",
       "      <td>NaN</td>\n",
       "      <td>NaN</td>\n",
       "      <td>The Sun, 10/20/1938</td>\n",
       "      <td>ND-0002-JulesPatterson.pdf</td>\n",
       "    </tr>\n",
       "    <tr>\n",
       "      <th>4.0</th>\n",
       "      <td>1900-1905</td>\n",
       "      <td>0.0</td>\n",
       "      <td>Unprovoked</td>\n",
       "      <td>USA</td>\n",
       "      <td>North Carolina</td>\n",
       "      <td>Ocracoke Inlet</td>\n",
       "      <td>Swimming</td>\n",
       "      <td>Coast Guard personnel</td>\n",
       "      <td>M</td>\n",
       "      <td>NaN</td>\n",
       "      <td>FATAL</td>\n",
       "      <td>Y</td>\n",
       "      <td>NaN</td>\n",
       "      <td>NaN</td>\n",
       "      <td>F. Schwartz, p.23; C. Creswell, GSAF</td>\n",
       "      <td>ND-0003-Ocracoke_1900-1905.pdf</td>\n",
       "    </tr>\n",
       "    <tr>\n",
       "      <th>5.0</th>\n",
       "      <td>Before 1903</td>\n",
       "      <td>0.0</td>\n",
       "      <td>Unprovoked</td>\n",
       "      <td>AUSTRALIA</td>\n",
       "      <td>Western Australia</td>\n",
       "      <td>NaN</td>\n",
       "      <td>Pearl diving</td>\n",
       "      <td>Ahmun</td>\n",
       "      <td>M</td>\n",
       "      <td>NaN</td>\n",
       "      <td>FATAL</td>\n",
       "      <td>Y</td>\n",
       "      <td>NaN</td>\n",
       "      <td>NaN</td>\n",
       "      <td>H. Taunton; N. Bartlett,  pp. 233-234</td>\n",
       "      <td>ND-0004-Ahmun.pdf</td>\n",
       "    </tr>\n",
       "    <tr>\n",
       "      <th>6.0</th>\n",
       "      <td>Before 1903</td>\n",
       "      <td>0.0</td>\n",
       "      <td>Unprovoked</td>\n",
       "      <td>AUSTRALIA</td>\n",
       "      <td>Western Australia</td>\n",
       "      <td>Roebuck Bay</td>\n",
       "      <td>Diving</td>\n",
       "      <td>male</td>\n",
       "      <td>M</td>\n",
       "      <td>NaN</td>\n",
       "      <td>FATAL</td>\n",
       "      <td>Y</td>\n",
       "      <td>NaN</td>\n",
       "      <td>NaN</td>\n",
       "      <td>H. Taunton; N. Bartlett,  p. 234</td>\n",
       "      <td>ND-0005-RoebuckBay.pdf</td>\n",
       "    </tr>\n",
       "  </tbody>\n",
       "</table>\n",
       "</div>"
      ],
      "text/plain": [
       "                       Date  Year        Type             Country  \\\n",
       "original order                                                      \n",
       "2.0               1845-1853   0.0  Unprovoked  CEYLON (SRI LANKA)   \n",
       "3.0               1883-1889   0.0  Unprovoked              PANAMA   \n",
       "4.0               1900-1905   0.0  Unprovoked                 USA   \n",
       "5.0             Before 1903   0.0  Unprovoked           AUSTRALIA   \n",
       "6.0             Before 1903   0.0  Unprovoked           AUSTRALIA   \n",
       "\n",
       "                             Area                             Location  \\\n",
       "original order                                                           \n",
       "2.0              Eastern Province  Below the English fort, Trincomalee   \n",
       "3.0                           NaN                 Panama Bay 8ºN, 79ºW   \n",
       "4.0                North Carolina                       Ocracoke Inlet   \n",
       "5.0             Western Australia                                  NaN   \n",
       "6.0             Western Australia                          Roebuck Bay   \n",
       "\n",
       "                    Activity                   Name Sex   Age  \\\n",
       "original order                                                  \n",
       "2.0                 Swimming                   male    M   15   \n",
       "3.0                      NaN        Jules Patterson    M  NaN   \n",
       "4.0                 Swimming  Coast Guard personnel    M  NaN   \n",
       "5.0             Pearl diving                  Ahmun    M  NaN   \n",
       "6.0                   Diving                   male    M  NaN   \n",
       "\n",
       "                                                           Injury Fatal (Y/N)  \\\n",
       "original order                                                                  \n",
       "2.0             FATAL. \"Shark bit him in half, carrying away t...           Y   \n",
       "3.0                                                         FATAL           Y   \n",
       "4.0                                                         FATAL           Y   \n",
       "5.0                                                         FATAL           Y   \n",
       "6.0                                                         FATAL           Y   \n",
       "\n",
       "               Time Species                  Investigator or Source  \\\n",
       "original order                                                        \n",
       "2.0             NaN      NaN                             S.W. Baker   \n",
       "3.0             NaN      NaN                    The Sun, 10/20/1938   \n",
       "4.0             NaN      NaN   F. Schwartz, p.23; C. Creswell, GSAF   \n",
       "5.0             NaN      NaN  H. Taunton; N. Bartlett,  pp. 233-234   \n",
       "6.0             NaN      NaN       H. Taunton; N. Bartlett,  p. 234   \n",
       "\n",
       "                                           pdf  \n",
       "original order                                  \n",
       "2.0                         ND-0001-Ceylon.pdf  \n",
       "3.0                 ND-0002-JulesPatterson.pdf  \n",
       "4.0             ND-0003-Ocracoke_1900-1905.pdf  \n",
       "5.0                          ND-0004-Ahmun.pdf  \n",
       "6.0                     ND-0005-RoebuckBay.pdf  "
      ]
     },
     "execution_count": 18,
     "metadata": {},
     "output_type": "execute_result"
    }
   ],
   "source": [
    "dfSharks1.head()"
   ]
  },
  {
   "cell_type": "code",
   "execution_count": 19,
   "id": "dbaa910b",
   "metadata": {},
   "outputs": [],
   "source": [
    "dfSharks1['Sex'] =  dfSharks1['Sex ']"
   ]
  },
  {
   "cell_type": "code",
   "execution_count": 20,
   "id": "8e344817",
   "metadata": {},
   "outputs": [],
   "source": [
    "dfSharks1.drop(['Sex '], axis = 1, inplace = True)"
   ]
  },
  {
   "cell_type": "code",
   "execution_count": 21,
   "id": "2a432d71",
   "metadata": {},
   "outputs": [
    {
     "data": {
      "text/plain": [
       "array(['M', 'F', nan, 'N', '.', 'lli', 'M '], dtype=object)"
      ]
     },
     "execution_count": 21,
     "metadata": {},
     "output_type": "execute_result"
    }
   ],
   "source": [
    "dfSharks1.Sex.unique()"
   ]
  },
  {
   "cell_type": "code",
   "execution_count": 22,
   "id": "6f3739dc",
   "metadata": {},
   "outputs": [
    {
     "name": "stderr",
     "output_type": "stream",
     "text": [
      "<ipython-input-22-315f9b60607d>:5: FutureWarning: The default value of regex will change from True to False in a future version. In addition, single character regular expressions will *not* be treated as literal strings when regex=True.\n",
      "  dfSharks1['Sex'] = dfSharks1.Sex.str.replace('.', 'Desconocido')\n"
     ]
    }
   ],
   "source": [
    "dfSharks1['Sex'] = dfSharks1.Sex.str.replace('N', 'M')\n",
    "dfSharks1['Sex'] = dfSharks1.Sex.str.strip()\n",
    "dfSharks1['Sex'] = dfSharks1.Sex.fillna('Desconocido')\n",
    "dfSharks1['Sex'] = dfSharks1.Sex.str.replace('lli', 'Desconocido')\n",
    "dfSharks1['Sex'] = dfSharks1.Sex.str.replace('.', 'Desconocido')"
   ]
  },
  {
   "cell_type": "code",
   "execution_count": 40,
   "id": "c3652cad",
   "metadata": {},
   "outputs": [],
   "source": [
    "lpaises_duplic = list(dfSharks1.Country)"
   ]
  },
  {
   "cell_type": "code",
   "execution_count": 45,
   "id": "8f2c49cb",
   "metadata": {},
   "outputs": [],
   "source": [
    "def contador(x):\n",
    "    '''\n",
    "    Esta funcion recibe una lista que la recorre para sumar las veces que se repite un elemento de la lista. Hay un dic\n",
    "    donde se guarda el elemento como key y la veces que se repite como valor\n",
    "    argumentos:\n",
    "    x = lista de donde sacar las repeticiones\n",
    "    return el dic donde sale las veces que se repite un elemento\n",
    "    '''\n",
    "    cuenta={}\n",
    "    for i in x:\n",
    "        cuenta[i] = 0\n",
    "    for i in x:\n",
    "        cuenta[i] += 1\n",
    "    return cuenta"
   ]
  },
  {
   "cell_type": "code",
   "execution_count": 49,
   "id": "18bcf88c",
   "metadata": {},
   "outputs": [
    {
     "data": {
      "text/plain": [
       "Country\n",
       " PHILIPPINES          1\n",
       " TONGA                3\n",
       "ADMIRALTY ISLANDS     1\n",
       "AFRICA                1\n",
       "ALGERIA               1\n",
       "                     ..\n",
       "VIETNAM              15\n",
       "WEST INDIES           2\n",
       "WESTERN SAMOA         1\n",
       "YEMEN                 2\n",
       "YEMEN                 7\n",
       "Length: 212, dtype: int64"
      ]
     },
     "execution_count": 49,
     "metadata": {},
     "output_type": "execute_result"
    }
   ],
   "source": [
    "duplis = dfSharks1.pivot_table(columns=['Country'], aggfunc='size')\n",
    "duplis"
   ]
  },
  {
   "cell_type": "code",
   "execution_count": 46,
   "id": "e59bd47d",
   "metadata": {},
   "outputs": [
    {
     "name": "stdout",
     "output_type": "stream",
     "text": [
      "{'CEYLON (SRI LANKA)': 1, 'PANAMA': 32, 'USA': 2229, 'AUSTRALIA': 1338, 'ASIA?': 1, 'SOUTH AFRICA': 579, 'FIJI': 62, 'VIETNAM': 15, 'REUNION': 60, 'BELIZE': 3, 'GREECE': 25, 'ITALY': 71, 'BURMA': 4, 'PAPUA NEW GUINEA': 134, 'PACIFIC OCEAN': 17, 'SAUDI ARABIA': 5, 'IRAQ': 12, 'IRAN': 29, 'SOLOMON ISLANDS': 30, nan: 57, 'KIRIBATI': 6, 'NORTH PACIFIC OCEAN': 7, 'MARSHALL ISLANDS': 13, 'CUBA': 46, 'NICARAGUA': 6, 'INDIA': 40, 'INDONESIA': 23, 'BAHAMAS': 109, 'MADAGASCAR': 8, 'BERMUDA': 16, 'SEYCHELLES': 7, 'MOZAMBIQUE': 45, 'SINGAPORE': 6, 'MEDITERRANEAN SEA': 2, 'RED SEA?': 1, 'VANUATU': 14, 'SUDAN': 4, 'FRENCH POLYNESIA': 25, 'KOREA': 1, 'BAHREIN': 1, 'VENEZUELA': 11, 'SRI LANKA': 14, 'NEW ZEALAND': 128, 'LIBYA': 6, 'DJIBOUTI': 1, 'SPAIN': 44, 'LEBANON': 3, 'URUGUAY': 4, 'KENYA': 10, 'CANADA': 12, 'MEXICO': 89, 'FRANCE': 13, 'Between PORTUGAL & INDIA': 1, 'GUINEA': 3, 'BARBADOS': 6, 'ROATAN': 1, 'ICELAND': 2, 'SWEDEN': 1, 'JAMAICA': 27, 'GREENLAND': 1, 'MARTINIQUE': 3, 'ENGLAND': 23, 'ANTIGUA': 2, 'TOBAGO': 2, 'NORWAY': 2, 'NIGERIA': 4, 'GHANA': 1, 'BRAZIL': 112, 'EGYPT': 38, 'SIERRA LEONE': 8, 'CARIBBEAN SEA': 8, 'TASMAN SEA': 1, 'WEST INDIES': 2, 'Coast of AFRICA': 1, 'ALGERIA': 1, 'NAMIBIA': 2, 'AFRICA': 1, 'PERU': 1, 'ATLANTIC OCEAN': 17, 'TONGA': 15, 'COOK ISLANDS': 1, 'EQUATORIAL GUINEA / CAMEROON': 1, 'JAPAN': 34, 'CEYLON': 3, 'ANDAMAN ISLANDS': 1, 'MAURITIUS': 10, 'CHINA': 7, 'SCOTLAND': 8, 'GUYANA': 3, 'SOUTH ATLANTIC OCEAN': 12, 'Fiji': 3, 'CROATIA': 34, 'AZORES': 5, 'INDIAN OCEAN?': 1, 'TUVALU': 1, 'HONDURAS': 4, 'INDIAN OCEAN': 7, 'NEW GUINEA': 10, 'PHILIPPINES': 61, 'SYRIA': 1, 'GEORGIA': 1, 'NEW CALEDONIA': 53, 'OCEAN': 1, 'MALTA': 5, 'PERSIAN GULF': 4, 'SAMOA': 8, 'BRITISH NEW GUINEA': 1, 'PARAGUAY': 1, 'YEMEN ': 7, 'HAITI': 3, 'CRETE': 2, 'EGYPT ': 2, 'CYPRUS': 1, 'FALKLAND ISLANDS': 1, 'REUNION ISLAND': 1, 'TUNISIA': 3, 'NORTH ATLANTIC OCEAN': 4, 'COSTA RICA': 17, 'MONTENEGRO': 3, 'KUWAIT': 1, 'IRELAND': 1, 'SAN DOMINGO': 1, 'MONACO': 1, 'TURKEY': 12, 'CAPE VERDE': 3, 'OKINAWA': 6, 'ISRAEL': 7, 'CHILE': 8, 'ITALY / CROATIA': 1, 'UNITED KINGDOM': 11, 'TRINIDAD & TOBAGO': 3, 'CURACAO': 1, 'SLOVENIA': 1, 'SOUTHWEST PACIFIC OCEAN': 2, 'MID-PACIFC OCEAN': 1, 'BAY OF BENGAL': 1, 'SOLOMON ISLANDS / VANUATU': 1, 'CENTRAL PACIFIC': 2, 'PORTUGAL': 3, 'SOUTH PACIFIC OCEAN': 2, ' PHILIPPINES': 1, 'JAVA': 1, 'IRAN / IRAQ': 1, 'HONG KONG': 24, 'TANZANIA': 8, 'SENEGAL': 11, 'NORTHERN MARIANA ISLANDS': 1, 'MID ATLANTIC OCEAN': 5, 'LIBERIA': 3, 'EL SALVADOR': 4, 'COLUMBIA': 9, 'NETHERLANDS ANTILLES': 1, 'GUATEMALA': 1, 'ARGENTINA': 1, 'SUDAN?': 1, 'THE BALKANS': 1, 'ECUADOR': 9, 'AMERICAN SAMOA': 3, 'YEMEN': 2, 'NORTH ATLANTIC OCEAN ': 1, 'MAYOTTE': 1, 'GABON': 1, 'TAIWAN': 9, 'ANDAMAN / NICOBAR ISLANDAS': 1, 'SOUTH KOREA': 8, 'MALDIVE ISLANDS': 1, 'GRENADA': 4, 'NICARAGUA ': 1, 'GUAM': 4, 'NORTH SEA': 1, 'JOHNSTON ISLAND': 2, 'RED SEA / INDIAN OCEAN': 1, 'NEW BRITAIN': 6, 'BRITISH WEST INDIES': 1, 'ADMIRALTY ISLANDS': 1, 'FEDERATED STATES OF MICRONESIA': 1, 'DOMINICAN REPUBLIC': 7, 'PALAU': 5, 'RED SEA': 1, 'PACIFIC OCEAN ': 2, 'THAILAND': 8, 'MALAYSIA': 5, 'MICRONESIA': 3, 'BRITISH ISLES': 1, 'WESTERN SAMOA': 1, 'BANGLADESH': 1, 'SOUTH CHINA SEA': 1, 'SOMALIA': 6, 'ANGOLA': 1, 'NORTHERN ARABIAN SEA': 1, 'EGYPT / ISRAEL': 1, ' TONGA': 3, 'TURKS & CAICOS': 5, 'RUSSIA': 4, 'MEXICO ': 1, 'Seychelles': 1, 'GRAND CAYMAN': 1, 'ST. MAARTIN': 1, 'Sierra Leone': 1, 'GULF OF ADEN': 1, 'BRITISH VIRGIN ISLANDS': 1, 'NEVIS': 1, 'UNITED ARAB EMIRATES (UAE)': 2, 'PALESTINIAN TERRITORIES': 1, 'DIEGO GARCIA': 1, 'CAYMAN ISLANDS': 2, 'ST. MARTIN': 1, 'PUERTO RICO': 1, 'ARUBA': 1, 'UNITED ARAB EMIRATES': 2, 'ST HELENA, British overseas territory': 2, 'COMOROS': 1, 'MALDIVES': 1}\n"
     ]
    }
   ],
   "source": []
  },
  {
   "cell_type": "code",
   "execution_count": null,
   "id": "7b861279",
   "metadata": {},
   "outputs": [],
   "source": []
  }
 ],
 "metadata": {
  "kernelspec": {
   "display_name": "ironhack",
   "language": "python",
   "name": "ironhack"
  },
  "language_info": {
   "codemirror_mode": {
    "name": "ipython",
    "version": 3
   },
   "file_extension": ".py",
   "mimetype": "text/x-python",
   "name": "python",
   "nbconvert_exporter": "python",
   "pygments_lexer": "ipython3",
   "version": "3.8.5"
  }
 },
 "nbformat": 4,
 "nbformat_minor": 5
}
